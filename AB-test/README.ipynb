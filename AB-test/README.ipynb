{
 "cells": [
  {
   "cell_type": "markdown",
   "id": "31b1cbd8",
   "metadata": {},
   "source": [
    "## ОПИСАНИЕ ПРОЕКТА\n",
    "\n",
    "Я аналитик крупного интернет магазина. Вместе с отделом маркетинга мы подготовили список гипотез для увеличения выручки. В данном исследовании мы приоритизируем гипотезы, запустим A/B-тест и проанализируем результаты. \n",
    "\n",
    "## ДАННЫЕ\n",
    "\n",
    "Датафрейм `hypothesis` содержит 9 гипотез по увеличению выручки интернет-магазина с указанными параметрами `Reach, Impact, Confidence, Effort`\n",
    "Датафрейм `orders` содержит информацию о сделанных заказах и выручке в указанную дату в указанной группе A/B-теста\n",
    "Датафрейм `visitors` содержит информацию о количестве пользователей в указанную дату в указанной группе A/B-теста\n",
    "\n",
    "\n",
    "\n",
    "\n",
    "## ИСПОЛЬЗУЕМЫЕ БИБЛИОТЕКИ\n",
    "\n",
    "pandas datetime math matplotlib.pyplot seaborn numpy scipy statistics"
   ]
  }
 ],
 "metadata": {
  "kernelspec": {
   "display_name": "Python 3 (ipykernel)",
   "language": "python",
   "name": "python3"
  },
  "language_info": {
   "codemirror_mode": {
    "name": "ipython",
    "version": 3
   },
   "file_extension": ".py",
   "mimetype": "text/x-python",
   "name": "python",
   "nbconvert_exporter": "python",
   "pygments_lexer": "ipython3",
   "version": "3.9.18"
  },
  "toc": {
   "base_numbering": 1,
   "nav_menu": {},
   "number_sections": true,
   "sideBar": true,
   "skip_h1_title": true,
   "title_cell": "Table of Contents",
   "title_sidebar": "Contents",
   "toc_cell": true,
   "toc_position": {},
   "toc_section_display": true,
   "toc_window_display": false
  }
 },
 "nbformat": 4,
 "nbformat_minor": 5
}
