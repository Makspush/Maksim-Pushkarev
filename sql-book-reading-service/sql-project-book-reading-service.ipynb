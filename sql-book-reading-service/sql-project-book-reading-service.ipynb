{
 "cells": [
  {
   "cell_type": "markdown",
   "id": "8fb6a589",
   "metadata": {
    "toc": true
   },
   "source": [
    "<h1>Table of Contents<span class=\"tocSkip\"></span></h1>\n",
    "<div class=\"toc\"><ul class=\"toc-item\"><li><span><a href=\"#Описание,-цели-и-задачи-исследования\" data-toc-modified-id=\"Описание,-цели-и-задачи-исследования-1\"><span class=\"toc-item-num\">1&nbsp;&nbsp;</span>Описание, цели и задачи исследования</a></span></li><li><span><a href=\"#Знакомство-с-данными\" data-toc-modified-id=\"Знакомство-с-данными-2\"><span class=\"toc-item-num\">2&nbsp;&nbsp;</span>Знакомство с данными</a></span></li><li><span><a href=\"#Посчитаем-сколько-книг-вышло-после-1-января-2000-года\" data-toc-modified-id=\"Посчитаем-сколько-книг-вышло-после-1-января-2000-года-3\"><span class=\"toc-item-num\">3&nbsp;&nbsp;</span>Посчитаем сколько книг вышло после 1 января 2000 года</a></span></li><li><span><a href=\"#Для-каждой-книги-посчитаем-количество-обзоров-и-среднюю-оценку\" data-toc-modified-id=\"Для-каждой-книги-посчитаем-количество-обзоров-и-среднюю-оценку-4\"><span class=\"toc-item-num\">4&nbsp;&nbsp;</span>Для каждой книги посчитаем количество обзоров и среднюю оценку</a></span></li><li><span><a href=\"#Определим-издательство,-которое-выпустило-наибольшее-число-книг-толще-50-страниц-—-так-мы-исключим-из-анализа-брошюры\" data-toc-modified-id=\"Определим-издательство,-которое-выпустило-наибольшее-число-книг-толще-50-страниц-—-так-мы-исключим-из-анализа-брошюры-5\"><span class=\"toc-item-num\">5&nbsp;&nbsp;</span>Определим издательство, которое выпустило наибольшее число книг толще 50 страниц — так мы исключим из анализа брошюры</a></span></li><li><span><a href=\"#Определим-автора-с-самой-высокой-средней-оценкой-книг-—-учитем-только-книги-с-50-и-более-оценками\" data-toc-modified-id=\"Определим-автора-с-самой-высокой-средней-оценкой-книг-—-учитем-только-книги-с-50-и-более-оценками-6\"><span class=\"toc-item-num\">6&nbsp;&nbsp;</span>Определим автора с самой высокой средней оценкой книг — учитем только книги с 50 и более оценками</a></span></li><li><span><a href=\"#Посчитаем-среднее-количество-обзоров-от-пользователей,-которые-поставили-больше-48-оценок.\" data-toc-modified-id=\"Посчитаем-среднее-количество-обзоров-от-пользователей,-которые-поставили-больше-48-оценок.-7\"><span class=\"toc-item-num\">7&nbsp;&nbsp;</span>Посчитаем среднее количество обзоров от пользователей, которые поставили больше 48 оценок.</a></span></li><li><span><a href=\"#выводы\" data-toc-modified-id=\"выводы-8\"><span class=\"toc-item-num\">8&nbsp;&nbsp;</span>выводы</a></span></li></ul></div>"
   ]
  },
  {
   "cell_type": "markdown",
   "id": "147e9f17",
   "metadata": {},
   "source": [
    "# Исседование сервиса для чтения книг по подписке"
   ]
  },
  {
   "cell_type": "markdown",
   "id": "56880967",
   "metadata": {},
   "source": [
    "## Описание, цели и задачи исследования"
   ]
  },
  {
   "cell_type": "markdown",
   "id": "5fabdd48",
   "metadata": {},
   "source": [
    "Коронавирус застал мир врасплох, изменив привычный порядок вещей. В свободное время жители городов больше не выходят на улицу, не посещают кафе и торговые центры. Зато стало больше времени для книг. Это заметили стартаперы — и бросились создавать приложения для тех, кто любит читать.\n",
    "\n",
    "Наша компания решила быть на волне и купила крупный сервис для чтения книг по подписке. Наша задача — проанализировать базу данных. В ней — информация о книгах, издательствах, авторах, а также пользовательские обзоры книг. Эти данные помогут сформулировать ценностное предложение для нового продукта.\n",
    "\n",
    "Ход работы:\n",
    "1. Для начала подключить библиотеки, чтобы можно использовать язык запросов SQL и загрузим базу данных\n",
    "1. Познакомимся с данными и посчитаем сколько строк в каждой таблице.\n",
    "2. В рамках исседования отетим на следующие вопросы:\n",
    "- Посчитайте, сколько книг вышло после 1 января 2000 года;\n",
    "- Для каждой книги посчитайте количество обзоров и среднюю оценку;\n",
    "- Определите издательство, которое выпустило наибольшее число книг толще 50 страниц — так вы исключите из анализа брошюры;\n",
    "- Определите автора с самой высокой средней оценкой книг — учитывайте только книги с 50 и более оценками;\n",
    "- Посчитайте среднее количество обзоров от пользователей, которые поставили больше 48 оценок.\n",
    "4. Сформулируем выводы"
   ]
  },
  {
   "cell_type": "markdown",
   "id": "c33da062",
   "metadata": {},
   "source": [
    "## Знакомство с данными"
   ]
  },
  {
   "cell_type": "code",
   "execution_count": 1,
   "id": "0060fdc6",
   "metadata": {},
   "outputs": [],
   "source": [
    "# импортируем библиотеки\n",
    "import pandas as pd\n",
    "import sqlalchemy as sa"
   ]
  },
  {
   "cell_type": "code",
   "execution_count": 2,
   "id": "b21e7f8e",
   "metadata": {},
   "outputs": [],
   "source": [
    "# устанавливаем параметры\n",
    "db_config = {\n",
    "'user': 'praktikum_student', # имя пользователя\n",
    "'pwd': 'Sdf4$2;d-d30pp', # пароль\n",
    "'host': 'rc1b-wcoijxj3yxfsf3fs.mdb.yandexcloud.net',\n",
    "'port': 6432, # порт подключения\n",
    "'db': 'data-analyst-final-project-db' # название базы данных\n",
    "}"
   ]
  },
  {
   "cell_type": "code",
   "execution_count": 3,
   "id": "0f322396",
   "metadata": {},
   "outputs": [],
   "source": [
    "connection_string = 'postgresql://{user}:{pwd}@{host}:{port}/{db}'.format(**db_config)"
   ]
  },
  {
   "cell_type": "code",
   "execution_count": 4,
   "id": "10a6449a",
   "metadata": {},
   "outputs": [],
   "source": [
    "engine = sa.create_engine(connection_string, connect_args={'sslmode':'require'})"
   ]
  },
  {
   "cell_type": "code",
   "execution_count": 5,
   "id": "7cfc19d9",
   "metadata": {},
   "outputs": [],
   "source": [
    "# чтобы выполнить SQL-запрос, пишем функцию с использованием Pandas\n",
    "def get_sql_data(query:str, engine:sa.engine.base.Engine=engine) -> pd.DataFrame:\n",
    "    '''Открываем соединение, получаем данные из sql, закрываем соединение'''\n",
    "    with engine.connect() as con:\n",
    "        return pd.read_sql(sql=sa.text(query), con = con)"
   ]
  },
  {
   "cell_type": "markdown",
   "id": "a4d8e2a1",
   "metadata": {},
   "source": [
    "Выведем по одной строчке для каждой таблицы, а также посчитаем общее количество строк"
   ]
  },
  {
   "cell_type": "code",
   "execution_count": 6,
   "id": "8bf28372",
   "metadata": {
    "scrolled": true
   },
   "outputs": [
    {
     "data": {
      "text/html": [
       "<div>\n",
       "<style scoped>\n",
       "    .dataframe tbody tr th:only-of-type {\n",
       "        vertical-align: middle;\n",
       "    }\n",
       "\n",
       "    .dataframe tbody tr th {\n",
       "        vertical-align: top;\n",
       "    }\n",
       "\n",
       "    .dataframe thead th {\n",
       "        text-align: right;\n",
       "    }\n",
       "</style>\n",
       "<table border=\"1\" class=\"dataframe\">\n",
       "  <thead>\n",
       "    <tr style=\"text-align: right;\">\n",
       "      <th></th>\n",
       "      <th>book_id</th>\n",
       "      <th>author_id</th>\n",
       "      <th>title</th>\n",
       "      <th>num_pages</th>\n",
       "      <th>publication_date</th>\n",
       "      <th>publisher_id</th>\n",
       "    </tr>\n",
       "  </thead>\n",
       "  <tbody>\n",
       "    <tr>\n",
       "      <th>0</th>\n",
       "      <td>1</td>\n",
       "      <td>546</td>\n",
       "      <td>'Salem's Lot</td>\n",
       "      <td>594</td>\n",
       "      <td>2005-11-01</td>\n",
       "      <td>93</td>\n",
       "    </tr>\n",
       "  </tbody>\n",
       "</table>\n",
       "</div>"
      ],
      "text/plain": [
       "   book_id  author_id         title  num_pages publication_date  publisher_id\n",
       "0        1        546  'Salem's Lot        594       2005-11-01            93"
      ]
     },
     "execution_count": 6,
     "metadata": {},
     "output_type": "execute_result"
    }
   ],
   "source": [
    "# формируем запрос и выводим данные\n",
    "query = '''\n",
    "SELECT *\n",
    "FROM books \n",
    "LIMIT 1\n",
    "'''\n",
    "get_sql_data(query)"
   ]
  },
  {
   "cell_type": "markdown",
   "id": "e8c5a368",
   "metadata": {},
   "source": [
    "- book_id — идентификатор книги;\n",
    "- author_id — идентификатор автора;\n",
    "- title — название книги;\n",
    "- num_pages — количество страниц;\n",
    "- publication_date — дата публикации книги;\n",
    "- publisher_id — идентификатор издателя."
   ]
  },
  {
   "cell_type": "code",
   "execution_count": 7,
   "id": "629d852e",
   "metadata": {},
   "outputs": [
    {
     "data": {
      "text/html": [
       "<div>\n",
       "<style scoped>\n",
       "    .dataframe tbody tr th:only-of-type {\n",
       "        vertical-align: middle;\n",
       "    }\n",
       "\n",
       "    .dataframe tbody tr th {\n",
       "        vertical-align: top;\n",
       "    }\n",
       "\n",
       "    .dataframe thead th {\n",
       "        text-align: right;\n",
       "    }\n",
       "</style>\n",
       "<table border=\"1\" class=\"dataframe\">\n",
       "  <thead>\n",
       "    <tr style=\"text-align: right;\">\n",
       "      <th></th>\n",
       "      <th>total_rows</th>\n",
       "    </tr>\n",
       "  </thead>\n",
       "  <tbody>\n",
       "    <tr>\n",
       "      <th>0</th>\n",
       "      <td>1000</td>\n",
       "    </tr>\n",
       "  </tbody>\n",
       "</table>\n",
       "</div>"
      ],
      "text/plain": [
       "   total_rows\n",
       "0        1000"
      ]
     },
     "execution_count": 7,
     "metadata": {},
     "output_type": "execute_result"
    }
   ],
   "source": [
    "query = '''\n",
    "SELECT COUNT(*) AS total_rows\n",
    "FROM books \n",
    "\n",
    "'''\n",
    "get_sql_data(query)"
   ]
  },
  {
   "cell_type": "markdown",
   "id": "2590c19e",
   "metadata": {},
   "source": [
    "Всего у нас 1000 книг"
   ]
  },
  {
   "cell_type": "code",
   "execution_count": 8,
   "id": "bdd4afac",
   "metadata": {},
   "outputs": [
    {
     "data": {
      "text/html": [
       "<div>\n",
       "<style scoped>\n",
       "    .dataframe tbody tr th:only-of-type {\n",
       "        vertical-align: middle;\n",
       "    }\n",
       "\n",
       "    .dataframe tbody tr th {\n",
       "        vertical-align: top;\n",
       "    }\n",
       "\n",
       "    .dataframe thead th {\n",
       "        text-align: right;\n",
       "    }\n",
       "</style>\n",
       "<table border=\"1\" class=\"dataframe\">\n",
       "  <thead>\n",
       "    <tr style=\"text-align: right;\">\n",
       "      <th></th>\n",
       "      <th>author_id</th>\n",
       "      <th>author</th>\n",
       "    </tr>\n",
       "  </thead>\n",
       "  <tbody>\n",
       "    <tr>\n",
       "      <th>0</th>\n",
       "      <td>1</td>\n",
       "      <td>A.S. Byatt</td>\n",
       "    </tr>\n",
       "  </tbody>\n",
       "</table>\n",
       "</div>"
      ],
      "text/plain": [
       "   author_id      author\n",
       "0          1  A.S. Byatt"
      ]
     },
     "execution_count": 8,
     "metadata": {},
     "output_type": "execute_result"
    }
   ],
   "source": [
    "query = '''\n",
    "SELECT * \n",
    "FROM authors \n",
    "LIMIT 1\n",
    "'''\n",
    "get_sql_data(query)"
   ]
  },
  {
   "cell_type": "markdown",
   "id": "c74c4f06",
   "metadata": {},
   "source": [
    "- author_id — идентификатор автора;\n",
    "- author — имя автора."
   ]
  },
  {
   "cell_type": "code",
   "execution_count": 9,
   "id": "fd362bc7",
   "metadata": {},
   "outputs": [
    {
     "data": {
      "text/html": [
       "<div>\n",
       "<style scoped>\n",
       "    .dataframe tbody tr th:only-of-type {\n",
       "        vertical-align: middle;\n",
       "    }\n",
       "\n",
       "    .dataframe tbody tr th {\n",
       "        vertical-align: top;\n",
       "    }\n",
       "\n",
       "    .dataframe thead th {\n",
       "        text-align: right;\n",
       "    }\n",
       "</style>\n",
       "<table border=\"1\" class=\"dataframe\">\n",
       "  <thead>\n",
       "    <tr style=\"text-align: right;\">\n",
       "      <th></th>\n",
       "      <th>total_rows</th>\n",
       "    </tr>\n",
       "  </thead>\n",
       "  <tbody>\n",
       "    <tr>\n",
       "      <th>0</th>\n",
       "      <td>636</td>\n",
       "    </tr>\n",
       "  </tbody>\n",
       "</table>\n",
       "</div>"
      ],
      "text/plain": [
       "   total_rows\n",
       "0         636"
      ]
     },
     "execution_count": 9,
     "metadata": {},
     "output_type": "execute_result"
    }
   ],
   "source": [
    "query = '''\n",
    "SELECT COUNT(*) AS total_rows\n",
    "FROM authors \n",
    "\n",
    "'''\n",
    "get_sql_data(query)"
   ]
  },
  {
   "cell_type": "markdown",
   "id": "5bfbd4cb",
   "metadata": {},
   "source": [
    "Авторов 636"
   ]
  },
  {
   "cell_type": "code",
   "execution_count": 10,
   "id": "3ad46f1e",
   "metadata": {},
   "outputs": [
    {
     "data": {
      "text/html": [
       "<div>\n",
       "<style scoped>\n",
       "    .dataframe tbody tr th:only-of-type {\n",
       "        vertical-align: middle;\n",
       "    }\n",
       "\n",
       "    .dataframe tbody tr th {\n",
       "        vertical-align: top;\n",
       "    }\n",
       "\n",
       "    .dataframe thead th {\n",
       "        text-align: right;\n",
       "    }\n",
       "</style>\n",
       "<table border=\"1\" class=\"dataframe\">\n",
       "  <thead>\n",
       "    <tr style=\"text-align: right;\">\n",
       "      <th></th>\n",
       "      <th>publisher_id</th>\n",
       "      <th>publisher</th>\n",
       "    </tr>\n",
       "  </thead>\n",
       "  <tbody>\n",
       "    <tr>\n",
       "      <th>0</th>\n",
       "      <td>1</td>\n",
       "      <td>Ace</td>\n",
       "    </tr>\n",
       "  </tbody>\n",
       "</table>\n",
       "</div>"
      ],
      "text/plain": [
       "   publisher_id publisher\n",
       "0             1       Ace"
      ]
     },
     "execution_count": 10,
     "metadata": {},
     "output_type": "execute_result"
    }
   ],
   "source": [
    "query = '''\n",
    "SELECT * \n",
    "FROM publishers \n",
    "LIMIT 1\n",
    "'''\n",
    "get_sql_data(query)"
   ]
  },
  {
   "cell_type": "markdown",
   "id": "6d818912",
   "metadata": {},
   "source": [
    "- publisher_id — идентификатор издательства;\n",
    "- publisher — название издательства;"
   ]
  },
  {
   "cell_type": "code",
   "execution_count": 11,
   "id": "46e6440c",
   "metadata": {},
   "outputs": [
    {
     "data": {
      "text/html": [
       "<div>\n",
       "<style scoped>\n",
       "    .dataframe tbody tr th:only-of-type {\n",
       "        vertical-align: middle;\n",
       "    }\n",
       "\n",
       "    .dataframe tbody tr th {\n",
       "        vertical-align: top;\n",
       "    }\n",
       "\n",
       "    .dataframe thead th {\n",
       "        text-align: right;\n",
       "    }\n",
       "</style>\n",
       "<table border=\"1\" class=\"dataframe\">\n",
       "  <thead>\n",
       "    <tr style=\"text-align: right;\">\n",
       "      <th></th>\n",
       "      <th>total_rows</th>\n",
       "    </tr>\n",
       "  </thead>\n",
       "  <tbody>\n",
       "    <tr>\n",
       "      <th>0</th>\n",
       "      <td>340</td>\n",
       "    </tr>\n",
       "  </tbody>\n",
       "</table>\n",
       "</div>"
      ],
      "text/plain": [
       "   total_rows\n",
       "0         340"
      ]
     },
     "execution_count": 11,
     "metadata": {},
     "output_type": "execute_result"
    }
   ],
   "source": [
    "query = '''\n",
    "SELECT COUNT(*) AS total_rows\n",
    "FROM publishers  \n",
    "\n",
    "'''\n",
    "get_sql_data(query)"
   ]
  },
  {
   "cell_type": "markdown",
   "id": "42aa23ed",
   "metadata": {},
   "source": [
    "Издателей 340"
   ]
  },
  {
   "cell_type": "code",
   "execution_count": 12,
   "id": "35c4104b",
   "metadata": {},
   "outputs": [
    {
     "data": {
      "text/html": [
       "<div>\n",
       "<style scoped>\n",
       "    .dataframe tbody tr th:only-of-type {\n",
       "        vertical-align: middle;\n",
       "    }\n",
       "\n",
       "    .dataframe tbody tr th {\n",
       "        vertical-align: top;\n",
       "    }\n",
       "\n",
       "    .dataframe thead th {\n",
       "        text-align: right;\n",
       "    }\n",
       "</style>\n",
       "<table border=\"1\" class=\"dataframe\">\n",
       "  <thead>\n",
       "    <tr style=\"text-align: right;\">\n",
       "      <th></th>\n",
       "      <th>rating_id</th>\n",
       "      <th>book_id</th>\n",
       "      <th>username</th>\n",
       "      <th>rating</th>\n",
       "    </tr>\n",
       "  </thead>\n",
       "  <tbody>\n",
       "    <tr>\n",
       "      <th>0</th>\n",
       "      <td>1</td>\n",
       "      <td>1</td>\n",
       "      <td>ryanfranco</td>\n",
       "      <td>4</td>\n",
       "    </tr>\n",
       "  </tbody>\n",
       "</table>\n",
       "</div>"
      ],
      "text/plain": [
       "   rating_id  book_id    username  rating\n",
       "0          1        1  ryanfranco       4"
      ]
     },
     "execution_count": 12,
     "metadata": {},
     "output_type": "execute_result"
    }
   ],
   "source": [
    "query = '''\n",
    "SELECT * \n",
    "FROM ratings \n",
    "LIMIT 1\n",
    "'''\n",
    "get_sql_data(query)"
   ]
  },
  {
   "cell_type": "markdown",
   "id": "b91b588b",
   "metadata": {},
   "source": [
    "- rating_id — идентификатор оценки;\n",
    "- book_id — идентификатор книги;\n",
    "- username — имя пользователя, оставившего оценку;\n",
    "- rating — оценка книги."
   ]
  },
  {
   "cell_type": "code",
   "execution_count": 13,
   "id": "1499cbf1",
   "metadata": {},
   "outputs": [
    {
     "data": {
      "text/html": [
       "<div>\n",
       "<style scoped>\n",
       "    .dataframe tbody tr th:only-of-type {\n",
       "        vertical-align: middle;\n",
       "    }\n",
       "\n",
       "    .dataframe tbody tr th {\n",
       "        vertical-align: top;\n",
       "    }\n",
       "\n",
       "    .dataframe thead th {\n",
       "        text-align: right;\n",
       "    }\n",
       "</style>\n",
       "<table border=\"1\" class=\"dataframe\">\n",
       "  <thead>\n",
       "    <tr style=\"text-align: right;\">\n",
       "      <th></th>\n",
       "      <th>total_rows</th>\n",
       "    </tr>\n",
       "  </thead>\n",
       "  <tbody>\n",
       "    <tr>\n",
       "      <th>0</th>\n",
       "      <td>6456</td>\n",
       "    </tr>\n",
       "  </tbody>\n",
       "</table>\n",
       "</div>"
      ],
      "text/plain": [
       "   total_rows\n",
       "0        6456"
      ]
     },
     "execution_count": 13,
     "metadata": {},
     "output_type": "execute_result"
    }
   ],
   "source": [
    "query = '''\n",
    "SELECT COUNT(*) AS total_rows\n",
    "FROM ratings  \n",
    "\n",
    "'''\n",
    "get_sql_data(query)"
   ]
  },
  {
   "cell_type": "markdown",
   "id": "8098c5ee",
   "metadata": {},
   "source": [
    "оценок 6456"
   ]
  },
  {
   "cell_type": "code",
   "execution_count": 14,
   "id": "e03ccde3",
   "metadata": {},
   "outputs": [
    {
     "data": {
      "text/html": [
       "<div>\n",
       "<style scoped>\n",
       "    .dataframe tbody tr th:only-of-type {\n",
       "        vertical-align: middle;\n",
       "    }\n",
       "\n",
       "    .dataframe tbody tr th {\n",
       "        vertical-align: top;\n",
       "    }\n",
       "\n",
       "    .dataframe thead th {\n",
       "        text-align: right;\n",
       "    }\n",
       "</style>\n",
       "<table border=\"1\" class=\"dataframe\">\n",
       "  <thead>\n",
       "    <tr style=\"text-align: right;\">\n",
       "      <th></th>\n",
       "      <th>review_id</th>\n",
       "      <th>book_id</th>\n",
       "      <th>username</th>\n",
       "      <th>text</th>\n",
       "    </tr>\n",
       "  </thead>\n",
       "  <tbody>\n",
       "    <tr>\n",
       "      <th>0</th>\n",
       "      <td>1</td>\n",
       "      <td>1</td>\n",
       "      <td>brandtandrea</td>\n",
       "      <td>Mention society tell send professor analysis. ...</td>\n",
       "    </tr>\n",
       "  </tbody>\n",
       "</table>\n",
       "</div>"
      ],
      "text/plain": [
       "   review_id  book_id      username  \\\n",
       "0          1        1  brandtandrea   \n",
       "\n",
       "                                                text  \n",
       "0  Mention society tell send professor analysis. ...  "
      ]
     },
     "execution_count": 14,
     "metadata": {},
     "output_type": "execute_result"
    }
   ],
   "source": [
    "query = '''\n",
    "SELECT * \n",
    "FROM reviews\n",
    "LIMIT 1\n",
    "'''\n",
    "get_sql_data(query)"
   ]
  },
  {
   "cell_type": "markdown",
   "id": "adb41584",
   "metadata": {},
   "source": [
    "- review_id — идентификатор обзора;\n",
    "- book_id — идентификатор книги;\n",
    "- username — имя пользователя, написавшего обзор;\n",
    "- text — текст обзора."
   ]
  },
  {
   "cell_type": "code",
   "execution_count": 15,
   "id": "3cc04a98",
   "metadata": {
    "scrolled": true
   },
   "outputs": [
    {
     "data": {
      "text/html": [
       "<div>\n",
       "<style scoped>\n",
       "    .dataframe tbody tr th:only-of-type {\n",
       "        vertical-align: middle;\n",
       "    }\n",
       "\n",
       "    .dataframe tbody tr th {\n",
       "        vertical-align: top;\n",
       "    }\n",
       "\n",
       "    .dataframe thead th {\n",
       "        text-align: right;\n",
       "    }\n",
       "</style>\n",
       "<table border=\"1\" class=\"dataframe\">\n",
       "  <thead>\n",
       "    <tr style=\"text-align: right;\">\n",
       "      <th></th>\n",
       "      <th>total_rows</th>\n",
       "    </tr>\n",
       "  </thead>\n",
       "  <tbody>\n",
       "    <tr>\n",
       "      <th>0</th>\n",
       "      <td>2793</td>\n",
       "    </tr>\n",
       "  </tbody>\n",
       "</table>\n",
       "</div>"
      ],
      "text/plain": [
       "   total_rows\n",
       "0        2793"
      ]
     },
     "execution_count": 15,
     "metadata": {},
     "output_type": "execute_result"
    }
   ],
   "source": [
    "query = '''\n",
    "SELECT COUNT(*) AS total_rows\n",
    "FROM reviews \n",
    "\n",
    "'''\n",
    "get_sql_data(query)"
   ]
  },
  {
   "cell_type": "markdown",
   "id": "bbf24324",
   "metadata": {},
   "source": [
    "Вывод по разделу:\n",
    "1. Всего в нашем сервисе 1000 книг. Есть столбцы с названием, датой выспуска и количеством сраниц, а также уникальные идентификаторы книги, атора и издателя, являющиеся ключами.\n",
    "2. 636 автора, что меньше книг. В столбце с названием содержится полное имя и фамилия автора. Таблицы связаны  ключем с идентификатором автора.\n",
    "3. 340 издателей таблица содержит название издателя и ключ с индентификатором издателя.\n",
    "4. 6456 оцени книги с юзернеймом пользоватля, оставившего оценку. Таблица содержит идентификатор книги.\n",
    "5. 2793 отзывов. Пользователи чаще оставляют оценку, чем пишут отызв, как и должно быть. Таблица содержит идентификтор книги.\n",
    "\n",
    "База данных соответствует обозначенной структуре."
   ]
  },
  {
   "cell_type": "markdown",
   "id": "90a0d14f",
   "metadata": {},
   "source": [
    "## Посчитаем сколько книг вышло после 1 января 2000 года"
   ]
  },
  {
   "cell_type": "code",
   "execution_count": 16,
   "id": "ed4d334e",
   "metadata": {},
   "outputs": [
    {
     "data": {
      "text/html": [
       "<div>\n",
       "<style scoped>\n",
       "    .dataframe tbody tr th:only-of-type {\n",
       "        vertical-align: middle;\n",
       "    }\n",
       "\n",
       "    .dataframe tbody tr th {\n",
       "        vertical-align: top;\n",
       "    }\n",
       "\n",
       "    .dataframe thead th {\n",
       "        text-align: right;\n",
       "    }\n",
       "</style>\n",
       "<table border=\"1\" class=\"dataframe\">\n",
       "  <thead>\n",
       "    <tr style=\"text-align: right;\">\n",
       "      <th></th>\n",
       "      <th>count</th>\n",
       "    </tr>\n",
       "  </thead>\n",
       "  <tbody>\n",
       "    <tr>\n",
       "      <th>0</th>\n",
       "      <td>819</td>\n",
       "    </tr>\n",
       "  </tbody>\n",
       "</table>\n",
       "</div>"
      ],
      "text/plain": [
       "   count\n",
       "0    819"
      ]
     },
     "execution_count": 16,
     "metadata": {},
     "output_type": "execute_result"
    }
   ],
   "source": [
    "query = '''\n",
    "SELECT COUNT(book_id)\n",
    "FROM books\n",
    "WHERE  publication_date::date  > '2000-01-01'\n",
    "\n",
    "'''\n",
    "get_sql_data(query)"
   ]
  },
  {
   "cell_type": "markdown",
   "id": "4f1b27e6",
   "metadata": {},
   "source": [
    "Всего книг у на 1000 из них 819 вышли после 2000 года. Значит у нас книги современных издательств!"
   ]
  },
  {
   "cell_type": "markdown",
   "id": "876cbeb5",
   "metadata": {},
   "source": [
    "## Для каждой книги посчитаем количество обзоров и среднюю оценку"
   ]
  },
  {
   "cell_type": "code",
   "execution_count": 17,
   "id": "c890f34e",
   "metadata": {},
   "outputs": [
    {
     "data": {
      "text/html": [
       "<div>\n",
       "<style scoped>\n",
       "    .dataframe tbody tr th:only-of-type {\n",
       "        vertical-align: middle;\n",
       "    }\n",
       "\n",
       "    .dataframe tbody tr th {\n",
       "        vertical-align: top;\n",
       "    }\n",
       "\n",
       "    .dataframe thead th {\n",
       "        text-align: right;\n",
       "    }\n",
       "</style>\n",
       "<table border=\"1\" class=\"dataframe\">\n",
       "  <thead>\n",
       "    <tr style=\"text-align: right;\">\n",
       "      <th></th>\n",
       "      <th>title</th>\n",
       "      <th>avg_rating</th>\n",
       "      <th>cnt_review</th>\n",
       "    </tr>\n",
       "  </thead>\n",
       "  <tbody>\n",
       "    <tr>\n",
       "      <th>0</th>\n",
       "      <td>The Cat in the Hat and Other Dr. Seuss Favorites</td>\n",
       "      <td>5.00</td>\n",
       "      <td>NaN</td>\n",
       "    </tr>\n",
       "    <tr>\n",
       "      <th>1</th>\n",
       "      <td>A Dirty Job (Grim Reaper  #1)</td>\n",
       "      <td>5.00</td>\n",
       "      <td>4.0</td>\n",
       "    </tr>\n",
       "    <tr>\n",
       "      <th>2</th>\n",
       "      <td>Moneyball: The Art of Winning an Unfair Game</td>\n",
       "      <td>5.00</td>\n",
       "      <td>3.0</td>\n",
       "    </tr>\n",
       "    <tr>\n",
       "      <th>3</th>\n",
       "      <td>School's Out—Forever (Maximum Ride  #2)</td>\n",
       "      <td>5.00</td>\n",
       "      <td>3.0</td>\n",
       "    </tr>\n",
       "    <tr>\n",
       "      <th>4</th>\n",
       "      <td>A Fistful of Charms (The Hollows  #4)</td>\n",
       "      <td>5.00</td>\n",
       "      <td>2.0</td>\n",
       "    </tr>\n",
       "    <tr>\n",
       "      <th>...</th>\n",
       "      <td>...</td>\n",
       "      <td>...</td>\n",
       "      <td>...</td>\n",
       "    </tr>\n",
       "    <tr>\n",
       "      <th>995</th>\n",
       "      <td>The World Is Flat: A Brief History of the Twen...</td>\n",
       "      <td>2.25</td>\n",
       "      <td>3.0</td>\n",
       "    </tr>\n",
       "    <tr>\n",
       "      <th>996</th>\n",
       "      <td>Drowning Ruth</td>\n",
       "      <td>2.00</td>\n",
       "      <td>3.0</td>\n",
       "    </tr>\n",
       "    <tr>\n",
       "      <th>997</th>\n",
       "      <td>His Excellency: George Washington</td>\n",
       "      <td>2.00</td>\n",
       "      <td>2.0</td>\n",
       "    </tr>\n",
       "    <tr>\n",
       "      <th>998</th>\n",
       "      <td>Junky</td>\n",
       "      <td>2.00</td>\n",
       "      <td>2.0</td>\n",
       "    </tr>\n",
       "    <tr>\n",
       "      <th>999</th>\n",
       "      <td>Harvesting the Heart</td>\n",
       "      <td>1.50</td>\n",
       "      <td>2.0</td>\n",
       "    </tr>\n",
       "  </tbody>\n",
       "</table>\n",
       "<p>1000 rows × 3 columns</p>\n",
       "</div>"
      ],
      "text/plain": [
       "                                                 title  avg_rating  cnt_review\n",
       "0     The Cat in the Hat and Other Dr. Seuss Favorites        5.00         NaN\n",
       "1                        A Dirty Job (Grim Reaper  #1)        5.00         4.0\n",
       "2         Moneyball: The Art of Winning an Unfair Game        5.00         3.0\n",
       "3              School's Out—Forever (Maximum Ride  #2)        5.00         3.0\n",
       "4                A Fistful of Charms (The Hollows  #4)        5.00         2.0\n",
       "..                                                 ...         ...         ...\n",
       "995  The World Is Flat: A Brief History of the Twen...        2.25         3.0\n",
       "996                                      Drowning Ruth        2.00         3.0\n",
       "997                  His Excellency: George Washington        2.00         2.0\n",
       "998                                              Junky        2.00         2.0\n",
       "999                               Harvesting the Heart        1.50         2.0\n",
       "\n",
       "[1000 rows x 3 columns]"
      ]
     },
     "execution_count": 17,
     "metadata": {},
     "output_type": "execute_result"
    }
   ],
   "source": [
    "query = '''\n",
    "WITH ar AS (SELECT\n",
    "    b.book_id as id,\n",
    "    b.title AS title,\n",
    "    AVG (r.rating) OVER (PARTITION  BY b.book_id) AS avg_rating \n",
    "FROM books b\n",
    "LEFT JOIN\n",
    "ratings r ON b.book_id=r.book_id),\n",
    "tx AS (SELECT book_id as id,\n",
    "         COUNT (review_id) OVER (PARTITION  BY  book_id) AS cnt_review\n",
    "FROM reviews)\n",
    "SELECT DISTINCT ar.title,\n",
    "        ar.avg_rating,\n",
    "        tx.cnt_review\n",
    "FROM ar\n",
    "LEFT JOIN\n",
    "tx ON ar.id=tx.id\n",
    "\n",
    "ORDER BY avg_rating DESC, cnt_review DESC\n",
    "\n",
    "'''\n",
    "get_sql_data(query)"
   ]
  },
  {
   "cell_type": "markdown",
   "id": "7e9a55ca",
   "metadata": {},
   "source": [
    "Мы посчитали средние оценки и количестве обзоров на книгу. Оценки начинаются от 1.5 до 5. Книга \"грязная работа\" получила все \"пятерки\" и на нее написано 4 обзора. Так же можно увидеть, что не на все книги написаны обзоры."
   ]
  },
  {
   "cell_type": "markdown",
   "id": "7d0b8248",
   "metadata": {},
   "source": [
    "## Определим издательство, которое выпустило наибольшее число книг толще 50 страниц — так мы исключим из анализа брошюры"
   ]
  },
  {
   "cell_type": "code",
   "execution_count": 18,
   "id": "0af52e6c",
   "metadata": {},
   "outputs": [
    {
     "data": {
      "text/html": [
       "<div>\n",
       "<style scoped>\n",
       "    .dataframe tbody tr th:only-of-type {\n",
       "        vertical-align: middle;\n",
       "    }\n",
       "\n",
       "    .dataframe tbody tr th {\n",
       "        vertical-align: top;\n",
       "    }\n",
       "\n",
       "    .dataframe thead th {\n",
       "        text-align: right;\n",
       "    }\n",
       "</style>\n",
       "<table border=\"1\" class=\"dataframe\">\n",
       "  <thead>\n",
       "    <tr style=\"text-align: right;\">\n",
       "      <th></th>\n",
       "      <th>publisher</th>\n",
       "      <th>number_books</th>\n",
       "    </tr>\n",
       "  </thead>\n",
       "  <tbody>\n",
       "    <tr>\n",
       "      <th>0</th>\n",
       "      <td>Penguin Books</td>\n",
       "      <td>42</td>\n",
       "    </tr>\n",
       "  </tbody>\n",
       "</table>\n",
       "</div>"
      ],
      "text/plain": [
       "       publisher  number_books\n",
       "0  Penguin Books            42"
      ]
     },
     "execution_count": 18,
     "metadata": {},
     "output_type": "execute_result"
    }
   ],
   "source": [
    "query = '''\n",
    "SELECT DISTINCT p.publisher AS publisher,\n",
    "    COUNT (b.book_id) OVER (PARTITION  BY p.publisher) AS number_books \n",
    "FROM books b\n",
    "JOIN\n",
    "publishers p ON b.publisher_id=p.publisher_id\n",
    "WHERE b.num_pages > 50\n",
    "\n",
    "\n",
    "ORDER BY number_books DESC\n",
    "\n",
    "LIMIT 1\n",
    "'''\n",
    "get_sql_data(query)"
   ]
  },
  {
   "cell_type": "markdown",
   "id": "04f8ce6c",
   "metadata": {},
   "source": [
    "Издатель \"Penguin Books\" издал больше всего книг, в которых больше 50 страниц - 42 штуки."
   ]
  },
  {
   "cell_type": "markdown",
   "id": "fd7a3d5c",
   "metadata": {},
   "source": [
    "## Определим автора с самой высокой средней оценкой книг — учитем только книги с 50 и более оценками"
   ]
  },
  {
   "cell_type": "code",
   "execution_count": 22,
   "id": "3c655eeb",
   "metadata": {},
   "outputs": [
    {
     "data": {
      "text/html": [
       "<div>\n",
       "<style scoped>\n",
       "    .dataframe tbody tr th:only-of-type {\n",
       "        vertical-align: middle;\n",
       "    }\n",
       "\n",
       "    .dataframe tbody tr th {\n",
       "        vertical-align: top;\n",
       "    }\n",
       "\n",
       "    .dataframe thead th {\n",
       "        text-align: right;\n",
       "    }\n",
       "</style>\n",
       "<table border=\"1\" class=\"dataframe\">\n",
       "  <thead>\n",
       "    <tr style=\"text-align: right;\">\n",
       "      <th></th>\n",
       "      <th>author</th>\n",
       "      <th>avg_rating</th>\n",
       "    </tr>\n",
       "  </thead>\n",
       "  <tbody>\n",
       "    <tr>\n",
       "      <th>0</th>\n",
       "      <td>J.K. Rowling/Mary GrandPré</td>\n",
       "      <td>4.287097</td>\n",
       "    </tr>\n",
       "  </tbody>\n",
       "</table>\n",
       "</div>"
      ],
      "text/plain": [
       "                       author  avg_rating\n",
       "0  J.K. Rowling/Mary GrandPré    4.287097"
      ]
     },
     "execution_count": 22,
     "metadata": {},
     "output_type": "execute_result"
    }
   ],
   "source": [
    "query = '''\n",
    "WITH au AS (\n",
    "    SELECT b.book_id AS book_id,\n",
    "           a.author AS author\n",
    "    FROM books b\n",
    "    JOIN\n",
    "    authors a ON b.author_id = a.author_id),\n",
    "\n",
    "b AS (SELECT b.book_id AS book_id\n",
    "    FROM books b\n",
    "    JOIN\n",
    "    ratings r ON b.book_id=r.book_id\n",
    "    GROUP BY b.book_id\n",
    "    HAVING COUNT(r.rating)>=50),\n",
    "\n",
    "aub AS (SELECT b.book_id AS book_id,\n",
    "       au.author AS author\n",
    "FROM b\n",
    "LEFT JOIN \n",
    "au ON b.book_id=au.book_id)\n",
    "\n",
    "SELECT DISTINCT a.author AS author,\n",
    "    AVG (r.rating) OVER (PARTITION  BY a.author) AS avg_rating\n",
    "\n",
    "FROM aub a\n",
    "LEFT JOIN\n",
    "ratings r ON a.book_id = r.book_id\n",
    "\n",
    "ORDER BY avg_rating DESC\n",
    "\n",
    "LIMIT 1\n",
    "\n",
    "'''\n",
    "get_sql_data(query)"
   ]
  },
  {
   "cell_type": "markdown",
   "id": "d8c1b15d",
   "metadata": {},
   "source": [
    "Самый рейтинговый автор J.K. Rowling/Mary GrandPré"
   ]
  },
  {
   "cell_type": "markdown",
   "id": "ffbff8cb",
   "metadata": {},
   "source": [
    "## Посчитаем среднее количество обзоров от пользователей, которые поставили больше 48 оценок."
   ]
  },
  {
   "cell_type": "code",
   "execution_count": 20,
   "id": "8d3e4ce7",
   "metadata": {},
   "outputs": [
    {
     "data": {
      "text/html": [
       "<div>\n",
       "<style scoped>\n",
       "    .dataframe tbody tr th:only-of-type {\n",
       "        vertical-align: middle;\n",
       "    }\n",
       "\n",
       "    .dataframe tbody tr th {\n",
       "        vertical-align: top;\n",
       "    }\n",
       "\n",
       "    .dataframe thead th {\n",
       "        text-align: right;\n",
       "    }\n",
       "</style>\n",
       "<table border=\"1\" class=\"dataframe\">\n",
       "  <thead>\n",
       "    <tr style=\"text-align: right;\">\n",
       "      <th></th>\n",
       "      <th>avg_review</th>\n",
       "    </tr>\n",
       "  </thead>\n",
       "  <tbody>\n",
       "    <tr>\n",
       "      <th>0</th>\n",
       "      <td>24.0</td>\n",
       "    </tr>\n",
       "  </tbody>\n",
       "</table>\n",
       "</div>"
      ],
      "text/plain": [
       "   avg_review\n",
       "0        24.0"
      ]
     },
     "execution_count": 20,
     "metadata": {},
     "output_type": "execute_result"
    }
   ],
   "source": [
    "query = '''\n",
    "SELECT ROUND(SUM(cnt_review)/COUNT(*)) AS avg_review\n",
    "FROM(\n",
    "SELECT  DISTINCT r.username AS name,\n",
    "        COUNT(DISTINCT w.review_id) AS cnt_review\n",
    "FROM ratings r\n",
    "LEFT JOIN\n",
    "reviews w ON r.username = w.username\n",
    "GROUP BY r.username\n",
    "HAVING COUNT(DISTINCT r.rating_id)>48\n",
    ") AS A\n",
    "'''\n",
    "get_sql_data(query)"
   ]
  },
  {
   "cell_type": "markdown",
   "id": "1cffc223",
   "metadata": {},
   "source": [
    "В среднем клиенты поставившие более 48 оценок делают 24 обзора. Клиенты, которые часто оценивают фильмы очень активны в написании обзоров"
   ]
  },
  {
   "cell_type": "markdown",
   "id": "57a8f7b2",
   "metadata": {},
   "source": [
    "## выводы\n",
    "1. В нашем новом сервисе преимущественно книги современных издательств. \n",
    "2. Мы сделали список самых рейтинговых книг и количество обзоров на них. Не на все даже самые рейтинговые книги написаны обзоры. Минимальная оценка книги 1,5 максимальная 5.\n",
    "3. Издатель \"Penguin Books\" издал больше всего книг, в которых больше 50 страниц - 42 штуки.\n",
    "4. Самый рейтинговый автор J.K. Rowling/Mary GrandPré\n",
    "5. Активные пользователи в среднем оставляют 24 отзыва.\n",
    "Рекомендации\n",
    "- Продвигать наш сервис среди людей, которые ищут современных писателей.\n",
    "- Предлагать новым пользователям, рейтинговые книги с большим количеством отзывов. Например,  Dirty Job, Moneyball: The Art of Winning an Unfair Game, School's Out—Forever\n",
    "- С популярным издательством Penguin Books, можно заключить контракт с экслюзивными правами на книге по подписке, чтобы создать конкурентные преимущества\n",
    "- автора J.K. Rowling/Mary GrandPré стоит назначить амбассадором сервиса. Его очень любят наши пользователи.\n",
    "- Активным пользователям, которые оставляют больше 20 отзывов, можно делать скидки на подписку. Они будут рекламировать наши книги."
   ]
  }
 ],
 "metadata": {
  "ExecuteTimeLog": [
   {
    "duration": 504,
    "start_time": "2024-09-22T14:03:50.047Z"
   },
   {
    "duration": 3,
    "start_time": "2024-09-22T14:03:50.552Z"
   },
   {
    "duration": 25,
    "start_time": "2024-09-22T14:03:50.557Z"
   },
   {
    "duration": 7660,
    "start_time": "2024-09-22T14:03:50.584Z"
   },
   {
    "duration": 4,
    "start_time": "2024-09-22T14:03:58.245Z"
   },
   {
    "duration": 254,
    "start_time": "2024-09-22T14:03:58.251Z"
   },
   {
    "duration": 52,
    "start_time": "2024-09-22T14:03:58.508Z"
   },
   {
    "duration": 53,
    "start_time": "2024-09-22T14:03:58.562Z"
   },
   {
    "duration": 52,
    "start_time": "2024-09-22T14:03:58.617Z"
   },
   {
    "duration": 53,
    "start_time": "2024-09-22T14:03:58.672Z"
   },
   {
    "duration": 52,
    "start_time": "2024-09-22T14:03:58.727Z"
   },
   {
    "duration": 57,
    "start_time": "2024-09-22T14:03:58.781Z"
   },
   {
    "duration": 54,
    "start_time": "2024-09-22T14:03:58.840Z"
   },
   {
    "duration": 55,
    "start_time": "2024-09-22T14:03:58.895Z"
   },
   {
    "duration": 52,
    "start_time": "2024-09-22T14:03:58.952Z"
   },
   {
    "duration": 53,
    "start_time": "2024-09-22T14:03:59.006Z"
   },
   {
    "duration": 116,
    "start_time": "2024-09-22T14:03:59.060Z"
   },
   {
    "duration": 54,
    "start_time": "2024-09-22T14:03:59.178Z"
   },
   {
    "duration": 60,
    "start_time": "2024-09-22T14:03:59.234Z"
   },
   {
    "duration": 88,
    "start_time": "2024-09-22T14:03:59.296Z"
   },
   {
    "duration": 109,
    "start_time": "2024-09-22T14:04:09.969Z"
   },
   {
    "duration": 131,
    "start_time": "2024-09-22T14:04:15.260Z"
   },
   {
    "duration": 105,
    "start_time": "2024-09-22T14:04:19.299Z"
   },
   {
    "duration": 109,
    "start_time": "2024-09-22T14:04:25.582Z"
   },
   {
    "duration": 106,
    "start_time": "2024-09-22T14:04:37.174Z"
   },
   {
    "duration": 110,
    "start_time": "2024-09-22T14:04:44.267Z"
   },
   {
    "duration": 110,
    "start_time": "2024-09-22T14:04:48.599Z"
   },
   {
    "duration": 61,
    "start_time": "2024-09-22T14:05:28.807Z"
   },
   {
    "duration": 58,
    "start_time": "2024-09-22T14:05:30.258Z"
   },
   {
    "duration": 58,
    "start_time": "2024-09-22T22:03:05.932Z"
   },
   {
    "duration": 42,
    "start_time": "2024-09-22T22:04:16.008Z"
   },
   {
    "duration": 526,
    "start_time": "2024-09-22T22:04:23.007Z"
   },
   {
    "duration": 3,
    "start_time": "2024-09-22T22:04:23.534Z"
   },
   {
    "duration": 3,
    "start_time": "2024-09-22T22:04:24.668Z"
   },
   {
    "duration": 5975,
    "start_time": "2024-09-22T22:04:24.853Z"
   },
   {
    "duration": 3,
    "start_time": "2024-09-22T22:04:30.830Z"
   },
   {
    "duration": 56,
    "start_time": "2024-09-22T22:04:30.834Z"
   },
   {
    "duration": 8,
    "start_time": "2024-09-22T22:04:30.892Z"
   },
   {
    "duration": 8,
    "start_time": "2024-09-22T22:04:30.902Z"
   },
   {
    "duration": 8,
    "start_time": "2024-09-22T22:04:30.911Z"
   },
   {
    "duration": 10,
    "start_time": "2024-09-22T22:04:31.098Z"
   },
   {
    "duration": 9,
    "start_time": "2024-09-22T22:04:31.400Z"
   },
   {
    "duration": 10,
    "start_time": "2024-09-22T22:04:31.705Z"
   },
   {
    "duration": 10,
    "start_time": "2024-09-22T22:04:32.482Z"
   },
   {
    "duration": 11,
    "start_time": "2024-09-22T22:04:32.783Z"
   },
   {
    "duration": 8,
    "start_time": "2024-09-22T22:04:33.395Z"
   },
   {
    "duration": 10,
    "start_time": "2024-09-22T22:04:34.668Z"
   },
   {
    "duration": 51,
    "start_time": "2024-09-22T22:04:35.562Z"
   },
   {
    "duration": 12,
    "start_time": "2024-09-22T22:04:36.422Z"
   },
   {
    "duration": 17,
    "start_time": "2024-09-22T22:04:37.315Z"
   },
   {
    "duration": 63,
    "start_time": "2024-09-22T22:05:01.583Z"
   },
   {
    "duration": 2,
    "start_time": "2024-09-22T22:28:05.176Z"
   },
   {
    "duration": 3,
    "start_time": "2024-09-22T22:28:05.327Z"
   },
   {
    "duration": 2,
    "start_time": "2024-09-22T22:28:05.482Z"
   },
   {
    "duration": 3,
    "start_time": "2024-09-22T22:28:05.617Z"
   },
   {
    "duration": 3,
    "start_time": "2024-09-22T22:28:05.771Z"
   },
   {
    "duration": 35,
    "start_time": "2024-09-22T22:28:06.075Z"
   },
   {
    "duration": 9,
    "start_time": "2024-09-22T22:28:06.371Z"
   },
   {
    "duration": 10,
    "start_time": "2024-09-22T22:28:06.791Z"
   },
   {
    "duration": 9,
    "start_time": "2024-09-22T22:28:07.093Z"
   },
   {
    "duration": 10,
    "start_time": "2024-09-22T22:28:07.409Z"
   },
   {
    "duration": 17,
    "start_time": "2024-09-22T22:28:07.740Z"
   },
   {
    "duration": 10,
    "start_time": "2024-09-22T22:28:08.037Z"
   },
   {
    "duration": 9,
    "start_time": "2024-09-22T22:28:08.351Z"
   },
   {
    "duration": 12,
    "start_time": "2024-09-22T22:28:08.695Z"
   },
   {
    "duration": 10,
    "start_time": "2024-09-22T22:28:08.994Z"
   },
   {
    "duration": 10,
    "start_time": "2024-09-22T22:28:12.510Z"
   },
   {
    "duration": 53,
    "start_time": "2024-09-22T22:28:13.207Z"
   },
   {
    "duration": 11,
    "start_time": "2024-09-22T22:28:13.885Z"
   },
   {
    "duration": 16,
    "start_time": "2024-09-22T22:28:14.549Z"
   },
   {
    "duration": 43,
    "start_time": "2024-09-22T22:28:15.676Z"
   },
   {
    "duration": 542,
    "start_time": "2024-09-23T05:20:30.698Z"
   },
   {
    "duration": 3,
    "start_time": "2024-09-23T05:20:31.242Z"
   },
   {
    "duration": 10,
    "start_time": "2024-09-23T05:20:31.246Z"
   },
   {
    "duration": 5618,
    "start_time": "2024-09-23T05:20:31.257Z"
   },
   {
    "duration": 4,
    "start_time": "2024-09-23T05:20:36.878Z"
   },
   {
    "duration": 84,
    "start_time": "2024-09-23T05:20:36.883Z"
   },
   {
    "duration": 10,
    "start_time": "2024-09-23T05:20:36.969Z"
   },
   {
    "duration": 9,
    "start_time": "2024-09-23T05:20:36.981Z"
   },
   {
    "duration": 22,
    "start_time": "2024-09-23T05:20:36.992Z"
   },
   {
    "duration": 14,
    "start_time": "2024-09-23T05:20:37.016Z"
   },
   {
    "duration": 9,
    "start_time": "2024-09-23T05:20:37.032Z"
   },
   {
    "duration": 10,
    "start_time": "2024-09-23T05:20:37.043Z"
   },
   {
    "duration": 12,
    "start_time": "2024-09-23T05:20:37.055Z"
   },
   {
    "duration": 10,
    "start_time": "2024-09-23T05:20:37.070Z"
   },
   {
    "duration": 9,
    "start_time": "2024-09-23T05:20:37.098Z"
   },
   {
    "duration": 13,
    "start_time": "2024-09-23T05:20:37.108Z"
   },
   {
    "duration": 54,
    "start_time": "2024-09-23T05:20:37.123Z"
   },
   {
    "duration": 11,
    "start_time": "2024-09-23T05:20:37.178Z"
   },
   {
    "duration": 26,
    "start_time": "2024-09-23T05:20:37.191Z"
   },
   {
    "duration": 44,
    "start_time": "2024-09-23T05:20:37.219Z"
   },
   {
    "duration": 17,
    "start_time": "2024-09-23T05:20:42.869Z"
   },
   {
    "duration": 16,
    "start_time": "2024-09-23T05:20:45.174Z"
   }
  ],
  "kernelspec": {
   "display_name": "Python 3 (ipykernel)",
   "language": "python",
   "name": "python3"
  },
  "language_info": {
   "codemirror_mode": {
    "name": "ipython",
    "version": 3
   },
   "file_extension": ".py",
   "mimetype": "text/x-python",
   "name": "python",
   "nbconvert_exporter": "python",
   "pygments_lexer": "ipython3",
   "version": "3.9.18"
  },
  "toc": {
   "base_numbering": 1,
   "nav_menu": {},
   "number_sections": true,
   "sideBar": true,
   "skip_h1_title": true,
   "title_cell": "Table of Contents",
   "title_sidebar": "Contents",
   "toc_cell": true,
   "toc_position": {},
   "toc_section_display": true,
   "toc_window_display": false
  }
 },
 "nbformat": 4,
 "nbformat_minor": 5
}
