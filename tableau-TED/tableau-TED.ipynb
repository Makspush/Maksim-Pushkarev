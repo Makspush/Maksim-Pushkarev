{
 "cells": [
  {
   "cell_type": "markdown",
   "id": "595238b1",
   "metadata": {},
   "source": [
    "## ОПИСАНИЕ ПРОЕКТА\n",
    "\n",
    "Перед нами поставлена задача подготовить исследование рынка мест общественного питания Москвы, найти интересные особенности и презентовать полученные результаты, которые в будущем помогут в выборе подходящего инвесторам места. А также дать конеретные рекомендации инвесторам по открытию кофейни в Москве\n",
    "\n",
    "## ДАННЫЕ\n",
    "\n",
    "Нам доступен датасет с заведениями общественного питания Москвы, составленный на основе данных сервисов Яндекс Карты и Яндекс Бизнес на лето 2022 года.\n",
    "\n",
    "\n",
    "## ИСПОЛЬЗУЕМЫЕ БИБЛИОТЕКИ\n",
    "\n",
    "pandas matplotlib.pyplot seaborn plotly.express json folium"
   ]
  }
 ],
 "metadata": {
  "kernelspec": {
   "display_name": "Python 3 (ipykernel)",
   "language": "python",
   "name": "python3"
  },
  "language_info": {
   "codemirror_mode": {
    "name": "ipython",
    "version": 3
   },
   "file_extension": ".py",
   "mimetype": "text/x-python",
   "name": "python",
   "nbconvert_exporter": "python",
   "pygments_lexer": "ipython3",
   "version": "3.9.18"
  },
  "toc": {
   "base_numbering": 1,
   "nav_menu": {},
   "number_sections": true,
   "sideBar": true,
   "skip_h1_title": true,
   "title_cell": "Table of Contents",
   "title_sidebar": "Contents",
   "toc_cell": true,
   "toc_position": {},
   "toc_section_display": true,
   "toc_window_display": false
  }
 },
 "nbformat": 4,
 "nbformat_minor": 5
}
