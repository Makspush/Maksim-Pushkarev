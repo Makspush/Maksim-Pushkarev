{
 "cells": [
  {
   "cell_type": "markdown",
   "id": "5450cde3",
   "metadata": {},
   "source": [
    "Ссылка на презентацию <https://disk.yandex.ru/i/OaksOyq1t9-Mrw>\n"
   ]
  },
  {
   "cell_type": "markdown",
   "id": "9afc2a43",
   "metadata": {
    "toc": true
   },
   "source": [
    "<h1>Table of Contents<span class=\"tocSkip\"></span></h1>\n",
    "<div class=\"toc\"><ul class=\"toc-item\"><li><span><a href=\"#Цели-исследования-и-ход-работы\" data-toc-modified-id=\"Цели-исследования-и-ход-работы-1\"><span class=\"toc-item-num\">1&nbsp;&nbsp;</span>Цели исследования и ход работы</a></span></li><li><span><a href=\"#Предобработка-данных\" data-toc-modified-id=\"Предобработка-данных-2\"><span class=\"toc-item-num\">2&nbsp;&nbsp;</span>Предобработка данных</a></span><ul class=\"toc-item\"><li><span><a href=\"#Знакомство-с-данными\" data-toc-modified-id=\"Знакомство-с-данными-2.1\"><span class=\"toc-item-num\">2.1&nbsp;&nbsp;</span>Знакомство с данными</a></span></li><li><span><a href=\"#Преобразование-типов-данных\" data-toc-modified-id=\"Преобразование-типов-данных-2.2\"><span class=\"toc-item-num\">2.2&nbsp;&nbsp;</span>Преобразование типов данных</a></span></li><li><span><a href=\"#Поиск-и-отработка-дубликатов\" data-toc-modified-id=\"Поиск-и-отработка-дубликатов-2.3\"><span class=\"toc-item-num\">2.3&nbsp;&nbsp;</span>Поиск и отработка дубликатов</a></span></li><li><span><a href=\"#Создадим-новые-столбцы\" data-toc-modified-id=\"Создадим-новые-столбцы-2.4\"><span class=\"toc-item-num\">2.4&nbsp;&nbsp;</span>Создадим новые столбцы</a></span></li></ul></li><li><span><a href=\"#Исследовательский-анализ-данных\" data-toc-modified-id=\"Исследовательский-анализ-данных-3\"><span class=\"toc-item-num\">3&nbsp;&nbsp;</span>Исследовательский анализ данных</a></span><ul class=\"toc-item\"><li><span><a href=\"#Для-начала-определим-точный-период-данных,-количество-клиентов-и-количество-заказов.\" data-toc-modified-id=\"Для-начала-определим-точный-период-данных,-количество-клиентов-и-количество-заказов.-3.1\"><span class=\"toc-item-num\">3.1&nbsp;&nbsp;</span>Для начала определим точный период данных, количество клиентов и количество заказов.</a></span></li><li><span><a href=\"#динамика-выручки\" data-toc-modified-id=\"динамика-выручки-3.2\"><span class=\"toc-item-num\">3.2&nbsp;&nbsp;</span>динамика выручки</a></span></li><li><span><a href=\"#Средний-чек\" data-toc-modified-id=\"Средний-чек-3.3\"><span class=\"toc-item-num\">3.3&nbsp;&nbsp;</span>Средний чек</a></span></li><li><span><a href=\"#Помесячная-динамика-средней-выручки-с-покупателя\" data-toc-modified-id=\"Помесячная-динамика-средней-выручки-с-покупателя-3.4\"><span class=\"toc-item-num\">3.4&nbsp;&nbsp;</span>Помесячная динамика средней выручки с покупателя</a></span></li></ul></li><li><span><a href=\"#Основные-вопросы-исследования\" data-toc-modified-id=\"Основные-вопросы-исследования-4\"><span class=\"toc-item-num\">4&nbsp;&nbsp;</span>Основные вопросы исследования</a></span><ul class=\"toc-item\"><li><span><a href=\"#Сегментирование-клиентов\" data-toc-modified-id=\"Сегментирование-клиентов-4.1\"><span class=\"toc-item-num\">4.1&nbsp;&nbsp;</span>Сегментирование клиентов</a></span></li><li><span><a href=\"#Категоризация-товаров\" data-toc-modified-id=\"Категоризация-товаров-4.2\"><span class=\"toc-item-num\">4.2&nbsp;&nbsp;</span>Категоризация товаров</a></span></li><li><span><a href=\"#Наблюдения-по-категориям-товаров-и-их-сезонности-по-выделенным-сегментам-покупателей\" data-toc-modified-id=\"Наблюдения-по-категориям-товаров-и-их-сезонности-по-выделенным-сегментам-покупателей-4.3\"><span class=\"toc-item-num\">4.3&nbsp;&nbsp;</span>Наблюдения по категориям товаров и их сезонности по выделенным сегментам покупателей</a></span></li><li><span><a href=\"#Проверка-гипотез\" data-toc-modified-id=\"Проверка-гипотез-4.4\"><span class=\"toc-item-num\">4.4&nbsp;&nbsp;</span>Проверка гипотез</a></span></li><li><span><a href=\"#Предложения-и-рекомендации,-выводы\" data-toc-modified-id=\"Предложения-и-рекомендации,-выводы-4.5\"><span class=\"toc-item-num\">4.5&nbsp;&nbsp;</span>Предложения и рекомендации, выводы</a></span></li></ul></li></ul></div>"
   ]
  },
  {
   "cell_type": "markdown",
   "id": "d28ce562",
   "metadata": {},
   "source": [
    "# E-commerce — Выявление профилей потребления в компании \"Пока все ещё тут\"\n"
   ]
  },
  {
   "cell_type": "markdown",
   "id": "82f2f4f7",
   "metadata": {},
   "source": [
    "## Цели исследования и ход работы\n",
    "\n",
    "Я - дата-аналитик магазина «Пока все ещё тут».\n",
    "Поступила задача сегментировать покупателей по профилю потребления, в частности провести исследовательский анализ данных, выделить категории клиентов и на основе их товарных предпочтений разработать персональные предложения и сформулировать и проверить статистические гипотезы.\n",
    "\n",
    "В ходе уточнения запроса и декомпозии была согласована **основаня цель исследования -  предоставить комплексный анализ и рекомендации, которые позволят увеличить продажи и лояльность клиентов путем сегментированного маркетинга.**\n",
    "\n",
    "Которую можно разбить на подцели:\n",
    "-  Исходя из анализа сегментов покупателей, разработать рекомендации о том, каким клиентам и когда рассылать рекламные предложения о каких категориях товаров\n",
    "- Разработать стратегию по увеличению количества продоваемого товара для каждого сегмента\n",
    "- Предложить способы повышения возвращаемости покупателей для каждого сегмента\n",
    "\n",
    "Ход исследования:\n",
    "1. Знакомство с данными и этап предобработки данных.\n",
    "3. Исследовательский анализ данных: \n",
    "    - Расчитаем важные бизнес показатели, такие как выручка в динамике, средний чек, динамика вырчки.\n",
    "    - Сегментируем пользоватлей методом RFM-анализа\n",
    "    - Категоризируем товары по сезоности и выделенным сегметам покупателей.\n",
    "4. Соберем полученные наблюдения и ответим на основные вопросы исследования\n",
    "5. Проверим гипотезы на стастистическую значимость.\n",
    "6. Подготовим предложения.\n"
   ]
  },
  {
   "cell_type": "markdown",
   "id": "d6ccf30a",
   "metadata": {},
   "source": [
    "## Предобработка данных"
   ]
  },
  {
   "cell_type": "markdown",
   "id": "a166a03c",
   "metadata": {},
   "source": [
    "### Знакомство с данными"
   ]
  },
  {
   "cell_type": "markdown",
   "id": "e4d6915f",
   "metadata": {},
   "source": [
    "Импортируем библиотеки, загрузим данные и посмотрим на них"
   ]
  },
  {
   "cell_type": "code",
   "execution_count": null,
   "id": "01b8a0fa",
   "metadata": {
    "scrolled": true
   },
   "outputs": [],
   "source": [
    "import pandas as pd\n",
    "import matplotlib.pyplot as plt\n",
    "import seaborn as sns\n",
    "import plotly.express as px\n",
    "import numpy as np\n",
    "from collections import Counter\n",
    "from functools import reduce\n",
    "from scipy import stats as st\n",
    "pd.options.mode.chained_assignment = None "
   ]
  },
  {
   "cell_type": "code",
   "execution_count": null,
   "id": "4b58bfe2",
   "metadata": {},
   "outputs": [],
   "source": [
    "try:\n",
    "    df = pd.read_csv('https://code.s3.yandex.net//datasets//ecom_dataset_upd.csv')\n",
    "except:\n",
    "    df = pd.read_csv('D:/основа/учеба/проеткы/ECOM — Behavior/ecom_dataset_upd.csv')"
   ]
  },
  {
   "cell_type": "code",
   "execution_count": null,
   "id": "cfc4bc83",
   "metadata": {},
   "outputs": [],
   "source": [
    "df.head(15)"
   ]
  },
  {
   "cell_type": "markdown",
   "id": "64887723",
   "metadata": {},
   "source": [
    "Исследуем данные подробнее"
   ]
  },
  {
   "cell_type": "code",
   "execution_count": null,
   "id": "937967b8",
   "metadata": {},
   "outputs": [],
   "source": [
    "df.info()"
   ]
  },
  {
   "cell_type": "code",
   "execution_count": null,
   "id": "1a31e6d0",
   "metadata": {},
   "outputs": [],
   "source": [
    "fig, axs = plt.subplots(nrows=2, ncols=2, figsize=(14, 9))\n",
    "fig.suptitle('Распределение дат и числовых данных в датафрейме', fontsize=14)\n",
    "\n",
    "plt.subplot(1, 2, 1)\n",
    "ax1 = sns.histplot (data = df, x = 'date')\n",
    "\n",
    "plt.title('распределение дат заказов')\n",
    "plt.ylabel('частота встречаемости')\n",
    "plt.xlabel('дата')\n",
    "plt.xticks(rotation=20)\n",
    "\n",
    "plt.subplot(2, 2, 2)\n",
    "ax1 = sns.histplot (data = df, x = 'price')\n",
    "plt.title('распределение цены товара')\n",
    "plt.ylabel('частота встречаемости')\n",
    "plt.xlabel('цена')\n",
    "\n",
    "plt.subplot(2, 2, 4)\n",
    "ax1 = sns.histplot (data = df, x = 'quantity')\n",
    "plt.title('распределение количества товаров в заказе')\n",
    "plt.ylabel('частота встречаемости')\n",
    "plt.xlabel('количество товаров в заказе')\n",
    "\n",
    "\n",
    "\n",
    "plt.show"
   ]
  },
  {
   "cell_type": "markdown",
   "id": "bf9501c4",
   "metadata": {},
   "source": [
    "Всего в датафрейме 7474 строки, которые отражают каждую товарную позицию в заказах.\n",
    "\n",
    "Всего 6 столбцов:\n",
    "- date — дата заказа;\n",
    "- customer_id — идентификатор покупателя;\n",
    "- order_id — идентификатор заказа;\n",
    "- product — наименование товара;\n",
    "- quantity — количество товара в заказе;\n",
    "- price — цена товара.\n",
    "\n",
    "**Основные наблюдения после ознакомления с данными:**\n",
    "- пропущенных значений нет\n",
    "- наблюдается большой разброс в количестве и цене товаров."
   ]
  },
  {
   "cell_type": "markdown",
   "id": "22bf5b7d",
   "metadata": {},
   "source": [
    "### Преобразование типов данных"
   ]
  },
  {
   "cell_type": "markdown",
   "id": "531c14a7",
   "metadata": {},
   "source": [
    "Займемся форматами, переведем дату в формат `datetime` а также цену товара в `int64`"
   ]
  },
  {
   "cell_type": "code",
   "execution_count": null,
   "id": "5ec81f3b",
   "metadata": {},
   "outputs": [],
   "source": [
    "df['date'] = pd.to_datetime(df['date'], format=\"%Y%m%d%H\")\n",
    "df['date'].head(5)"
   ]
  },
  {
   "cell_type": "code",
   "execution_count": null,
   "id": "2ea593b6",
   "metadata": {},
   "outputs": [],
   "source": [
    "df ['price'] = pd.to_numeric (df ['price']).astype ('int64')"
   ]
  },
  {
   "cell_type": "code",
   "execution_count": null,
   "id": "8b0b603f",
   "metadata": {},
   "outputs": [],
   "source": [
    "df.info()"
   ]
  },
  {
   "cell_type": "code",
   "execution_count": null,
   "id": "ceec8cbe",
   "metadata": {},
   "outputs": [],
   "source": [
    "df.head(1)"
   ]
  },
  {
   "cell_type": "markdown",
   "id": "26005bef",
   "metadata": {},
   "source": [
    "Значения из столбцов даты и цены переведены в понятный и компактный вид"
   ]
  },
  {
   "cell_type": "markdown",
   "id": "e89dfe65",
   "metadata": {},
   "source": [
    "### Поиск и отработка дубликатов"
   ]
  },
  {
   "cell_type": "markdown",
   "id": "8cb1c03f",
   "metadata": {},
   "source": [
    "Найдем дубликаты в нашем датафрейме. Начнем с совпадающих строчек."
   ]
  },
  {
   "cell_type": "code",
   "execution_count": null,
   "id": "dd33f32d",
   "metadata": {},
   "outputs": [],
   "source": [
    "df[df.duplicated()] "
   ]
  },
  {
   "cell_type": "markdown",
   "id": "d2212580",
   "metadata": {},
   "source": [
    "Повторяющихся строк нет."
   ]
  },
  {
   "cell_type": "markdown",
   "id": "9bf9aad7",
   "metadata": {},
   "source": [
    "Проверим есть ли дубликаты заказов. Сгруппируем все данные кроме даты"
   ]
  },
  {
   "cell_type": "code",
   "execution_count": null,
   "id": "8985e7fb",
   "metadata": {},
   "outputs": [],
   "source": [
    "df[df[['customer_id', 'order_id', 'product', 'quantity', 'price']].duplicated ()]"
   ]
  },
  {
   "cell_type": "markdown",
   "id": "65ea50dd",
   "metadata": {},
   "source": [
    "у нас есть 1864 дубликата одних и тех же заказов, но разными датами. Рассмотрим их подробнее."
   ]
  },
  {
   "cell_type": "markdown",
   "id": "e6200cf3",
   "metadata": {},
   "source": [
    "Создадим датасет со всеми повторяющимися заказами. Отсортируем по заказу и дате"
   ]
  },
  {
   "cell_type": "code",
   "execution_count": null,
   "id": "d79f1a38",
   "metadata": {
    "scrolled": false
   },
   "outputs": [],
   "source": [
    "df_duplicates = df[df[['customer_id', 'order_id', 'product', 'quantity', 'price']].duplicated (keep=False)].sort_values(['order_id', 'date']).reset_index()\n",
    "df_duplicates"
   ]
  },
  {
   "cell_type": "markdown",
   "id": "4407dada",
   "metadata": {},
   "source": [
    "**Возможно заказы дублируются, когда добавляют новую товарную позицию.**\n",
    "\n",
    "Сгуппируем датасет по заказу и найдем число уникальных дат (количество повторов одного заказа) и уникальных товаров (количество товарных позиций в заказе) и построим график"
   ]
  },
  {
   "cell_type": "code",
   "execution_count": null,
   "id": "dea65935",
   "metadata": {},
   "outputs": [],
   "source": [
    "df_cnt_dup = df_duplicates.groupby(['order_id']).agg({'date':'nunique','product':'nunique'}).reset_index().sort_values('product')\n",
    "df_cnt_dup"
   ]
  },
  {
   "cell_type": "code",
   "execution_count": null,
   "id": "62f948e2",
   "metadata": {
    "scrolled": false
   },
   "outputs": [],
   "source": [
    "ax =sns.scatterplot(x='date', y='product', data=df_cnt_dup)\n",
    "sns.set_style('whitegrid')\n",
    "ax.set_title('Распределение повторяющихся заказов к количеству товарных позиций в них')\n",
    "ax.set_xlabel('Количество повторов одного заказа')\n",
    "ax.set_ylabel('Количество товарных позиций в заказе')\n",
    "plt.show()"
   ]
  },
  {
   "cell_type": "markdown",
   "id": "85bbf191",
   "metadata": {},
   "source": [
    "Зависимости количества товарных позиций в заказе и числа повторов одного заказа не наблюдается.\n",
    "В основном товарных позиций в дубликатах не больше четырех, а встречаются такие дубликаты от 2 до 60 раз.\n",
    "\n",
    "**Возможно повторные заказы дублируются через опредленные интервалы времени**. Проверим"
   ]
  },
  {
   "cell_type": "markdown",
   "id": "8b25dab9",
   "metadata": {},
   "source": [
    "сформируем список с отрезками вермени между повторяющимися заказами"
   ]
  },
  {
   "cell_type": "code",
   "execution_count": null,
   "id": "7bea980d",
   "metadata": {},
   "outputs": [],
   "source": [
    "timedelta = []"
   ]
  },
  {
   "cell_type": "code",
   "execution_count": null,
   "id": "22b0f949",
   "metadata": {},
   "outputs": [],
   "source": [
    "for i in range(len(df_duplicates)):\n",
    "    try:\n",
    "        if df_duplicates['order_id'].iloc[i] == df_duplicates['order_id'].iloc[i-1]:\n",
    "            td = (df_duplicates['date'].iloc[i] - df_duplicates['date'].iloc[i-1]).total_seconds()/3600\n",
    "            timedelta.append(td)\n",
    "        else:\n",
    "            td = 0\n",
    "            timedelta.append(td)\n",
    "    except:\n",
    "        td = 0\n",
    "        timedelta.append(td)"
   ]
  },
  {
   "cell_type": "code",
   "execution_count": null,
   "id": "f97084b8",
   "metadata": {},
   "outputs": [],
   "source": [
    "timedelta"
   ]
  },
  {
   "cell_type": "markdown",
   "id": "39073e0a",
   "metadata": {},
   "source": [
    "Проверим совпадает ли длина списка с количеством столбоц датафрейма с повторяющимися строками"
   ]
  },
  {
   "cell_type": "code",
   "execution_count": null,
   "id": "2c3148bc",
   "metadata": {},
   "outputs": [],
   "source": [
    "len(timedelta)"
   ]
  },
  {
   "cell_type": "code",
   "execution_count": null,
   "id": "0abc18a6",
   "metadata": {},
   "outputs": [],
   "source": [
    "len(df_duplicates)"
   ]
  },
  {
   "cell_type": "markdown",
   "id": "781949df",
   "metadata": {},
   "source": [
    "Добавим новый столбец в наш дф "
   ]
  },
  {
   "cell_type": "code",
   "execution_count": null,
   "id": "e892b344",
   "metadata": {},
   "outputs": [],
   "source": [
    "df_duplicates['timedelta_hours'] = timedelta"
   ]
  },
  {
   "cell_type": "code",
   "execution_count": null,
   "id": "50db22f1",
   "metadata": {},
   "outputs": [],
   "source": [
    "df_duplicates"
   ]
  },
  {
   "cell_type": "markdown",
   "id": "1b9d5c66",
   "metadata": {},
   "source": [
    "Новый столбец показывает через какое время был создан повторный заказ. Отфильтруем датафрейм, оставим только строки, в которых есть timedelta и посмотрим на распределение."
   ]
  },
  {
   "cell_type": "code",
   "execution_count": null,
   "id": "e48d25bf",
   "metadata": {
    "scrolled": true
   },
   "outputs": [],
   "source": [
    "fig, axs = plt.subplots(ncols=2, figsize=(7, 4))\n",
    "fig.suptitle('Распределение временых промежутков до дублирования заказа', fontsize=17)\n",
    "\n",
    "plt.subplot(1, 2, 1)\n",
    "ax1 = sns.boxplot(data = df_duplicates.query('timedelta_hours != 0'), y = 'timedelta_hours')\n",
    "plt.ylabel('Количество часов до дублирования заказа')\n",
    "plt.xlabel('')\n",
    "\n",
    "plt.subplot(1, 2, 2)\n",
    "ax2 = sns.boxplot(data = df_duplicates.query('timedelta_hours != 0'), y = 'timedelta_hours')\n",
    "plt.ylabel('')\n",
    "plt.ylim(0, 250)\n",
    "plt.show"
   ]
  },
  {
   "cell_type": "code",
   "execution_count": null,
   "id": "dc85477f",
   "metadata": {},
   "outputs": [],
   "source": [
    "df_duplicates.query('timedelta_hours != 0')['timedelta_hours'].describe()"
   ]
  },
  {
   "cell_type": "markdown",
   "id": "0d1b6f4f",
   "metadata": {},
   "source": [
    "75% значений находятся в диапозоне от 3 до 31 часа. Вряд ли пользователи заказывали то же самое в этот же день. Но и никаких закономерностей обнаружить не получается\n",
    "\n",
    "Заказы дублируются вне зависимости от времени, которое прошло с момента его создания и вне зависимости от количества товарных позиций в заказе. У нас недостаточно данных, чтобы уставновить точную причину таких повторений. **Удалим дубликаты, их слишком много (24% от всех строк), чтобы не исказить результаты исследования.** Оставим только первые заказы."
   ]
  },
  {
   "cell_type": "code",
   "execution_count": null,
   "id": "41066916",
   "metadata": {},
   "outputs": [],
   "source": [
    "df = df.drop_duplicates(subset=['customer_id', 'order_id', 'product', 'quantity', 'price'], keep='first')"
   ]
  },
  {
   "cell_type": "code",
   "execution_count": null,
   "id": "5407cb49",
   "metadata": {},
   "outputs": [],
   "source": [
    "df[df[['customer_id', 'order_id', 'product', 'quantity', 'price']].duplicated ()]"
   ]
  },
  {
   "cell_type": "markdown",
   "id": "76167c4e",
   "metadata": {},
   "source": [
    "**Проверим есть ли дубликаты одного и тоже заказа оформленного разными пользователями**"
   ]
  },
  {
   "cell_type": "code",
   "execution_count": null,
   "id": "bc4d8ea0",
   "metadata": {},
   "outputs": [],
   "source": [
    "df.groupby('order_id').agg({'customer_id': 'nunique'}).reset_index().sort_values('customer_id', ascending = False)"
   ]
  },
  {
   "cell_type": "markdown",
   "id": "71b48d9c",
   "metadata": {},
   "source": [
    "Такие заказы есть. Отлфильтруем их"
   ]
  },
  {
   "cell_type": "code",
   "execution_count": null,
   "id": "72008a72",
   "metadata": {},
   "outputs": [],
   "source": [
    "sm = df.groupby('order_id').agg({'customer_id': 'nunique'}).reset_index().sort_values('customer_id', ascending = False).query('customer_id>1')\n",
    "sm"
   ]
  },
  {
   "cell_type": "markdown",
   "id": "45d12a03",
   "metadata": {},
   "source": [
    "Посмотрим на такие заказы в датафрейме"
   ]
  },
  {
   "cell_type": "code",
   "execution_count": null,
   "id": "e042d725",
   "metadata": {},
   "outputs": [],
   "source": [
    "df.query('order_id in @sm[\"order_id\"]').sort_values('order_id')"
   ]
  },
  {
   "cell_type": "markdown",
   "id": "58476583",
   "metadata": {},
   "source": [
    "Ошибка, по которой в одним заказ попали несколько пользователей похожа на предыдущую. Только кроме даты меняется и сам пользователь. Но точной уверености является ли пользователей, сделавший заказ первым, настоящим заказчиком у нас нет. Наши предложения дожны быть адресные, чтобы клиенты не перепутались, удалим эти строки. Всего их 66."
   ]
  },
  {
   "cell_type": "code",
   "execution_count": null,
   "id": "9bacfeb2",
   "metadata": {},
   "outputs": [],
   "source": [
    "df = df.query('order_id not in @sm[\"order_id\"]')"
   ]
  },
  {
   "cell_type": "code",
   "execution_count": null,
   "id": "880243c2",
   "metadata": {},
   "outputs": [],
   "source": [
    "df.query('order_id in @sm[\"order_id\"]')"
   ]
  },
  {
   "cell_type": "markdown",
   "id": "1ea37553",
   "metadata": {},
   "source": [
    "### Создадим новые столбцы"
   ]
  },
  {
   "cell_type": "markdown",
   "id": "e612585e",
   "metadata": {},
   "source": [
    "Для дальнейших исследований нам понадобится столбец с месяцем заказа и выручкой за товарную позицию"
   ]
  },
  {
   "cell_type": "code",
   "execution_count": null,
   "id": "6a6745d2",
   "metadata": {},
   "outputs": [],
   "source": [
    "df['revenue'] = df['quantity'] * df['price']\n",
    "df['month'] = pd.DatetimeIndex(df['date']).month\n",
    "df['year'] = pd.DatetimeIndex(df['date']).year\n",
    "df['year_month'] = df['date'].dt.strftime('%m/%Y')\n"
   ]
  },
  {
   "cell_type": "code",
   "execution_count": null,
   "id": "ad3c0c0b",
   "metadata": {
    "scrolled": true
   },
   "outputs": [],
   "source": [
    "df.info()"
   ]
  },
  {
   "cell_type": "markdown",
   "id": "e5fbf454",
   "metadata": {},
   "source": [
    "**Выводы по разделу:**\n",
    "- всего в датафрейме 7474 строки, которые отражают каждую товарную позицию в заказах и 6 столбцов:\n",
    "    - date — дата заказа;\n",
    "    - customer_id — идентификатор покупателя;\n",
    "    - order_id — идентификатор заказа;\n",
    "    - product — наименование товара;\n",
    "    - quantity — количество товара в заказе;\n",
    "    - price — цена товара.\n",
    "- пропущенных значений нет\n",
    "- мы нашли дубликаты заказов с разными датами. Проверили гипотезу, что заказ дублируется при добавлении новой товарной позиции. Она не подтвердилась. Также проверили гипотезу, что заказы дублируются с определенным интервалом времени. Но такой зависимости не обнаружили. Мы удалили их, так как у нас недостаточно данных, чтобы понять в чем ошибка, а такие данные исказят исследование.\n",
    "- также обнаружены дубликаты заказов с одинаковыми покупателями и разными. Мы не можем установить какой покупатель истиный. Таких данных немного и мы удалили их, чтобы не перепупатать рекламу под клиента.\n",
    "- мы преобразовали типы данных и создали два столбца с выручкой и разными форматами датдатами.\n"
   ]
  },
  {
   "cell_type": "markdown",
   "id": "57499fc1",
   "metadata": {},
   "source": [
    "## Исследовательский анализ данных"
   ]
  },
  {
   "cell_type": "markdown",
   "id": "62e62ec2",
   "metadata": {},
   "source": [
    "### Для начала определим точный период данных, количество клиентов и количество заказов."
   ]
  },
  {
   "cell_type": "code",
   "execution_count": null,
   "id": "8ac26037",
   "metadata": {
    "scrolled": true
   },
   "outputs": [],
   "source": [
    "display((f\"{df['date'].min()} - минимальная дата заказа.\"),\n",
    "       (f\"{df['date'].max()} - максимальная дата заказа.\"))"
   ]
  },
  {
   "cell_type": "markdown",
   "id": "046ec8c8",
   "metadata": {},
   "source": [
    "Датасет охватывает период с 1 октября 2018 по 31 января 2020"
   ]
  },
  {
   "cell_type": "code",
   "execution_count": null,
   "id": "6a9ae009",
   "metadata": {},
   "outputs": [],
   "source": [
    "count_order_customer = df[['customer_id','order_id']].nunique().reset_index()\n",
    "count_order_customer.columns = ['columns', 'count']\n",
    "count_order_customer"
   ]
  },
  {
   "cell_type": "code",
   "execution_count": null,
   "id": "6b7c1340",
   "metadata": {},
   "outputs": [],
   "source": [
    "fig = px.scatter(count_order_customer, x=[1, 1.1], y=[1, 1.1], size=\"count\", color=\"columns\", size_max=210, text = 'count')\n",
    "fig.update_layout(\n",
    "    title=\"Количество заказов и покупателей\",\n",
    "    xaxis_title=\"\",\n",
    "    yaxis_title=\"\")\n",
    "fig.show()"
   ]
  },
  {
   "cell_type": "markdown",
   "id": "3d72b243",
   "metadata": {},
   "source": [
    "Всего у нас 2413 - покупателей и 3492 заказа. Напрашивается промежуточный вывод, что клиенты редко делают второй заказ."
   ]
  },
  {
   "cell_type": "markdown",
   "id": "9654b6be",
   "metadata": {},
   "source": [
    "### динамика выручки"
   ]
  },
  {
   "cell_type": "markdown",
   "id": "5492175e",
   "metadata": {},
   "source": [
    "Сгрупируем данные по месяцу и дате и посмотрим на динамику выручки. Будем считать количество уникальных заказов, чтобы не занижать выручку."
   ]
  },
  {
   "cell_type": "code",
   "execution_count": null,
   "id": "faa5b9ab",
   "metadata": {},
   "outputs": [],
   "source": [
    "df_revenue = df.groupby(['year','year_month']).agg({'revenue':'sum', 'order_id':'nunique'}).reset_index()\n",
    "df_revenue.rename(columns={'order_id': 'Количетво заказов'}, inplace=True)\n",
    "df_revenue"
   ]
  },
  {
   "cell_type": "code",
   "execution_count": null,
   "id": "50057a95",
   "metadata": {},
   "outputs": [],
   "source": [
    "fig = px.line(df_revenue, x='year_month', y='revenue', text=\"Количетво заказов\")\n",
    "fig.update_layout(\n",
    "    title=\"Динамика выручки по месяцам\",\n",
    "    xaxis_title=\"Дата\",\n",
    "    yaxis_title=\"Выручка\")\n",
    "fig.update_traces(textposition=\"top center\")\n",
    "fig.show()"
   ]
  },
  {
   "cell_type": "markdown",
   "id": "56cd85c8",
   "metadata": {},
   "source": [
    "Выручка находится в диапозозоне от 130 000 рублей до 359 348 рублей, кроме июня месяца, когда она резко возрастает до 900 000 рублей. Хотя количество заказов в этом месяце минимальное - 158. \n",
    "\n",
    "Возможно были крупные заказы. Проверим."
   ]
  },
  {
   "cell_type": "code",
   "execution_count": null,
   "id": "3b257862",
   "metadata": {},
   "outputs": [],
   "source": [
    "df_revenue_order = df.groupby(['year_month', 'order_id']).agg({'revenue':'sum'}).reset_index()\n",
    "\n",
    "df_revenue_order"
   ]
  },
  {
   "cell_type": "code",
   "execution_count": null,
   "id": "04a78046",
   "metadata": {},
   "outputs": [],
   "source": [
    "fig = px.box(df_revenue_order, x=\"year_month\", y=\"revenue\")\n",
    "fig.update_layout(\n",
    "    title=\"распределение выручки от заказов\",\n",
    "    xaxis_title=\"Дата\",\n",
    "    yaxis_title=\"Выручка\")\n",
    "fig.show()"
   ]
  },
  {
   "cell_type": "markdown",
   "id": "46f35af3",
   "metadata": {},
   "source": [
    "В июня месяце был заказ на 675 000 рублей, это больше половины от месячной выручки.\n",
    "Посмотрим на этот заказ. Для этого найдем его номер и отфильтруем наш df"
   ]
  },
  {
   "cell_type": "code",
   "execution_count": null,
   "id": "1f5c8651",
   "metadata": {},
   "outputs": [],
   "source": [
    "df.query('order_id == 71743')"
   ]
  },
  {
   "cell_type": "markdown",
   "id": "fc9d3099",
   "metadata": {},
   "source": [
    "Покупатель заказал 1000 вантузов. Что ж возможно это оптовая закупка. Проверим остальные заказы этого клиента"
   ]
  },
  {
   "cell_type": "markdown",
   "id": "05ee33ad",
   "metadata": {},
   "source": [
    "Исключим оптовика и посмтроим новый график динамики выручки"
   ]
  },
  {
   "cell_type": "code",
   "execution_count": null,
   "id": "5e54c98b",
   "metadata": {},
   "outputs": [],
   "source": [
    "df = df.query('order_id != 71743')"
   ]
  },
  {
   "cell_type": "code",
   "execution_count": null,
   "id": "095ef4cb",
   "metadata": {},
   "outputs": [],
   "source": [
    "df_revenue = df.groupby(['year','year_month']).agg({'revenue':'sum', 'order_id':'nunique'}).reset_index()\n",
    "df_revenue.rename(columns={'order_id': 'Количетво заказов'}, inplace=True)"
   ]
  },
  {
   "cell_type": "code",
   "execution_count": null,
   "id": "3108181f",
   "metadata": {
    "scrolled": false
   },
   "outputs": [],
   "source": [
    "fig = px.line(df_revenue, x='year_month', y='revenue', text=\"Количетво заказов\")\n",
    "fig.update_layout(\n",
    "    title=\"Динамика выручки по месяцам\",\n",
    "    xaxis_title=\"Дата\",\n",
    "    yaxis_title=\"Выручка\")\n",
    "fig.update_traces(textposition=\"top center\")\n",
    "fig.show()"
   ]
  },
  {
   "cell_type": "markdown",
   "id": "009c58ae",
   "metadata": {},
   "source": [
    "- В целом выручка снижается за рассматриваемый период. Самые прибыльные месяца - первые три: октябрь, ноябрь и декабрь 2018 года, выручка достигала 350 000 руб. и более. \n",
    "- Выручка октября-января 2019-2020 годов примерно в два раза ниже выручки октября-января 2018-2019 годов \n",
    "- В середине периода выручка находится в диапозоне от 230 000 руб. до 300 000 руб. в месяц\n",
    "- Несмотря на снижение выручки, количество заказов не падает, но и не растет. Вороятно снижается средних чек.\n",
    "\n",
    "Возможно магазин не может удержать клиентов, в том числе платежеспособных, поэтому падает среднеий чек, и количество заказов.\n",
    "Сгруппируем клиентов по последней покупке.\n",
    "Определим сколько клиентов, уснули после первой покупки в начале рассматриваемого периода, а какие проявляли активность в конце."
   ]
  },
  {
   "cell_type": "markdown",
   "id": "2d9e2567",
   "metadata": {},
   "source": [
    "Всего у нас 16 месяцев. Разобьем согласно процентилям: \n",
    "- последняя четверть нового периода - текущие:\n",
    "- 25%-75% перидоа - прежние клиенты\n",
    "- первая четверить периода - спящие клиенты"
   ]
  },
  {
   "cell_type": "markdown",
   "id": "5c565dff",
   "metadata": {},
   "source": [
    "Сгруппируем df по покупателю и оставим последние даты совершенных покупок."
   ]
  },
  {
   "cell_type": "code",
   "execution_count": null,
   "id": "dc4ffb3c",
   "metadata": {},
   "outputs": [],
   "source": [
    "df_last_date = df.groupby(['customer_id']).agg({'date':'last'}).reset_index().sort_values('date')"
   ]
  },
  {
   "cell_type": "code",
   "execution_count": null,
   "id": "0b2adfac",
   "metadata": {},
   "outputs": [],
   "source": [
    "df_last_date"
   ]
  },
  {
   "cell_type": "markdown",
   "id": "9c043a7b",
   "metadata": {},
   "source": [
    "С помощью фильтров создадим 3 списка с группами клиентов по последней покупке с ранее определенными условиями."
   ]
  },
  {
   "cell_type": "code",
   "execution_count": null,
   "id": "63517181",
   "metadata": {},
   "outputs": [],
   "source": [
    "sleepy = df_last_date[(df_last_date['date']<np.percentile(df_last_date['date'], 25))]['customer_id'].tolist()"
   ]
  },
  {
   "cell_type": "code",
   "execution_count": null,
   "id": "1eeb2f55",
   "metadata": {},
   "outputs": [],
   "source": [
    "ex = (df_last_date[(df_last_date['date']>np.percentile(df_last_date['date'], 25)) \n",
    "                   & (df_last_date['date']<np.percentile(df_last_date['date'], 75))]['customer_id'].tolist())"
   ]
  },
  {
   "cell_type": "code",
   "execution_count": null,
   "id": "c1a1bf16",
   "metadata": {},
   "outputs": [],
   "source": [
    "current = df_last_date[(df_last_date['date']>np.percentile(df_last_date['date'], 75))]['customer_id'].tolist()"
   ]
  },
  {
   "cell_type": "markdown",
   "id": "c1b20c31",
   "metadata": {},
   "source": [
    "Создадим новый столбец в df, в котором будет распределение клиентов на группы в зависимости от даты последней покупки. Для удобства напишем функцию."
   ]
  },
  {
   "cell_type": "code",
   "execution_count": null,
   "id": "600bea09",
   "metadata": {},
   "outputs": [],
   "source": [
    "def last_date (customer_id):\n",
    "    \"\"\"\n",
    "    Распределяет клиентов на группы относительно заданного критерия.\n",
    "\n",
    "    функция принимает аргумент - номер клиента и определяет его в \n",
    "    группу в соответствии с заданным условием.\n",
    "    \n",
    "    \"\"\"\n",
    "    \n",
    "    if customer_id in sleepy:\n",
    "        return 'спящий'\n",
    "    elif customer_id in ex:\n",
    "        return 'прежний'\n",
    "    elif customer_id in current:\n",
    "        return 'текущий'       \n",
    "    "
   ]
  },
  {
   "cell_type": "code",
   "execution_count": null,
   "id": "9108ca44",
   "metadata": {},
   "outputs": [],
   "source": [
    "df['seg_by_date'] = df['customer_id'].apply(last_date)"
   ]
  },
  {
   "cell_type": "markdown",
   "id": "e9532041",
   "metadata": {},
   "source": [
    "Проверим столбец напропуски"
   ]
  },
  {
   "cell_type": "code",
   "execution_count": null,
   "id": "b6d752aa",
   "metadata": {
    "scrolled": true
   },
   "outputs": [],
   "source": [
    "df[df['seg_by_date'].isna()]"
   ]
  },
  {
   "cell_type": "markdown",
   "id": "a9c7fc2e",
   "metadata": {},
   "source": [
    "Сгрупируем данные и посмотрим на распределение покупатлей по сформированным групам, а также их выручки и долю выручки."
   ]
  },
  {
   "cell_type": "code",
   "execution_count": null,
   "id": "89643ba3",
   "metadata": {
    "scrolled": true
   },
   "outputs": [],
   "source": [
    "revenue_by_last_order = df.groupby(['seg_by_date']).agg({'revenue':'sum', 'customer_id':'nunique', 'order_id':'nunique'}).reset_index()\n",
    "revenue_by_last_order.columns = ['группа покупателя','выручка','количество покупателей', 'количество заказов']\n",
    "revenue_by_last_order['средняя выручка с покупателя'] = (revenue_by_last_order['выручка']/revenue_by_last_order['количество покупателей']).round()\n",
    "revenue_by_last_order"
   ]
  },
  {
   "cell_type": "code",
   "execution_count": null,
   "id": "8f0eefaa",
   "metadata": {},
   "outputs": [],
   "source": [
    "fig = px.pie(revenue_by_last_order, values='количество покупателей', names='группа покупателя', title='Диагамма отношения числа клиентов по последней покупке',color= 'группа покупателя', color_discrete_map={'прежний':'red',\n",
    "                                 'текущий':'blue',\n",
    "                                 'спящий':'green'\n",
    "                                 })\n",
    "fig.update_traces(textposition='inside', textinfo='percent')\n",
    "fig.show()"
   ]
  },
  {
   "cell_type": "markdown",
   "id": "f3aa4c89",
   "metadata": {},
   "source": [
    "- Клиенты разбились на пропорциональыне группы относительно даты."
   ]
  },
  {
   "cell_type": "markdown",
   "id": "691cdc12",
   "metadata": {},
   "source": [
    "посчитаем ARPU разных клиентов."
   ]
  },
  {
   "cell_type": "code",
   "execution_count": null,
   "id": "348a72e0",
   "metadata": {
    "scrolled": false
   },
   "outputs": [],
   "source": [
    "fig = px.bar(revenue_by_last_order.sort_values('средняя выручка с покупателя', ascending = False), \n",
    "x='группа покупателя', \n",
    "y='средняя выручка с покупателя',\n",
    "color = 'выручка',\n",
    " text = 'количество заказов')\n",
    "fig.update_layout(title='ARPU клиентов из разных групп',\n",
    "xaxis_title='группа клиента',\n",
    "yaxis_title='ARPU')\n",
    "fig.show() "
   ]
  },
  {
   "cell_type": "markdown",
   "id": "af65d2ba",
   "metadata": {},
   "source": [
    "- Спящие клиенты, несмотря на то, что покупали только в первые 4 месяца, накопили выручки с клиента больше, чем прежние и текущие. У них меньше всего заказов, а занчит большой средний чек. После крупных покупок, они пропали. Нужно их возвращать.\n",
    "- В целом видно, что клиенты редко возвращаются в магазин за новыми покупками и не накапливают свою ARPU."
   ]
  },
  {
   "cell_type": "code",
   "execution_count": null,
   "id": "53d8278f",
   "metadata": {},
   "outputs": [],
   "source": [
    "fig = px.pie(revenue_by_last_order, values='выручка', names='группа покупателя', title='Диагамма распределения выручки от группы покупателей' \n",
    "            ,color= 'группа покупателя', color_discrete_map={'прежний':'red',\n",
    "                                 'текущий':'blue',\n",
    "                                 'спящий':'green'\n",
    "                                 })\n",
    "fig.update_traces(textposition='inside', textinfo='percent')\n",
    "fig.show()"
   ]
  },
  {
   "cell_type": "markdown",
   "id": "f87612f3",
   "metadata": {},
   "source": [
    "- Как и ожидалось, диаграма распределения общей выручки очень похожа на распределение по количеству клиентов по группам. \n",
    "- Можно сделать вывод, что среди текущих клиентов в основном новички, т.к. они не сумели накопить значительной прибыли и не выделяются даже на фоне спящих"
   ]
  },
  {
   "cell_type": "markdown",
   "id": "dada9005",
   "metadata": {},
   "source": [
    "**Выводы по разделу:**\n",
    "- данные представлены за период с октября 2018 по январь 2020 года\n",
    "- в целом выручка сокарщается в рассматриваемом периоде. Выручка в октябре 2018 в два раза больше выручки октября 2019\n",
    "- в данных есть аномальный покупатель с заказом на 675 000. Это оптовый заказ вантусов. Мы исключили его из данных\n",
    "- несмотря на снижение выручки, количество заказов не падает. Скорее всего снижался средний чек\n",
    "- мы сгруппировали клиентов на спящих, прежних, и текущих. Прежние делали последнюю покупку в середине рассматриваемого периода\n",
    "- спящие покупали давно мало, но дорого и накопили выручки даже больше текущих\n",
    "- клиенты редко возвращаются в магазин и не наращивают показатель выручки с клиента"
   ]
  },
  {
   "cell_type": "markdown",
   "id": "41a43ca4",
   "metadata": {},
   "source": [
    "### Средний чек"
   ]
  },
  {
   "cell_type": "markdown",
   "id": "857380c2",
   "metadata": {},
   "source": [
    "Сгрупируем данные по заказу и посмотрим на средний чек и его динамику."
   ]
  },
  {
   "cell_type": "code",
   "execution_count": null,
   "id": "0d16981b",
   "metadata": {},
   "outputs": [],
   "source": [
    "df_avg_check = df.groupby(['year','year_month']).agg({'revenue':'sum', 'order_id':'nunique'}).reset_index()\n",
    "df_avg_check"
   ]
  },
  {
   "cell_type": "markdown",
   "id": "93a91010",
   "metadata": {},
   "source": [
    "Расчитаем средний чек и построим линейных график"
   ]
  },
  {
   "cell_type": "code",
   "execution_count": null,
   "id": "a5832402",
   "metadata": {},
   "outputs": [],
   "source": [
    "df_avg_check['avg_check'] = df_avg_check['revenue']/df_avg_check['order_id']"
   ]
  },
  {
   "cell_type": "code",
   "execution_count": null,
   "id": "a40a1418",
   "metadata": {},
   "outputs": [],
   "source": [
    "fig = px.line(df_avg_check, x='year_month', y='avg_check', text=\"order_id\")\n",
    "fig.update_layout(\n",
    "    title=\"Динамика среднего чека по месяцам\",\n",
    "    xaxis_title=\"Дата\",\n",
    "    yaxis_title=\"Средний чек\")\n",
    "fig.update_traces(textposition=\"top center\")\n",
    "fig.show()"
   ]
  },
  {
   "cell_type": "markdown",
   "id": "27ee165a",
   "metadata": {},
   "source": [
    "Средний чек достигает максимума в ноябре-декабря 2018 года. Снижается в феврале - марте, восстанавливаясь к лету. В конце 2019 - начале 2020 достигает минимальных значений\n",
    "\n",
    "- Клиенты совершали дорогие покупки в начале периода перед НГ 2018 года.\n",
    "- В конце зимы и весной клиенты совершают частые покупки дешевых товаров.\n",
    "- К лету клиенты были снова не прочь потратиться.\n",
    "- Конец 2019 года выглядит провально относительно 2018 по среднему чеку, разница более чем двукратная."
   ]
  },
  {
   "cell_type": "markdown",
   "id": "b374c686",
   "metadata": {},
   "source": [
    "Сгрупируем данные и посмотрим на распределение стоимости одного чека."
   ]
  },
  {
   "cell_type": "code",
   "execution_count": null,
   "id": "b78909b9",
   "metadata": {},
   "outputs": [],
   "source": [
    "df_order = df.groupby(['order_id']).agg({'revenue':'sum', 'product':'count'}).reset_index()\n",
    "df_order.rename(columns={'product': 'Количетво товаров в заказе'}, inplace=True)\n",
    "df_order"
   ]
  },
  {
   "cell_type": "code",
   "execution_count": null,
   "id": "f36e1fbd",
   "metadata": {},
   "outputs": [],
   "source": [
    "fig = px.box(df_order, y=\"revenue\", range_y=[0, 5000])\n",
    "fig.update_layout(title='Распределение стоимости чека по заказам',\n",
    "xaxis_title='',\n",
    "yaxis_title='Стоимость чека')\n",
    "fig.show()"
   ]
  },
  {
   "cell_type": "markdown",
   "id": "d29f2927",
   "metadata": {},
   "source": [
    "У нас есть много выбросов. Клиента с заказом на 675 000 руб. мы уже знаем. Рассмотрим выборку поближе"
   ]
  },
  {
   "cell_type": "markdown",
   "id": "2d2336fa",
   "metadata": {},
   "source": [
    "В основном клиент делает не дорогую покупку, 75% заказов не превышает 1 300 руб. Это обычные розничные покупатели. \n",
    "\n",
    "Рассмотрим более подробно дорогие заказы. Попытаемся выявить оптовых покупателей."
   ]
  },
  {
   "cell_type": "markdown",
   "id": "62fb13b4",
   "metadata": {},
   "source": [
    "Посмотрим на распредение выручки с заказа от количества товаров в заказе."
   ]
  },
  {
   "cell_type": "code",
   "execution_count": null,
   "id": "fb972b77",
   "metadata": {},
   "outputs": [],
   "source": [
    "fig = px.scatter(df_order, x=\"Количетво товаров в заказе\", y=\"revenue\", title = 'Распределение чека в зависимости от количества товаров в заказе')\n",
    "fig.update_layout(yaxis_title='Стоимость чека')\n",
    "fig.show()"
   ]
  },
  {
   "cell_type": "markdown",
   "id": "c9f99eb0",
   "metadata": {},
   "source": [
    "- Есть клиенты которые покупают много товаров за дорого. Но их очень мало и они не так очевидны. Было бы ошибкой всех таких покупателей принимать за оптовых.\n",
    "- Зависимости стоимости чека от количества товаров в нем как таковой нет\n",
    "\n",
    "**смысла выделять оптовых покупателей я не вижу**"
   ]
  },
  {
   "cell_type": "markdown",
   "id": "0f2716b6",
   "metadata": {},
   "source": [
    "Разобьем клиентов по среднему чеку. 33% самых дорогих станут \"дорогими\". 33% дешевых станут \"дешевыми\". Остальные средение. Для этого сгуппируем данные."
   ]
  },
  {
   "cell_type": "code",
   "execution_count": null,
   "id": "1cc5e5eb",
   "metadata": {},
   "outputs": [],
   "source": [
    "avg_check_customer = df.groupby('customer_id').agg({'revenue':'sum', 'order_id':'nunique'}).reset_index()\n",
    "avg_check_customer"
   ]
  },
  {
   "cell_type": "markdown",
   "id": "6a9a1e9a",
   "metadata": {},
   "source": [
    "Добавим столбец, который расчитывает средний чек покупателя"
   ]
  },
  {
   "cell_type": "code",
   "execution_count": null,
   "id": "d396a3c2",
   "metadata": {},
   "outputs": [],
   "source": [
    "avg_check_customer['avg_check']=avg_check_customer['revenue']/avg_check_customer['order_id']\n",
    "avg_check_customer"
   ]
  },
  {
   "cell_type": "code",
   "execution_count": null,
   "id": "7bf676e5",
   "metadata": {},
   "outputs": [],
   "source": [
    "exp_customer =avg_check_customer[avg_check_customer['avg_check']>np.percentile(avg_check_customer['avg_check'], 67)]['customer_id'].tolist()\n",
    "ord_customer = (avg_check_customer[(avg_check_customer['avg_check']>np.percentile(avg_check_customer['avg_check'], 34)) \n",
    "                   & (avg_check_customer['avg_check']<=np.percentile(avg_check_customer['avg_check'], 67))]['customer_id'].tolist())\n",
    "cheap_customer = avg_check_customer[avg_check_customer['avg_check']<=np.percentile(avg_check_customer['avg_check'], 34)]['customer_id'].tolist()"
   ]
  },
  {
   "cell_type": "markdown",
   "id": "b80ce304",
   "metadata": {},
   "source": [
    "Создадим новый столбец в df, который покажет наше разделения клиентов на оптовиков, дорогих и обычных. Для этого воспользуемся функцией"
   ]
  },
  {
   "cell_type": "code",
   "execution_count": null,
   "id": "4c3a9a99",
   "metadata": {},
   "outputs": [],
   "source": [
    "def check (customer_id):\n",
    "    \"\"\"\n",
    "    Распределяет клиентов на группы относительно заданного критерия.\n",
    "\n",
    "    функция принимает аргумент - номер клиента и определяет его в \n",
    "    группу в соответствии с заданным условием.\n",
    "    \n",
    "    \"\"\"\n",
    "    \n",
    "    if customer_id in exp_customer:\n",
    "        return 'дорогой'\n",
    "    elif customer_id in ord_customer:\n",
    "        return 'средний'\n",
    "    elif customer_id in cheap_customer:\n",
    "        return 'дешевый'       \n",
    "    "
   ]
  },
  {
   "cell_type": "code",
   "execution_count": null,
   "id": "76c84d14",
   "metadata": {},
   "outputs": [],
   "source": [
    "df['seg_by_check'] = df['customer_id'].apply(check)"
   ]
  },
  {
   "cell_type": "markdown",
   "id": "07b370ac",
   "metadata": {},
   "source": [
    "Проверим все ли клиенты попали в обозначенные группы"
   ]
  },
  {
   "cell_type": "code",
   "execution_count": null,
   "id": "a1f0951e",
   "metadata": {},
   "outputs": [],
   "source": [
    "df[df['seg_by_check'].isna()]"
   ]
  },
  {
   "cell_type": "markdown",
   "id": "9e6e8f7c",
   "metadata": {},
   "source": [
    "Сгрупируем данные и посмотрим на распределение покупатлей по сформированным групам, а также их выручки и долю выручки. "
   ]
  },
  {
   "cell_type": "code",
   "execution_count": null,
   "id": "1bc47a6c",
   "metadata": {},
   "outputs": [],
   "source": [
    "revenue_by_check = df.groupby(['seg_by_check']).agg({'revenue':'sum', 'customer_id':'nunique', 'order_id':'nunique'}).reset_index()\n",
    "revenue_by_check.columns = ['группа покупателя','выручка','количество покупателей', 'количество заказов']\n",
    "revenue_by_check['средняя выручка с покупателя'] = (revenue_by_check['выручка']/revenue_by_check['количество покупателей']).round()\n",
    "revenue_by_check"
   ]
  },
  {
   "cell_type": "code",
   "execution_count": null,
   "id": "dc8d0825",
   "metadata": {},
   "outputs": [],
   "source": [
    "fig = px.pie(revenue_by_check, values='количество покупателей', names='группа покупателя', title='Диагамма отношения числа клиентов по среднему чеку',\n",
    "             color= 'группа покупателя', color_discrete_map={'дешевый':'red',\n",
    "                                 'средний':'blue',\n",
    "                                 'дорогой':'green'\n",
    "                                 })\n",
    "fig.update_traces(textposition='inside', textinfo='percent')\n",
    "fig.show()"
   ]
  },
  {
   "cell_type": "markdown",
   "id": "3a00b529",
   "metadata": {},
   "source": [
    "Клиенты разбились на равные группы"
   ]
  },
  {
   "cell_type": "markdown",
   "id": "7a9d359b",
   "metadata": {},
   "source": [
    "Посмотрим сколько в среднем выручки генерируют клиенты из разных групп."
   ]
  },
  {
   "cell_type": "code",
   "execution_count": null,
   "id": "a8db0bc8",
   "metadata": {
    "scrolled": false
   },
   "outputs": [],
   "source": [
    "fig = px.bar(revenue_by_check.sort_values('средняя выручка с покупателя', ascending = False),\n",
    "x='группа покупателя', \n",
    "y='средняя выручка с покупателя',\n",
    "color = 'выручка',\n",
    "text = 'количество заказов'\n",
    "            )\n",
    "fig.update_layout(title='ARPU клиентов из разных групп',\n",
    "xaxis_title='группа клиента',\n",
    "yaxis_title='ARPU')\n",
    "fig.show() "
   ]
  },
  {
   "cell_type": "markdown",
   "id": "840d7793",
   "metadata": {},
   "source": [
    "- \"Дорогие\" клиенты наша золотая жила. Они покупают чаще \"дешевых\" и в среднем они аккумулирут больше 3500 рублей выручки с клиента.\n",
    "- \"Средние\" клиенты по показателю ARPU опережают дешевых в 3 раза.\n",
    "- У \"дешевых\" нет преимущества по числу заказов. Мы уже выяснили, что клиенты редко покупают дважды."
   ]
  },
  {
   "cell_type": "code",
   "execution_count": null,
   "id": "87c0c912",
   "metadata": {},
   "outputs": [],
   "source": [
    "fig = px.pie(revenue_by_check, values='выручка', names='группа покупателя', title='Диагамма распределения выручки от группы покупателей',\n",
    "             color= 'группа покупателя', color_discrete_map={'дешевый':'red',\n",
    "                                 'средний':'blue',\n",
    "                                 'дорогой':'green'\n",
    "                                 })\n",
    "fig.update_traces(textposition='inside', textinfo='percent')\n",
    "fig.show()"
   ]
  },
  {
   "cell_type": "markdown",
   "id": "37604057",
   "metadata": {},
   "source": [
    "- Как и ожидалось \"дорогие\" захватили 3/4 общей выручки."
   ]
  },
  {
   "cell_type": "markdown",
   "id": "4e769ccf",
   "metadata": {},
   "source": [
    "**Основные выводы по разделу** \n",
    "- клиенты совершали дорогие покупки перед НГ 2018 года. А перед НГ 2019 было затишье. Средний чек упал в два раза.\n",
    "- в конце зимы и весной совершают частые покупки дешевых товаров.\n",
    "- к лету клиенты снова покупают дорогие товары\n",
    "- медианый чек покупателей - 584 рубля. 75% заказов не превышает 1272 рубля.\n",
    "- в данных есть крупные покупатели, которые берут большое количество товара, но их очень мало и они мало отличаются от розничных дорогих клиентов. Мы не стали выделять их в отдельную группу\n",
    "- мы разделили клиентов на 3 равные группы по среднему чеку\n",
    "- \"дорогие\" клиенты получились самыми привлекательными не только по среднему чеку но и по ARPU. Они покупают чаще \"дешевых\"."
   ]
  },
  {
   "cell_type": "markdown",
   "id": "d7d13e2c",
   "metadata": {},
   "source": [
    "### Помесячная динамика средней выручки с покупателя"
   ]
  },
  {
   "cell_type": "markdown",
   "id": "3a411597",
   "metadata": {},
   "source": [
    "Сгрупируем данные по дате и найдем среднюю выручку с покупателя."
   ]
  },
  {
   "cell_type": "code",
   "execution_count": null,
   "id": "69091bc2",
   "metadata": {},
   "outputs": [],
   "source": [
    "df_rev_by_customer = df.groupby(['year','year_month']).agg({'revenue':'sum', 'customer_id':'nunique'}).reset_index()\n",
    "df_rev_by_customer.rename(columns={'customer_id': 'Количетво покупателей'}, inplace=True)\n",
    "df_rev_by_customer"
   ]
  },
  {
   "cell_type": "code",
   "execution_count": null,
   "id": "9cce27b4",
   "metadata": {},
   "outputs": [],
   "source": [
    "df_rev_by_customer['avg_rev_by_customer'] = df_rev_by_customer['revenue']/df_rev_by_customer['Количетво покупателей']"
   ]
  },
  {
   "cell_type": "code",
   "execution_count": null,
   "id": "75ba38db",
   "metadata": {},
   "outputs": [],
   "source": [
    "fig = px.line(df_rev_by_customer, x='year_month', y='avg_rev_by_customer', text = 'Количетво покупателей')\n",
    "fig.update_layout(\n",
    "    title=\"Динамика помесячной средней выручки с покупателя\",\n",
    "    xaxis_title=\"Дата\",\n",
    "    yaxis_title=\"Средняя выручка\")\n",
    "fig.update_traces(textposition=\"top center\")\n",
    "fig.show()"
   ]
  },
  {
   "cell_type": "markdown",
   "id": "e6b53500",
   "metadata": {},
   "source": [
    "Динамика средней выручки с клиента похожа 1 в 1 на динамику среденго чеку. Не удивительно, ведь мы уже выяснили, что покупатели очень редко делают больше одного заказа.\n",
    "\n",
    "- Можно заменитить что количество покупателей остается стабильным и даже возрастает в конце периода. Т.е. у магазина получается привлекать только дешевых клиентов, хоть и в большем количестве. А старые клиенты с большими чеками не возвращаются. \n",
    "\n",
    "Как мы уже поняли клиенты не часто делают повторные заказы. Рассмотрим это более подробно"
   ]
  },
  {
   "cell_type": "code",
   "execution_count": null,
   "id": "72a851eb",
   "metadata": {},
   "outputs": [],
   "source": [
    "cnt_order_per_customer = df.groupby('customer_id').agg({'order_id':'nunique'}).reset_index()\n",
    "cnt_order_per_customer "
   ]
  },
  {
   "cell_type": "code",
   "execution_count": null,
   "id": "52c4bc61",
   "metadata": {
    "scrolled": true
   },
   "outputs": [],
   "source": [
    "fig, axs = plt.subplots(ncols=2, figsize=(9, 4))\n",
    "fig.suptitle('Распределение количесnва заказов на одного клиента', fontsize=17)\n",
    "\n",
    "plt.subplot(1, 2, 1)\n",
    "ax1 = sns.boxplot(data = cnt_order_per_customer, y = 'order_id')\n",
    "plt.ylabel('Количество заказов на одного клиента')\n",
    "plt.xlabel('')\n",
    "\n",
    "plt.subplot(1, 2, 2)\n",
    "ax2 = sns.boxplot(data = cnt_order_per_customer, y = 'order_id')\n",
    "plt.ylabel('')\n",
    "plt.ylim(0, 5)\n",
    "plt.show"
   ]
  },
  {
   "cell_type": "code",
   "execution_count": null,
   "id": "c820236c",
   "metadata": {},
   "outputs": [],
   "source": [
    "cnt_order_per_customer['order_id'].describe()"
   ]
  },
  {
   "cell_type": "markdown",
   "id": "60d15349",
   "metadata": {},
   "source": [
    "Чаще всего клиенты за рассматриваемый период делали 1 заказ. 75% сделали не больше двух. В среднем на одного клиента приходится 1,4 заказа. Поэтому графики динамики среднего чека и динамики выручки с покупателя так похожи. Имеются и клиенты, совершившие около 40 и даже более 120 покупок."
   ]
  },
  {
   "cell_type": "markdown",
   "id": "ea1292a1",
   "metadata": {},
   "source": [
    "разобьем клиентов по процентилю на три группы как и в прошлые разы"
   ]
  },
  {
   "cell_type": "code",
   "execution_count": null,
   "id": "4a58be54",
   "metadata": {},
   "outputs": [],
   "source": [
    "loyal = cnt_order_per_customer[cnt_order_per_customer['order_id']>np.percentile(cnt_order_per_customer['order_id'], 66)]['customer_id'].to_list()"
   ]
  },
  {
   "cell_type": "code",
   "execution_count": null,
   "id": "a4f7bfaa",
   "metadata": {},
   "outputs": [],
   "source": [
    "frequent = (cnt_order_per_customer[(cnt_order_per_customer['order_id']>np.percentile(cnt_order_per_customer['order_id'], 33)) \n",
    "                   & (cnt_order_per_customer['order_id']<=np.percentile(cnt_order_per_customer['order_id'], 66))]['customer_id'].tolist())"
   ]
  },
  {
   "cell_type": "code",
   "execution_count": null,
   "id": "1eeca562",
   "metadata": {},
   "outputs": [],
   "source": [
    "infrequent = cnt_order_per_customer[cnt_order_per_customer['order_id']<=np.percentile(cnt_order_per_customer['order_id'], 33)]['customer_id'].to_list()"
   ]
  },
  {
   "cell_type": "markdown",
   "id": "443d6eab",
   "metadata": {},
   "source": [
    "Немного переделаем функцию, чтобы распределить клиентов по группам относительно числа заказов."
   ]
  },
  {
   "cell_type": "code",
   "execution_count": null,
   "id": "20ec73d4",
   "metadata": {},
   "outputs": [],
   "source": [
    "def order (customer_id):\n",
    "    \"\"\"\n",
    "    Распределяет клиентов на группы относительно заданного критерия.\n",
    "\n",
    "    функция принимает аргумент - номер клиента и определяет его в \n",
    "    группу в соответствии с заданным условием.\n",
    "    \n",
    "    \"\"\"\n",
    "    \n",
    "    if customer_id in loyal:\n",
    "        return 'лояльный'\n",
    "    elif customer_id in frequent:\n",
    "        return 'частый'\n",
    "    elif customer_id in infrequent:\n",
    "        return 'нечастый'       \n",
    "    "
   ]
  },
  {
   "cell_type": "code",
   "execution_count": null,
   "id": "66721faf",
   "metadata": {},
   "outputs": [],
   "source": [
    "df['seg_by_order'] = df['customer_id'].apply(order)"
   ]
  },
  {
   "cell_type": "markdown",
   "id": "5cd49b9b",
   "metadata": {},
   "source": [
    "Проверим на пропуски"
   ]
  },
  {
   "cell_type": "code",
   "execution_count": null,
   "id": "b9ad4778",
   "metadata": {},
   "outputs": [],
   "source": [
    "df[df['seg_by_order'].isna()]"
   ]
  },
  {
   "cell_type": "markdown",
   "id": "1c66c51e",
   "metadata": {},
   "source": [
    "Сгрупируем данные и посмотрим на распределение покупатлей по сформированным групам, а также их выручки и долю выручки."
   ]
  },
  {
   "cell_type": "code",
   "execution_count": null,
   "id": "48fe4bcf",
   "metadata": {},
   "outputs": [],
   "source": [
    "revenue_by_cnt_order = df.query('revenue != 675000').groupby(['seg_by_order'])\\\n",
    ".agg({'revenue':'sum', 'customer_id':'nunique'}).reset_index()\n",
    "revenue_by_cnt_order.columns = ['группа покупателя','выручка','количество покупателей']\n",
    "revenue_by_cnt_order['средняя выручка с покупателя'] = (revenue_by_cnt_order['выручка']/revenue_by_cnt_order['количество покупателей']).round()\n",
    "revenue_by_cnt_order"
   ]
  },
  {
   "cell_type": "code",
   "execution_count": null,
   "id": "f6c39c94",
   "metadata": {},
   "outputs": [],
   "source": [
    "fig = px.pie(revenue_by_cnt_order, values='количество покупателей', names='группа покупателя', title='Диагамма отношения числа клиентов по количеству заказов')\n",
    "fig.update_traces(textinfo='percent')\n",
    "fig.show()"
   ]
  },
  {
   "cell_type": "markdown",
   "id": "7b49f87e",
   "metadata": {},
   "source": [
    "На равные группы клиентов разбить не получилось. А \"лояльных\" так и вовсе 1%. Посмотрим сколько заказов совершают клиенты из разных групп."
   ]
  },
  {
   "cell_type": "code",
   "execution_count": null,
   "id": "b685b610",
   "metadata": {},
   "outputs": [],
   "source": [
    "cnt_order = df.groupby(['seg_by_order','customer_id']).agg({'order_id':'nunique'}).reset_index().sort_values('order_id', ascending = False)"
   ]
  },
  {
   "cell_type": "code",
   "execution_count": null,
   "id": "a30e8b34",
   "metadata": {},
   "outputs": [],
   "source": [
    "fig = px.scatter(cnt_order, x=\"seg_by_order\", y=\"order_id\", color ='seg_by_order', title = 'Распределение числа заказов от группы клиента')\n",
    "fig.update_layout(yaxis_title='количество заказов клиента', xaxis_title='группа клиента')\n",
    "fig.show()"
   ]
  },
  {
   "cell_type": "markdown",
   "id": "a92791a0",
   "metadata": {},
   "source": [
    "В группа \"нечастые\" входят клиенты с одним заказов, а в частые только два. Посмотрим на ARPU. Пока эти клиенты мало чем отличаются."
   ]
  },
  {
   "cell_type": "code",
   "execution_count": null,
   "id": "d99e4c3a",
   "metadata": {
    "scrolled": false
   },
   "outputs": [],
   "source": [
    "fig = px.bar(revenue_by_cnt_order.sort_values('средняя выручка с покупателя', ascending = False),\n",
    "x='группа покупателя', \n",
    "y='средняя выручка с покупателя',\n",
    "color = 'выручка')\n",
    "fig.update_layout(title='ARPU клиентов из разных групп',\n",
    "xaxis_title='группа клиента',\n",
    "yaxis_title='ARPU')\n",
    "fig.show() "
   ]
  },
  {
   "cell_type": "markdown",
   "id": "ae801449",
   "metadata": {},
   "source": [
    "- По накопленный выручке сильно впереди лояльные. \n",
    "- У частых и нечастых разница в ARRPU менее чем двукратная, а количество заказов отличается на 1. **Объединим эти группы** они не показательны\n",
    "\n"
   ]
  },
  {
   "cell_type": "code",
   "execution_count": null,
   "id": "f081ff54",
   "metadata": {},
   "outputs": [],
   "source": [
    "df.loc[df[\"seg_by_order\"] == \"частый\", \"seg_by_order\"] = 'нечастый'\n",
    "df[\"seg_by_order\"].value_counts()"
   ]
  },
  {
   "cell_type": "markdown",
   "id": "d570e8ab",
   "metadata": {},
   "source": [
    "Теперь посмотрим сколько разные группы приносят выручки"
   ]
  },
  {
   "cell_type": "code",
   "execution_count": null,
   "id": "b26a278b",
   "metadata": {},
   "outputs": [],
   "source": [
    "revenue_by_cnt_order = df.query('revenue != 675000').groupby(['seg_by_order'])\\\n",
    ".agg({'revenue':'sum', 'customer_id':'nunique'}).reset_index()\n",
    "revenue_by_cnt_order.columns = ['группа покупателя','выручка','количество покупателей']\n",
    "revenue_by_cnt_order['средняя выручка с покупателя'] = (revenue_by_cnt_order['выручка']/revenue_by_cnt_order['количество покупателей']).round()\n",
    "revenue_by_cnt_order"
   ]
  },
  {
   "cell_type": "code",
   "execution_count": null,
   "id": "8e265329",
   "metadata": {},
   "outputs": [],
   "source": [
    "fig = px.pie(revenue_by_cnt_order, values='количество покупателей', names='группа покупателя', title='Диагамма отношения числа клиентов по количеству заказов')\n",
    "fig.update_traces(textinfo='percent')\n",
    "fig.show()"
   ]
  },
  {
   "cell_type": "code",
   "execution_count": null,
   "id": "50749e5c",
   "metadata": {},
   "outputs": [],
   "source": [
    "fig = px.pie(revenue_by_cnt_order, values='выручка', names='группа покупателя', title='Диагамма распределения выручки от группы покупателей')\n",
    "fig.update_traces(textposition='inside', textinfo='percent')\n",
    "fig.show()"
   ]
  },
  {
   "cell_type": "markdown",
   "id": "596e214b",
   "metadata": {},
   "source": [
    "1 % лояльных делает 9% прибыли. Очень привлекательная группа, хотя и малочисленная."
   ]
  },
  {
   "cell_type": "markdown",
   "id": "5dbeaa2a",
   "metadata": {},
   "source": [
    "**Основные выводы по разделу** \n",
    "- динамика выручки с клиента очень похожа на динамику средних чеков. Все потому что клиенты редко делают более 1 заказа. В среднем 1,4 заказ за рассматриваемый период. Только 36% клиентов решается на повторных заказ. \n",
    "- Клиенты обычно невозвращаются\n",
    "- больше всего крупных покупок делалось в конце 2018 и начале 2019 года. Затем был упадок в спросе, который начал востанавливаться летом\n",
    "- в конеце 2019 года клиенты намного дешевле, чем в 2018.\n",
    "- Мы разделили клиентов на \"лояльный\" с три и более заказами и нечастых с 1-2 заказами\n"
   ]
  },
  {
   "cell_type": "markdown",
   "id": "fefeb160",
   "metadata": {},
   "source": [
    "## Основные вопросы исследования"
   ]
  },
  {
   "cell_type": "markdown",
   "id": "c693ad27",
   "metadata": {},
   "source": [
    "После всех сделанных наблюдений в ходе исследования постараемся прийти решение основных целей исследования\n",
    "\n",
    "**основаня цель исследования -  предоставить комплексный анализ и рекомендации, которые позволят увеличить продажи и лояльность клиентов путем сегментированного маркетинга**\n",
    "\n",
    "Мы сделали несколько группировок клиентов, применяя методы RFM-анализа и готовые перейти к завершающему этапу"
   ]
  },
  {
   "cell_type": "markdown",
   "id": "c0e81a44",
   "metadata": {},
   "source": [
    "### Сегментирование клиентов"
   ]
  },
  {
   "cell_type": "markdown",
   "id": "0ad042b7",
   "metadata": {},
   "source": [
    "У нас будет следующее количество категорий, характеризующих покупатля:\n",
    "- 3 по времени, которое прошло с покупки (recency)\n",
    "- 2 по частотности заказов (frequency)\n",
    "- 3 по сумме, которую клиент тратит на продукты компании (monetary)\n",
    "\n",
    "Должно получится 18 комбинаций "
   ]
  },
  {
   "cell_type": "markdown",
   "id": "3bcf651f",
   "metadata": {},
   "source": [
    "\n",
    "Сегментация будет выгледеть следующим образом:\n",
    "\n",
    "- 'спящий средний лояльный',\n",
    "- 'спящий дорогой нечастый',\n",
    "- 'спящий дорогой лояльный',\n",
    "- 'спящий дешевый лояльный'\n",
    "- прежний дорогой лояльный'\n",
    "\n",
    "Определим как **'уснувшие**. Покупатели, которые дорого и давно. Их следуют возвращать.\n",
    "\n",
    "- 'спящий дешевый нечастый',\n",
    "- 'спящий средний нечастый',\n",
    "- 'текущий дешевый нечастый',\n",
    "- 'прежний дешевый нечастый'\n",
    "\n",
    "Определим как **'аутсайдеры'**. Покупали в основном давно и мало. Непривлекательная группа\n",
    "\n",
    "- 'прежний дешевый лояльный',\n",
    "- 'прежний средний лояльный',\n",
    "- 'прежний средний нечастый',\n",
    "- 'прежний средний нечастый',\n",
    "- 'текущий средний нечастый'\n",
    "\n",
    "\n",
    "Определим как **'потенциальные лидеры'**. Этим клиентам не хватает среднего чека и текущей активности, чтобы стать лидерами.\n",
    "\n",
    "- 'прежний дорогой нечастый',\n",
    "- 'прежний средний лояльный',\n",
    "- 'текущий средний лояльный',\n",
    "- 'текущий дорогой нечастый',\n",
    "- 'текущий дорогой лояльный'\n",
    "\n",
    "Определим как **'лидеры'**. Лояльные дорогие и в настоящее время активные клиенты. \n",
    "\n",
    "\n",
    "\n",
    "Всего получилось 18 комбинаций и 4 сегмента:"
   ]
  },
  {
   "cell_type": "markdown",
   "id": "2158ad39",
   "metadata": {},
   "source": [
    "суммируем столбцы с группами покупателей, чтобы распределить их по сегментам"
   ]
  },
  {
   "cell_type": "code",
   "execution_count": null,
   "id": "465d3db3",
   "metadata": {},
   "outputs": [],
   "source": [
    "df['rfm'] = df['seg_by_date'] + ' ' + df['seg_by_check'] + ' ' + df['seg_by_order']"
   ]
  },
  {
   "cell_type": "code",
   "execution_count": null,
   "id": "917319f8",
   "metadata": {
    "scrolled": true
   },
   "outputs": [],
   "source": [
    "df.head(1)"
   ]
  },
  {
   "cell_type": "code",
   "execution_count": null,
   "id": "9e73df18",
   "metadata": {},
   "outputs": [],
   "source": [
    "df[df['rfm'].isna()]"
   ]
  },
  {
   "cell_type": "markdown",
   "id": "cd1ed354",
   "metadata": {},
   "source": [
    "Создадим словарь, в котором ключи - это сегмент клиента, а значения - комбинации"
   ]
  },
  {
   "cell_type": "code",
   "execution_count": null,
   "id": "b3960c73",
   "metadata": {},
   "outputs": [],
   "source": [
    "rfm_dict = {'уснувшие' : ['спящий средний лояльный',\n",
    "                        'спящий дорогой нечастый',\n",
    "                        'спящий дорогой лояльный',\n",
    "                           'спящий дешевый лояльный'],\n",
    "            'аутсайдеры' : ['спящий дешевый нечастый',\n",
    "                           'спящий средний нечастый',\n",
    "                           'текущий дешевый нечастый',\n",
    "                           'прежний дешевый нечастый'],\n",
    "            'потенциальные лидеры' : ['прежний дешевый лояльный',\n",
    "                        'прежний средний лояльный',\n",
    "                        'прежний средний нечастый',\n",
    "                        'прежний средний нечастый',\n",
    "                        'текущий средний нечастый'],                                     \n",
    "            'лидеры' : [\n",
    "                        'прежний дорогой лояльный',\n",
    "                        'прежний дорогой нечастый',\n",
    "                        'прежний средний лояльный',\n",
    "                        'текущий средний лояльный',\n",
    "                        'текущий дорогой нечастый',\n",
    "                        'текущий дорогой лояльный']\n",
    "            }"
   ]
  },
  {
   "cell_type": "code",
   "execution_count": null,
   "id": "92d24c95",
   "metadata": {},
   "outputs": [],
   "source": [
    "def seg (rfm):\n",
    "    \"\"\"\n",
    "    Распределяет покупателй на сегменты в зависимости от значений в словаре.\n",
    "\n",
    "    Функция перебирает ключи словаря (категории) их значения (комбинации RFM) в них, если комбинации RFM\n",
    "    содержится в столбце комбинации RFM, этот клиент будет сегментирован в соответствии с ключом словаря\n",
    "    \n",
    "    \"\"\"    \n",
    "    dict = rfm_dict #задать словарь\n",
    "    category = list(dict.keys())\n",
    "    \n",
    "    \n",
    "    for i in category:\n",
    "        for n in dict.get(i):\n",
    "            if n in rfm:\n",
    "                return i\n",
    "            \n",
    "                       "
   ]
  },
  {
   "cell_type": "code",
   "execution_count": null,
   "id": "cacaf57d",
   "metadata": {},
   "outputs": [],
   "source": [
    "df['segment'] = df['rfm'].apply(seg)\n",
    "df[['rfm', 'segment']].head(10)"
   ]
  },
  {
   "cell_type": "code",
   "execution_count": null,
   "id": "2a3cd1c9",
   "metadata": {},
   "outputs": [],
   "source": [
    "df[df['segment'].isna()]"
   ]
  },
  {
   "cell_type": "markdown",
   "id": "2f3c92b6",
   "metadata": {},
   "source": [
    "Клиентов не потеряли. Посмотрим на доли разных сегментов клиентов"
   ]
  },
  {
   "cell_type": "code",
   "execution_count": null,
   "id": "3840b0c0",
   "metadata": {},
   "outputs": [],
   "source": [
    "seg_customer = df.groupby(['segment'])\\\n",
    ".agg({'revenue':'sum', 'customer_id':'nunique', 'order_id':'nunique'}).reset_index()\n",
    "seg_customer.columns = ['сегмент покупателя','выручка','количество покупателей', 'количество заказов']\n"
   ]
  },
  {
   "cell_type": "code",
   "execution_count": null,
   "id": "f84a0ba9",
   "metadata": {},
   "outputs": [],
   "source": [
    "fig = px.pie(seg_customer, values='количество покупателей', names='сегмент покупателя', \n",
    "             title='Диагамма доли разных сегментов покупателей', color = 'сегмент покупателя',\n",
    "            color_discrete_map={'лидеры':'red',\n",
    "                                 'потенциальные лидеры':'blue',\n",
    "                                 'аутсайдеры':'grey'\n",
    "                                 })\n",
    "fig.update_traces(textinfo='percent')\n",
    "fig.show()"
   ]
  },
  {
   "cell_type": "markdown",
   "id": "1077d2b1",
   "metadata": {},
   "source": [
    "- Аутсайдеров почти половина, это значит, что почти половина покупателей не очень активна и/или делает заказазы на маленькие чеки.\n",
    "- Уснувших 10%. Это хорошие клиенты, которые давно не делали заказы.\n",
    "- Потенциальных лидеров немногим больше лидеров."
   ]
  },
  {
   "cell_type": "code",
   "execution_count": null,
   "id": "a1b3a10d",
   "metadata": {},
   "outputs": [],
   "source": [
    "fig = px.pie(seg_customer, values='выручка', names='сегмент покупателя', \n",
    "             title='Диагамма доли выручки разных сегментов покупателей', color = 'сегмент покупателя',\n",
    "            color_discrete_map={'лидеры':'red',\n",
    "                                 'потенциальные лидеры':'blue',\n",
    "                                 'аутсайдеры':'grey'\n",
    "                                 })\n",
    "fig.update_traces(textposition='inside', textinfo='percent')\n",
    "fig.show()"
   ]
  },
  {
   "cell_type": "markdown",
   "id": "a98160dd",
   "metadata": {},
   "source": [
    "- Лидеры делают половину выручки, что в два раза больше их доли по количество покупателей.\n",
    "- Унувших, хоть и не так много, но они уверено сделали 1/5 выручки.\n",
    "- Многочисленные аутсайдеры принесли всего лишь 10% выручки."
   ]
  },
  {
   "cell_type": "markdown",
   "id": "13432f84",
   "metadata": {},
   "source": [
    "Посмотрим на средний чек разных сегментов"
   ]
  },
  {
   "cell_type": "code",
   "execution_count": null,
   "id": "c1e3e896",
   "metadata": {},
   "outputs": [],
   "source": [
    "seg_customer"
   ]
  },
  {
   "cell_type": "code",
   "execution_count": null,
   "id": "cedad5f5",
   "metadata": {},
   "outputs": [],
   "source": [
    "seg_customer['average_check'] = round(seg_customer['выручка']/seg_customer['количество заказов'])\n",
    "seg_customer = seg_customer.sort_values('average_check', ascending = False)"
   ]
  },
  {
   "cell_type": "code",
   "execution_count": null,
   "id": "e74760cf",
   "metadata": {},
   "outputs": [],
   "source": [
    "fig = px.bar(seg_customer, \n",
    "x='сегмент покупателя', \n",
    "y='average_check',\n",
    "text=\"количество заказов\", color = 'сегмент покупателя',\n",
    "            color_discrete_map={'лидеры':'red',\n",
    "                                 'потенциальные лидеры':'blue',\n",
    "                                 'аутсайдеры':'grey'\n",
    "                                 })\n",
    "fig.update_layout(title='Средний чек по сегментам покупателей',\n",
    "xaxis_title='Сегмент клиента',\n",
    "yaxis_title='Средний чек клиента')\n",
    "fig.show()"
   ]
  },
  {
   "cell_type": "markdown",
   "id": "1408bb1d",
   "metadata": {},
   "source": [
    "- По среднему чеку впереди уснувшие, они покупали в начале периода в среднем на 3000 рублей.\n",
    "- Следом идут лидеры с большим отрывом от потециальных лидеров. Мало того что они активные, еще и очень дорогие! \n",
    "- У потенциальных чек в два раза дороже, чем у аутсайдеров"
   ]
  },
  {
   "cell_type": "markdown",
   "id": "d67d3999",
   "metadata": {},
   "source": [
    "посмотрим на ARPU клиентов по сегментам"
   ]
  },
  {
   "cell_type": "code",
   "execution_count": null,
   "id": "c8674b23",
   "metadata": {},
   "outputs": [],
   "source": [
    "seg_customer['arpu'] = round(seg_customer['выручка']/seg_customer['количество покупателей'])\n",
    "seg_customer = seg_customer.sort_values('arpu', ascending = False)\n",
    "\n",
    "fig = px.bar(seg_customer, \n",
    "x='сегмент покупателя', \n",
    "y='arpu',\n",
    "text=\"количество покупателей\", color = 'сегмент покупателя',\n",
    "            color_discrete_map={'лидеры':'red',\n",
    "                                 'потенциальные лидеры':'blue',\n",
    "                                 'аутсайдеры':'grey'\n",
    "                                 })\n",
    "fig.update_layout(title='Средняя выручка с клиента',\n",
    "xaxis_title='Сегмент клиента',\n",
    "yaxis_title='ARPU')\n",
    "fig.show()"
   ]
  },
  {
   "cell_type": "markdown",
   "id": "42e8fc32",
   "metadata": {},
   "source": [
    "- по ARPU лидеры догнали унувших. Эти сегменты принесли за период с клиента по 3500 рублей.\n",
    "- Потенциальные более чем в два раза опережают аутсайдеров"
   ]
  },
  {
   "cell_type": "markdown",
   "id": "5146d7c6",
   "metadata": {},
   "source": [
    "Выводы по разделу:\n",
    "\n",
    "Мы разделили клиентов на\n",
    "- \"спящие\". Они покупали в начале периода, но дорого и сделали отличную выручку с клиента. Их доля 9%.\n",
    "- \"лидеры\". Наши самые главные клиенты. Сделали больше половины выручки. Покупали в конце периода. Их 23%.\n",
    "- \"потенцеиальные лидеры\". Клиенты, которым не хватает до лидеров размера среднего чека. Их 25%\n",
    "- \"аутсайдеры\". Клиенты покупали давно, много, но очень дешево. Их больше всего 42%"
   ]
  },
  {
   "cell_type": "markdown",
   "id": "a0321aaf",
   "metadata": {},
   "source": [
    "### Категоризация товаров"
   ]
  },
  {
   "cell_type": "markdown",
   "id": "6eb8d65a",
   "metadata": {},
   "source": [
    "Чтобы разбить товары на категории, найдем самые частые слова в названии продукции и попытаемся по ним сформировать словарь с категориями. Где ключи - это катергии, а значения - ключевые слова."
   ]
  },
  {
   "cell_type": "markdown",
   "id": "a8b2f3a7",
   "metadata": {},
   "source": [
    "Переведем столбец с продукции в строчный вид для удобства"
   ]
  },
  {
   "cell_type": "code",
   "execution_count": null,
   "id": "2923f911",
   "metadata": {},
   "outputs": [],
   "source": [
    "df['product'] = df['product'].str.lower()"
   ]
  },
  {
   "cell_type": "code",
   "execution_count": null,
   "id": "cb1d077b",
   "metadata": {},
   "outputs": [],
   "source": [
    "product_list = df['product'].to_list()"
   ]
  },
  {
   "cell_type": "code",
   "execution_count": null,
   "id": "85de4ec1",
   "metadata": {},
   "outputs": [],
   "source": [
    "product_list"
   ]
  },
  {
   "cell_type": "markdown",
   "id": "c6708aa8",
   "metadata": {},
   "source": [
    "Напишем функцию для ключевых слов"
   ]
  },
  {
   "cell_type": "code",
   "execution_count": null,
   "id": "ec1bfcdd",
   "metadata": {},
   "outputs": [],
   "source": [
    "def most_frequent_word(test_list):\n",
    "    \"\"\"\n",
    "    Разбивает строчки по пробелу, объеденяет все в единый тект и считает выводит самые популярные слова.\n",
    "\n",
    "    функция принимает аргумент - список, который надо обработать, на выходе рачитывает количество повторяющихся\n",
    "    слов в этом списке.\n",
    "    \n",
    "    \"\"\"\n",
    "    all_words = reduce(lambda a, b: a + b, [sub.split() for sub in test_list])\n",
    "    all_words = [word for word in all_words if len(word)>3]\n",
    "    word_counts = Counter(all_words)\n",
    "    return word_counts.most_common(50)\n",
    " \n",
    "most_frequent_word(product_list)\n"
   ]
  },
  {
   "cell_type": "markdown",
   "id": "672ab39b",
   "metadata": {},
   "source": [
    "мы определили самые популярные слова в списке. Попытаемся распределить по категориям самые популярные слова. Например, пелагория и расада, очевидно, - садоводство, а сушилка и доска - товары для дома. При сомнениях пользуемся циклом, который покажет уникальные строки с этим словом, чтобы не закинуть товарную позицию в несоответствующую категорию."
   ]
  },
  {
   "cell_type": "code",
   "execution_count": null,
   "id": "0d9221a7",
   "metadata": {
    "scrolled": true
   },
   "outputs": [],
   "source": [
    "word = 'коврик' #вводим строку и ищем все уникальные строчки с ним\n",
    "unique_product = np.unique(product_list)\n",
    "for item in unique_product: #цикл перебирает строки списка и при наличии слова в строке выводит эту строку целиком\n",
    "    if word in item:\n",
    "        print (item)"
   ]
  },
  {
   "cell_type": "code",
   "execution_count": null,
   "id": "3e82bc33",
   "metadata": {},
   "outputs": [],
   "source": [
    "dict_product = {'цветы и садоводство': ['пеларгония', 'черенок', 'объем 1 л', 'объем 0,5 л', 'объем 0,75 л','объем 4 л', 'кассете', 'рассада','горшке', 'томата', 'петуния', 'кассета', 'p9', 'земляника', 'цветов', 'среднеспелый', 'd-12', 'd12', 'простая'],\\\n",
    "                'искусственные фрукты и цветы': ['муляж', 'искуственных', 'искусственный', 'дерево ель'],\\\n",
    "                'хозтовары, мелкая техника': ['сушилка', 'сиденье', 'вешалка', 'стремянка', 'хозяйственная', 'доска', 'коврик', 'утюг', 'фен'],\\\n",
    "                'сумки и галантерея': ['сумка-тележка', 'тележка',],\\\n",
    "                'мебель и ремонт': ['этажерка'],\\\n",
    "                'посуда и кухня': ['контейнер', 'кружка'],\\\n",
    "               'бытовая химия и ванна': ['ванной'],\\\n",
    "               'текстиль для дома': ['чехол','хлопковый', 'подрукавник']}"
   ]
  },
  {
   "cell_type": "markdown",
   "id": "9ea28cdd",
   "metadata": {},
   "source": [
    "Проверили первые 50 ключевых слов. Теперь категоризируем часть товаров, чтобы определить оставшиеся. Напишем функцию."
   ]
  },
  {
   "cell_type": "code",
   "execution_count": null,
   "id": "1ef5c37d",
   "metadata": {},
   "outputs": [],
   "source": [
    "   \n",
    "def cat (product):\n",
    "    \"\"\"\n",
    "    Распределяет продукцию на категорию в зависимости от значений в словаре.\n",
    "\n",
    "    Функция перебирает ключи словаря (категории) и значения (ключевые слова) в них, если ключевые слова\n",
    "    содержатся в столбца с наименованием товара, этот товар получает название соответствующей категории\n",
    "    \n",
    "    \"\"\"    \n",
    "    dict = dict_product #задать словарь\n",
    "    category = list(dict.keys())\n",
    "    \n",
    "    \n",
    "    for i in category:\n",
    "        for n in dict.get(i):\n",
    "            if n in product:\n",
    "                return i"
   ]
  },
  {
   "cell_type": "markdown",
   "id": "aad9acfa",
   "metadata": {},
   "source": [
    "Создадим новый столбец"
   ]
  },
  {
   "cell_type": "code",
   "execution_count": null,
   "id": "1e70fd71",
   "metadata": {
    "scrolled": true
   },
   "outputs": [],
   "source": [
    "df['category'] = df['product'].apply(cat)\n",
    "df[['product', 'category']]"
   ]
  },
  {
   "cell_type": "code",
   "execution_count": null,
   "id": "7512d4f1",
   "metadata": {},
   "outputs": [],
   "source": [
    "percent_missing = df['category'].isnull().sum() * 100 / len(df['category'])\n",
    "percent_missing"
   ]
  },
  {
   "cell_type": "markdown",
   "id": "b122e2aa",
   "metadata": {},
   "source": [
    "У нас осталось 26% товаров без категорий"
   ]
  },
  {
   "cell_type": "markdown",
   "id": "36921c12",
   "metadata": {},
   "source": [
    "Найдем товары, которвые еще не распределены и сохраним в обновленном списке"
   ]
  },
  {
   "cell_type": "code",
   "execution_count": null,
   "id": "64b0d3ed",
   "metadata": {},
   "outputs": [],
   "source": [
    "product_list_upd = df.query('category.isna()')['product'].to_list()"
   ]
  },
  {
   "cell_type": "markdown",
   "id": "a211f70d",
   "metadata": {},
   "source": [
    "Запустим функцию поиска ключевых слов с обновленным списком."
   ]
  },
  {
   "cell_type": "code",
   "execution_count": null,
   "id": "d9f88b14",
   "metadata": {},
   "outputs": [],
   "source": [
    "def most_frequent_word(test_list):\n",
    "    \"\"\"\n",
    "    Разбивает строчки по пробелу, объеденяет все в единый тект и считает выводит самые популярные слова.\n",
    "\n",
    "    функция принимает аргумент - список, который надо обработать, на выходе рачитывает количество повторяющихся\n",
    "    слов в этом списке.\n",
    "    \n",
    "    \"\"\"\n",
    "    all_words = reduce(lambda a, b: a + b, [sub.split() for sub in test_list])\n",
    "    all_words = [word for word in all_words if len(word)>3]\n",
    "    word_counts = Counter(all_words)\n",
    "    return word_counts.most_common(40)\n",
    " \n",
    "most_frequent_word(product_list_upd)"
   ]
  },
  {
   "cell_type": "code",
   "execution_count": null,
   "id": "3bc90602",
   "metadata": {},
   "outputs": [],
   "source": [
    "word = 'подставка' #вводим строку и ищем все уникальные строчки с ним\n",
    "unique_product = np.unique(product_list_upd)\n",
    "for item in unique_product: #цикл перебирает строки списка и при наличии слова в строке выводит эту строку целиком\n",
    "    if word in item:\n",
    "        print (item)"
   ]
  },
  {
   "cell_type": "markdown",
   "id": "3f8abf94",
   "metadata": {},
   "source": [
    "Приступим к формированию второго словаря"
   ]
  },
  {
   "cell_type": "code",
   "execution_count": null,
   "id": "ed98a5fd",
   "metadata": {},
   "outputs": [],
   "source": [
    "dict_product2 = {'цветы и садоводство': ['гвоздика', 'космея', 'примула', 'пуансеттия', 'роза', 'фиалка', 'хризантема', 'd-10', 'd-13', 'флокс', 'цветущее','упаковке','ампельная'],\\\n",
    "                'искусственные фрукты и цветы': [],\\\n",
    "                'хозтовары, мелкая техника': ['короб', 'ящик', 'бак', 'прищепки', 'коробка', 'стремянки','строительный', 'бидон', 'ковш','штангенциркуль','ёрш','вешалок','подставка','кольца','урна', 'чайник', 'электроштопор'],\\\n",
    "                'сумки и галантерея': [],\\\n",
    "                'мебель и ремонт': ['полки'],\\\n",
    "                'посуда и кухня': ['luminarc', 'тарелка', 'банка', 'кастрюля', 'кувшин', 'лоток для холодца','масленка','миска','сковорода','мантоварка','овощечистка','терка', 'пищевой' ,'ложка','вилка','лопатка','ножей','нож','орехоколка','половник','пресс','сито','соковарка','термостакан','хлебница','шприц кондитерский','салфетница','набор форм','ножницы','блюдо','рыбочистка','картофелемялка','венчик', 'ножей', 'дуршлаг', 'яйца'],\\\n",
    "                'бытовая химия и ванна': ['со стиральной','корзина','гель', 'кондиционер', 'стиральный', 'паста', 'салфетка', 'мытья', 'щетка','мешок','корзина', 'сетка'],\n",
    "                'текстиль для дома': ['наволочка', 'простыня', 'скатерть', '100%', 'wellness', 'хлопок', 'нержавеющей', 'ткань']}"
   ]
  },
  {
   "cell_type": "code",
   "execution_count": null,
   "id": "ba19676b",
   "metadata": {},
   "outputs": [],
   "source": [
    " def cat (product):\n",
    "    \"\"\"\n",
    "    Распределяет продукцию на категорию в зависимости от значений в словаре.\n",
    "\n",
    "    Функция перебирает ключи словаря (категории) и значения (ключевые слова) в них, если ключевые слова\n",
    "    содержатся в столбца с наименованием товара, этот товар получает название соответствующей категории\n",
    "    \n",
    "    \"\"\"    \n",
    "    dict = dict_product2 #задать словарь\n",
    "    category = list(dict.keys())\n",
    "    \n",
    "    \n",
    "    for i in category:\n",
    "        for n in dict.get(i):\n",
    "            if n in product:\n",
    "                return i"
   ]
  },
  {
   "cell_type": "markdown",
   "id": "eb2a33d5",
   "metadata": {},
   "source": [
    "Заменим данные в пропущенных строках столбца `category`"
   ]
  },
  {
   "cell_type": "code",
   "execution_count": null,
   "id": "d5a7bbb9",
   "metadata": {},
   "outputs": [],
   "source": [
    "df.loc[df['category'].isna(), 'category'] = \\\n",
    "df.loc[df['category'].isna(), 'product'].apply(cat)"
   ]
  },
  {
   "cell_type": "code",
   "execution_count": null,
   "id": "e2a15532",
   "metadata": {},
   "outputs": [],
   "source": [
    "df[['product', 'category']]"
   ]
  },
  {
   "cell_type": "code",
   "execution_count": null,
   "id": "71c73d8e",
   "metadata": {},
   "outputs": [],
   "source": [
    "percent_missing = df['category'].isnull().sum() * 100 / len(df['category'])\n",
    "percent_missing"
   ]
  },
  {
   "cell_type": "markdown",
   "id": "09fe6f5e",
   "metadata": {},
   "source": [
    "Осталось 10% наименований. Обновим наш список"
   ]
  },
  {
   "cell_type": "code",
   "execution_count": null,
   "id": "e6038567",
   "metadata": {},
   "outputs": [],
   "source": [
    "product_list_upd = df.query('category.isna()')['product'].to_list()"
   ]
  },
  {
   "cell_type": "code",
   "execution_count": null,
   "id": "2ee6f7d9",
   "metadata": {},
   "outputs": [],
   "source": [
    "def most_frequent_word(test_list):\n",
    "    \"\"\"\n",
    "    Разбивает строчки по пробелу, объеденяет все в единый тект и считает выводит самые популярные слова.\n",
    "\n",
    "    функция принимает аргумент - список, который надо обработать, на выходе рачитывает количество повторяющихся\n",
    "    слов в этом списке.\n",
    "    \n",
    "    \"\"\"\n",
    "    all_words = reduce(lambda a, b: a + b, [sub.split() for sub in test_list])\n",
    "    all_words = [word for word in all_words if len(word)>3]\n",
    "    word_counts = Counter(all_words)\n",
    "    return word_counts.most_common(40)\n",
    " \n",
    "most_frequent_word(product_list_upd)"
   ]
  },
  {
   "cell_type": "code",
   "execution_count": null,
   "id": "6b87cc6d",
   "metadata": {},
   "outputs": [],
   "source": [
    "word = 'крючок' #вводим строку и ищем все уникальные строчки с ним\n",
    "unique_product = np.unique(product_list_upd)\n",
    "for item in unique_product: #цикл перебирает строки списка и при наличии слова в строке выводит эту строку целиком\n",
    "    if word in item:\n",
    "        print (item)"
   ]
  },
  {
   "cell_type": "code",
   "execution_count": null,
   "id": "9ec502c1",
   "metadata": {},
   "outputs": [],
   "source": [
    "dict_product2 = {'цветы и садоводство': ['базилик','дыня','эвкалипт','d-17','микс','патиссон','цикламен','тимьян','гунни,','h-60','арбуз','раннеспелый','цикламен','настурция'],\\\n",
    "                'искусственные фрукты и цветы': [],\\\n",
    "                'хозтовары, мелкая техника': ['пластмассовый','тележки','ручкой', 'миксер','весы', 'придверный','ведро','гладильной','доски','сумка','крючок','лоток','шнур','шпингалет','ковер','хранения','крючок','большая','плечики'],\\\n",
    "                'сумки и галантерея': [],\\\n",
    "                'мебель и ремонт': [],\\\n",
    "                'посуда и кухня': ['набор'],\\\n",
    "                'бытовая химия и ванна': ['rozenbal','leifheit','hausmann','дозатор','штора','россия','перчатки','rozenbal','швабра', 'шваброй'],\n",
    "                'текстиль для дома': []}"
   ]
  },
  {
   "cell_type": "markdown",
   "id": "a5e07ffb",
   "metadata": {},
   "source": [
    "Проделываем то же самое"
   ]
  },
  {
   "cell_type": "code",
   "execution_count": null,
   "id": "2212b694",
   "metadata": {},
   "outputs": [],
   "source": [
    " def cat (product):\n",
    "    \"\"\"\n",
    "    Распределяет продукцию на категорию в зависимости от значений в словаре.\n",
    "\n",
    "    Функция перебирает ключи словаря (категории) и значения (ключевые слова) в них, если ключевые слова\n",
    "    содержатся в столбца с наименованием товара, этот товар получает название соответствующей категории\n",
    "    \n",
    "    \"\"\"    \n",
    "    dict = dict_product2 #задать словарь\n",
    "    category = list(dict.keys())\n",
    "    \n",
    "    \n",
    "    for i in category:\n",
    "        for n in dict.get(i):\n",
    "            if n in product:\n",
    "                return i"
   ]
  },
  {
   "cell_type": "code",
   "execution_count": null,
   "id": "db805f6e",
   "metadata": {},
   "outputs": [],
   "source": [
    "df.loc[df['category'].isna(), 'category'] = \\\n",
    "df.loc[df['category'].isna(), 'product'].apply(cat)"
   ]
  },
  {
   "cell_type": "code",
   "execution_count": null,
   "id": "a39928f4",
   "metadata": {},
   "outputs": [],
   "source": [
    "df[['product', 'category']]"
   ]
  },
  {
   "cell_type": "code",
   "execution_count": null,
   "id": "5c9e0b4d",
   "metadata": {},
   "outputs": [],
   "source": [
    "percent_missing = df['category'].isnull().sum() * 100 / len(df['category'])\n",
    "percent_missing"
   ]
  },
  {
   "cell_type": "markdown",
   "id": "2f689d2a",
   "metadata": {},
   "source": [
    "Добиваем. Осталось 5%. Делаем то же самое. Конец близок"
   ]
  },
  {
   "cell_type": "code",
   "execution_count": null,
   "id": "a9ca0d2e",
   "metadata": {},
   "outputs": [],
   "source": [
    "product_list_upd = df.query('category.isna()')['product'].to_list()\n",
    "\n",
    "def most_frequent_word(test_list):\n",
    "    \"\"\"\n",
    "    Разбивает строчки по пробелу, объеденяет все в единый тект и считает выводит самые популярные слова.\n",
    "\n",
    "    функция принимает аргумент - список, который надо обработать, на выходе рачитывает количество повторяющихся\n",
    "    слов в этом списке.\n",
    "    \n",
    "    \"\"\"\n",
    "    all_words = reduce(lambda a, b: a + b, [sub.split() for sub in test_list])\n",
    "    all_words = [word for word in all_words if len(word)>3]\n",
    "    word_counts = Counter(all_words)\n",
    "    return word_counts.most_common(40)\n",
    "most_frequent_word(product_list_upd)"
   ]
  },
  {
   "cell_type": "code",
   "execution_count": null,
   "id": "c7139d24",
   "metadata": {},
   "outputs": [],
   "source": [
    "most_frequent_word(product_list_upd)\n",
    "\n",
    "word = 'стеклянной' #вводим строку и ищем все уникальные строчки с ним\n",
    "unique_product = np.unique(product_list_upd)\n",
    "for item in unique_product: #цикл перебирает строки списка и при наличии слова в строке выводит эту строку целиком\n",
    "    if word in item:\n",
    "        print (item)"
   ]
  },
  {
   "cell_type": "code",
   "execution_count": null,
   "id": "490e9b2b",
   "metadata": {},
   "outputs": [],
   "source": [
    "dict_product2 = {'цветы и садоводство': ['мирт','d-15','цинния','мята','смесь','вербейник'],\\\n",
    "                'искусственные фрукты и цветы': [],\\\n",
    "                'хозтовары, мелкая техника': ['корыто','алюминиевый','хозлэнд','стяжка','термометр','петля','вешалки'],\\\n",
    "                'сумки и галантерея': [],\\\n",
    "                'мебель и ремонт': [],\\\n",
    "                'посуда и кухня': ['котел', 'сотейник', 'противень', 'выпечки','термос','крышка','выпечки','овощеварка'],\\\n",
    "                'бытовая химия и ванна': [],\n",
    "                'текстиль для дома': ['покрывало']}"
   ]
  },
  {
   "cell_type": "code",
   "execution_count": null,
   "id": "d50b7660",
   "metadata": {},
   "outputs": [],
   "source": [
    " def cat (product):\n",
    "    \"\"\"\n",
    "    Распределяет продукцию на категорию в зависимости от значений в словаре.\n",
    "\n",
    "    Функция перебирает ключи словаря (категории) и значения (ключевые слова) в них, если ключевые слова\n",
    "    содержатся в столбца с наименованием товара, этот товар получает название соответствующей категории\n",
    "    \n",
    "    \"\"\"    \n",
    "    dict = dict_product2 #задать словарь\n",
    "    category = list(dict.keys())\n",
    "    \n",
    "    \n",
    "    for i in category:\n",
    "        for n in dict.get(i):\n",
    "            if n in product:\n",
    "                return i"
   ]
  },
  {
   "cell_type": "code",
   "execution_count": null,
   "id": "342b42aa",
   "metadata": {
    "scrolled": true
   },
   "outputs": [],
   "source": [
    "df.loc[df['category'].isna(), 'category'] = \\\n",
    "df.loc[df['category'].isna(), 'product'].apply(cat)\n",
    "percent_missing = df['category'].isnull().sum() * 100 / len(df['category'])\n",
    "percent_missing"
   ]
  },
  {
   "cell_type": "markdown",
   "id": "1da8863a",
   "metadata": {},
   "source": [
    "Сформируем список оставшихся уникальных значений и разнесем их вручную"
   ]
  },
  {
   "cell_type": "code",
   "execution_count": null,
   "id": "02a9c3e8",
   "metadata": {},
   "outputs": [],
   "source": [
    "product_list_upd = df.query('category.isna()')['product'].to_list()\n",
    "np.unique(product_list_upd)"
   ]
  },
  {
   "cell_type": "code",
   "execution_count": null,
   "id": "0bd58000",
   "metadata": {},
   "outputs": [],
   "source": [
    "dict_product2 = {'цветы и садоводство': ['алиссум (лобулярия) снежные одежды 0,2 г 4650091480302',\n",
    "       'артемизия (полынь горькая) d-9 см',\n",
    "       'бархатцы веселая полянка 0,3 г 4660010777505', 'гардения d-9 см', 'георгина черная красавица 5 шт 4650091480579',\n",
    "       'годеция рембранд 0,1 г 4650091480128',\n",
    "       'горох амброзия 10,0 г 4660010772616','душица обыкновенная d-9 см',\n",
    "       'ель канадская коника ртк 303 горшок 9 л нидерланды','зверобой продырявленный d-9 см',\n",
    "       'зверобой продырявленный оптимист d- 12-13 см',\n",
    "       'зверобой продырявленный оптимист d- 9 см','искусственная лиана плющ 2,4 м', 'иссоп лекарственный d-9 см',\n",
    "       'каланхое каландива белое d-7 см',\n",
    "       'каланхое каландива желтое d-7 см',\n",
    "       'каланхое каландива малиновое d-7 см',\n",
    "       'календула бронзовая красавица 10 шт 4650091480746',\n",
    "       'календула пинк сюрпрайз 0,5 г 4650091480203',\n",
    "       'календула суприм 0,5 г 4650091480227',\n",
    "       'калла крупноцветковая желтая', 'калла крупноцветковая малиновая',\n",
    "       'кипарисовик лавсона элвуди ртк 106 горшок 9 л нидерланды','лаванда торх d-7 см', 'лаватера монт блан 0,3 г 4660010778588',\n",
    "       'лавр d-9 см', 'лапчатка огненное пламя 0,02 г 4650091480616','мелисса лекарственная d-9 см', 'мерный стакан пластиков 1535026',\n",
    "       'мимоза стыдливая d-9 см','морковь детская сладость 2 г 4660010775921', 'муррайя d-9 см','огурец засолочный 0,3 г 4660010776102', 'осина обыкновенная, высота 25-50 см',\n",
    "       'осина обыкновенная, высота 50-100 см'],\\\n",
    "                'искусственные фрукты и цветы': [],\\\n",
    "                'хозтовары, мелкая техника': ['бензин для зажигалок, 1205214','веник для подметания из сорго 225 г 2 шва',\n",
    "       'веник для подметания из сорго lux 400-450 г 3 шва 5 колец',\n",
    "       'веревка полипропиленовая (фал) d-4 мм, l-20 м, 1201031','ерш для туалета с подставкой malibu фарфор 47х12,5 см белый, spirella, 1001768',\n",
    "       'ерш для унитаза spirella venise с подставкой керамический 4007036',\n",
    "       'завертка форточная белая/антик с полимерным покрытием *тонар*, 1108287',\n",
    "       'запасная насадка для ерша пластик черно-белая, spirella, 1021464','измерительный угольник, длина 15 см, truper, ect-6/14369','линейка, длина 30 см, truper, rgl-30/14387',\"многофункциональный инструмент 25 функций, plb025l 7'/pt00234\", \n",
    "                             ],\\\n",
    "                'сумки и галантерея': ['кипятильник электрический 2.5 квт, 1601143','ключница картина w-12 замок 35х30 см',\n",
    "       'комод эльфпласт виола 3-х секционный коричневый 339',\n",
    "       'комод эльфпласт № 3 алфавит оранжевый 301о',\n",
    "       'кореопсис толл 0,1 г 4650091480258',\n",
    "       'корзинка с крышкой natural style l 30 л 23,1*43,6*32,5 см кремовый d 03619-885 curver 03619-885',\n",
    "       'кофе арабика d-7 см', 'кофе арабика d-9 см',\n",
    "       'кофр малый жесткий 28*30*16 см леопард валиант / valiant lb301',\n",
    "       'крепеж для пружины дверной оцинкованный, 1107054',\n",
    "       'крепеж для пружины дверной, 1107055',],\\\n",
    "                'мебель и ремонт': ['обувница-3 квадро цвет венге 70000001в'],\\\n",
    "                'посуда и кухня': ['емкость для свч lux 3.2 л прямоугольная, curver, 15552',\n",
    "       'емкость для свч lux 4.4 л прямоугольная, curver, 15537',\n",
    "       'емкость для соуса с ложкой pasabahce 200 мл ots131505-000',],\\\n",
    "                'бытовая химия и ванна': ['ванна 70 л оцинкованная г.магнитогорск, 1301016','губка спираль металлическая eurohouse 2 шт eh3599',\n",
    "       'держатель для туалетной бумаги с373 \"полимербыт\" 1713006','защитная соль для посудомоечных машин ludwik 1,5 кг польша 5900861242227','мыло ручной работы свинюшка в грязюшке 90 г',\n",
    "       'мыло ручной работы сувенир подарок на 8 марта классика',\n",
    "       'мыло-скраб с мочалкой люфой мандала около 100 г',\n",
    "       'мыльница пластмассовая на ванну м2221 1702010',\n",
    "       'нетканые салфетки в рулоне 70 шт eurohouse eh4967',\n",
    "       'нолина в цветной керамике d-7 см','ополаскиватель для посудомоечных машин ludwik 750 мл польша 5900861242715'],\n",
    "                'текстиль для дома': []}\n",
    "\n"
   ]
  },
  {
   "cell_type": "code",
   "execution_count": null,
   "id": "a09aec82",
   "metadata": {},
   "outputs": [],
   "source": []
  },
  {
   "cell_type": "code",
   "execution_count": null,
   "id": "9442c087",
   "metadata": {},
   "outputs": [],
   "source": [
    " def cat (product):\n",
    "    \"\"\"\n",
    "    Распределяет продукцию на категорию в зависимости от значений в словаре.\n",
    "\n",
    "    Функция перебирает ключи словаря (категории) и значения (ключевые слова) в них, если ключевые слова\n",
    "    содержатся в столбца с наименованием товара, этот товар получает название соответствующей категории\n",
    "    \n",
    "    \"\"\"    \n",
    "    dict = dict_product2 #задать словарь\n",
    "    category = list(dict.keys())\n",
    "    \n",
    "    \n",
    "    for i in category:\n",
    "        for n in dict.get(i):\n",
    "            if n in product:\n",
    "                return i\n",
    "            \n",
    "df.loc[df['category'].isna(), 'category'] = \\\n",
    "df.loc[df['category'].isna(), 'product'].apply(cat)\n",
    "percent_missing = df['category'].isnull().sum() * 100 / len(df['category'])\n",
    "percent_missing"
   ]
  },
  {
   "cell_type": "code",
   "execution_count": null,
   "id": "73bd79be",
   "metadata": {},
   "outputs": [],
   "source": [
    "product_list_upd = df.query('category.isna()')['product'].to_list()\n",
    "np.unique(product_list_upd)"
   ]
  },
  {
   "cell_type": "code",
   "execution_count": null,
   "id": "905fd7c8",
   "metadata": {},
   "outputs": [],
   "source": [
    "dict_product2 = {'цветы и садоводство': ['лаванда d-9 см','петрушка итальянский гигант 2 г 4660010776553','розмарин d-9 см','салат рукола дикая оливетта 0,3 г 4660010776898',\n",
    "       'салат рукола сицилия 1 г 4660010772852',\n",
    "       'салатник карин гранит 12см n6615 luminar франция',\n",
    "       'сантолина d-9 см','скиммия японская рубелла d-19 см h-40 см','спатифиллум d-7 см', 'спатифиллум свит лауретта d-21 см h-95 см','томат балконное чудо 0,1 г 4660010772531','тюльпан louvre (лувр) бахромчатый 25 шт','укроп обильнолистный 3,0 г 4660010772562',\n",
    "                                        'хризолидокарпус лутесценс d-9 см',\n",
    "       'цинерария серебряная пыль 0,1 г 4660010770797',\n",
    "       'цитрофортунелла кумкват штамбовая d-21 см h-75 см',\n",
    "       'чабер bolero d-7 см','шеффлера лузеана d-9 см','эхеверия перл фон нюрнберг d-7 см', 'эхинокактус грузони d-5 см',\n",
    "       'эшшольция карминный король 0,5 г 4660010770193'],\\\n",
    "                'искусственные фрукты и цветы': [],\\\n",
    "                'хозтовары, мелкая техника': ['основание для пробки электрический 25 а, 1601164','пружина дверная 240 мм оцинкованная (д-19 мм) без крепления, 1107014',\n",
    "       'пьезозажигалка с мультиискрой на батарейке тд1-005в',\n",
    "       'решетка вентиляционная металлическая золото 17х17 см 1710035','ролик для чистки одежды *clear line* (20 слоев), 1205060',\n",
    "       'ручка мебель и ремонтная кольцо овальное хром, 1108416',\n",
    "       'ручка-скоба рс-100 белая *трибатрон*, 1108035','сверло по металлу d=12,0 мм р6м5 с цилиндрическим хвостиком гост 10902, 0512195',\n",
    "       'сверло-фреза, 6 мм, нитрид титана *888* 6862060, 0512262',\n",
    "       'сверло-фреза, 8 мм, нитрид титана *888* 6862080, 0512263','уголок оконный 100х100 мм медь антик с полимерным покрытием *тонар*, 1109038','фиксатор-шар хром большой, 1108349', 'фиттония скелетон d-9 см',\n",
    "       'фоторамка alparaisa на 7 фотографий бронзовая 43х42,5 см с31-017',\n",
    "       'холодная сварка mastix 55г для труб и батарей, 1205197',\n",
    "       'холодная сварка mastix 55г универсальная, 1205037','шпагат полипропиленовый 1.0 ктекс 100м цветной на бобине, размотка изнутри 888, 1201143',\n",
    "       'шпагат полипропиленовый 1.2 ктекс 110 м *ками груп*, 1201104',\n",
    "       'щётка для унитаза нержавеющая сталь, fc-51001d'],\\\n",
    "                'сумки и галантерея': ['светильник настольный 17 led ламп, светодиодный сенсорный, с диммером 26-0004/w черный, perfectolight', 'соковыжималка для цитрусовых pasabahce ots131421-500',],\\\n",
    "                'мебель и ремонт': ['стеллаж для обуви telio-370 венге opt-370v',\n",
    "       'стеллаж для обуви светлый telio-350 opt-350s', 'ручка мебельная кольцо овальное хром'],\\\n",
    "                'посуда и кухня': ['просеиватель для муки d27см., rsb','сахарница фарфоровая lavender blade 10 см, domenik, dm9247','скалка силиконовая, lekue, 0200800m02u050','скребок кондитерский webber be-0368 лавандовый',\n",
    "       'сметка с совком престиж, york, g6207',\n",
    "       'смолевка звездный взрыв 0,02 г 4650091480630',\n",
    "       'совок металический серый, burstenmann, 1428/0000','стакан низкий лабиринт 250 мл для напитков 05с1262','толкушка деревянная ( бук ) 1530018','тортница curver 00416-286-00',\n",
    "       'тряпкодержатель с металлическим креплением (г) 1804015'],\\\n",
    "                'бытовая химия и ванна': ['подголовник bacchetta 25х34 см quadrifoglio 4809',\n",
    "       'пробка для ванны резиновая (д-40 мм) 1206155',\n",
    "       'пробка для ванны резиновая с цепочкой 1206157','тряпкодержатель с металлическим креплением (г) 1804015','увлажняющая маска brown rice moisture 330 мл корея 599928','чистящий крем для трудновыводимых пятен mama lemon stain remover 500 гр индонезия 8998866106207',\n",
    "                                         ],\n",
    "                'текстиль для дома': ['фал капроновый 6 мм в бухте 300м т-1, 1201050']}"
   ]
  },
  {
   "cell_type": "code",
   "execution_count": null,
   "id": "1f760b4b",
   "metadata": {},
   "outputs": [],
   "source": [
    " def cat (product):\n",
    "    \"\"\"\n",
    "    Распределяет продукцию на категорию в зависимости от значений в словаре.\n",
    "\n",
    "    Функция перебирает ключи словаря (категории) и значения (ключевые слова) в них, если ключевые слова\n",
    "    содержатся в столбца с наименованием товара, этот товар получает название соответствующей категории\n",
    "    \n",
    "    \"\"\"    \n",
    "    dict = dict_product2 #задать словарь\n",
    "    category = list(dict.keys())\n",
    "    \n",
    "    \n",
    "    for i in category:\n",
    "        for n in dict.get(i):\n",
    "            if n in product:\n",
    "                return i\n",
    "            \n",
    "df.loc[df['category'].isna(), 'category'] = \\\n",
    "df.loc[df['category'].isna(), 'product'].apply(cat)\n",
    "percent_missing = df['category'].isnull().sum() * 100 / len(df['category'])\n",
    "percent_missing"
   ]
  },
  {
   "cell_type": "code",
   "execution_count": null,
   "id": "f1212ed1",
   "metadata": {},
   "outputs": [],
   "source": [
    "product_list_upd = df.query('category.isna()')['product'].to_list()\n",
    "np.unique(product_list_upd)"
   ]
  },
  {
   "cell_type": "markdown",
   "id": "4a3fa45c",
   "metadata": {},
   "source": [
    "Посмотрим на распределение категорий товаров."
   ]
  },
  {
   "cell_type": "code",
   "execution_count": null,
   "id": "efe48af1",
   "metadata": {},
   "outputs": [],
   "source": [
    "category_product = df.groupby(['category'])\\\n",
    ".agg({'revenue':'sum', 'customer_id':'nunique', 'order_id':'nunique'}).reset_index()\n",
    "category_product.columns = ['категория товара','выручка','количество покупателей', 'количество заказов']\n",
    "#revenue_by_last_order['средняя выручка с покупателя'] = (revenue_by_last_order['выручка']/revenue_by_last_order['количество покупателей']).round()\n",
    "category_product"
   ]
  },
  {
   "cell_type": "code",
   "execution_count": null,
   "id": "e21d025e",
   "metadata": {},
   "outputs": [],
   "source": [
    "fig = px.bar(category_product.sort_values('выручка', ascending = False), \n",
    "x='категория товара', \n",
    "y='выручка',\n",
    "\n",
    "text=\"количество покупателей\", color = 'категория товара',\n",
    "            color_discrete_map={'хоз товары, мелкая техника':'red',\n",
    "                                 'бытовая химия и ванна':'blue',\n",
    "                                 'цветы и садоводство':'green',\n",
    "                                \n",
    "                                 })\n",
    "fig.update_layout(title='выручка по разным категориям товара',\n",
    "xaxis_title='категория товара',\n",
    "yaxis_title='выручка')\n",
    "fig.show()"
   ]
  },
  {
   "cell_type": "markdown",
   "id": "77f567c2",
   "metadata": {},
   "source": [
    "- больше всего магазин продает хозтоваров\n",
    "- у товаров для садоводов много покупателей. Но категория не так доходна\n",
    "- остальные категории идут вровень, кроме предметов декора и мебели.\n",
    "- лучше всего укрупнить мелкие категории. Посмотрим есть ли похожие средни них и у каких совпадает сезонность."
   ]
  },
  {
   "cell_type": "markdown",
   "id": "8749d77b",
   "metadata": {},
   "source": [
    "Посмотрим на сезоность товаров"
   ]
  },
  {
   "cell_type": "code",
   "execution_count": null,
   "id": "004a9ea3",
   "metadata": {},
   "outputs": [],
   "source": [
    "cat_date = df.groupby(['year','year_month', 'category']).agg({'revenue':'sum', 'order_id':'nunique'}).reset_index()\n",
    "#df_rev_by_customer.rename(columns={'product': 'Количетво заказов покупателя'}, inplace=True)\n",
    "cat_date "
   ]
  },
  {
   "cell_type": "code",
   "execution_count": null,
   "id": "776b4869",
   "metadata": {},
   "outputs": [],
   "source": [
    "fig = px.line(cat_date, x='year_month', y='revenue', color = 'category')\n",
    "fig.update_layout(\n",
    "    title=\"Динамика выручки категорий товаров по месяцам\",\n",
    "    xaxis_title=\"Дата\",\n",
    "    yaxis_title=\"Выручка\")\n",
    "fig.update_traces(textposition=\"top center\")\n",
    "fig.show()"
   ]
  },
  {
   "cell_type": "markdown",
   "id": "95dad210",
   "metadata": {},
   "source": [
    "- Яркой сезонности подтвержены товары из категории \"цветы и садоводство\" их покупают в весеннее месяцы с пиком в мае.\n",
    "- Хозтовары покупали чаще всего в октябре - ноябре. В остальном спрос стабилен, как и у категории мебели и ремонт. Товары похожи и их можно объединить.  \n",
    "- Сумки, текстиль для дома и посуду и искусственные цветы, фрукты покупают в зимние месяцы. Наверняка это связано с Новогодними праздниками. Это все товары для дома, которые приятно получить в подарок. Их можно объединить в одну группу. Назовем ее товары для дома и галантерея. \n",
    "- Бытовую химию берут в апреле"
   ]
  },
  {
   "cell_type": "markdown",
   "id": "77be88a2",
   "metadata": {},
   "source": [
    "Укрупним наши категории в соответствии со сделанными выводами."
   ]
  },
  {
   "cell_type": "code",
   "execution_count": null,
   "id": "7e109df1",
   "metadata": {},
   "outputs": [],
   "source": [
    "df.loc[df[\"category\"] == \"мебель и ремонт\", \"category\"] = 'хозтовары, мелкая техника'"
   ]
  },
  {
   "cell_type": "code",
   "execution_count": null,
   "id": "0ff3652b",
   "metadata": {},
   "outputs": [],
   "source": [
    "df.loc[df[\"category\"].isin([ \"сумки и галантерея\",'искусственные фрукты и цветы', 'посуда и кухня', 'текстиль для дома']), \"category\"] = 'товары для дома и галантерея'"
   ]
  },
  {
   "cell_type": "code",
   "execution_count": null,
   "id": "a122f783",
   "metadata": {},
   "outputs": [],
   "source": [
    "category_product = df.groupby(['category'])\\\n",
    ".agg({'revenue':'sum', 'customer_id':'nunique', 'order_id':'nunique'}).reset_index()\n",
    "category_product.columns = ['категория товара','выручка','количество покупателей', 'количество заказов']"
   ]
  },
  {
   "cell_type": "code",
   "execution_count": null,
   "id": "0960e01f",
   "metadata": {},
   "outputs": [],
   "source": [
    "fig = px.bar(category_product.sort_values('выручка', ascending = False), \n",
    "x='категория товара', \n",
    "y='выручка',\n",
    "\n",
    "text=\"количество покупателей\", color = 'категория товара',\n",
    "            color_discrete_map={'хоз товары, мелкая техника':'red',\n",
    "                                 'бытовая химия и ванна':'blue',\n",
    "                                 'цветы и садоводство':'green',\n",
    "                                \n",
    "                                 })\n",
    "fig.update_layout(title='выручка по разным категориям товара',\n",
    "xaxis_title='категория товара',\n",
    "yaxis_title='выручка')\n",
    "fig.show()"
   ]
  },
  {
   "cell_type": "markdown",
   "id": "9d55c6c9",
   "metadata": {},
   "source": [
    "Получились крупные группы с одинаковой сезоностью и сходным ассортиментом."
   ]
  },
  {
   "cell_type": "markdown",
   "id": "dcf5c9b4",
   "metadata": {},
   "source": [
    "Выводы по разделу:\n",
    "- Ознакомившись с ключевыми слова в столбце с продукцией, мы оформили их в словари и разбили товары на:\n",
    "    - цветы и садоводство\n",
    "    - хозтовары, мелкая техника\n",
    "    - товары для дома и галантерея\n",
    "    - бытовая химия и ванна\n",
    "    \n",
    "- большая часть выручки приходится на хозтовары\n",
    "- садоводы покупают много, но сезоно и не очень дорого. Сезон начинается марте, а пик приходится на май. Тогда цветы и семена перегоняют хозтовары\n",
    "- товары для дома и галантерея покупают на НГ праздники\n",
    "- бытовая химия популярная в апреле\n"
   ]
  },
  {
   "cell_type": "markdown",
   "id": "9735b1e1",
   "metadata": {},
   "source": [
    "### Наблюдения по категориям товаров и их сезонности по выделенным сегментам покупателей"
   ]
  },
  {
   "cell_type": "markdown",
   "id": "b63326fa",
   "metadata": {},
   "source": [
    "Посмотрим какие товары выбирают покупатели из разных групп и в какие месяца."
   ]
  },
  {
   "cell_type": "code",
   "execution_count": null,
   "id": "003062ab",
   "metadata": {},
   "outputs": [],
   "source": [
    "cat_date = df.query('segment == \"лидеры\"').groupby(['year','year_month', 'category']).agg({'revenue':'sum', 'order_id':'nunique'}).reset_index()\n",
    "\n",
    "\n",
    "\n",
    "fig = px.line(cat_date, x='year_month', y='revenue', color = 'category',\n",
    "                         color_discrete_map={'хоз товары, мелкая техника':'red',\n",
    "                                 'бытовая химия и ванна':'blue',\n",
    "                                 'цветы и садоводство':'green'                                \n",
    "                                 })\n",
    "fig.update_layout(\n",
    "    title=\"Динамика выручки категорий товаров по месяцам в разрезе сегмента ЛИДЕРЫ\",\n",
    "    xaxis_title=\"Дата\",\n",
    "    yaxis_title=\"Выручка\")\n",
    "fig.show()"
   ]
  },
  {
   "cell_type": "markdown",
   "id": "07bda2bd",
   "metadata": {},
   "source": [
    "- Среди лидеров много садоводов, которые в апреле-мае покупают семена и саженцы\n",
    "- У хозтоваров достаточно стабильный спрос. Но можно выделить июнь и июль, в эти два месяца клиенты делают большие выручки\n",
    "- Товары для дома популярны в апреле.\n",
    "- Бытовая химия и товары для ванны отличаются яркой сезоностью. Лидеры берут эти товары в апреле."
   ]
  },
  {
   "cell_type": "code",
   "execution_count": null,
   "id": "b44d141e",
   "metadata": {},
   "outputs": [],
   "source": [
    "cat_date = df.query('segment == \"потенциальные лидеры\"').groupby(['year','year_month', 'category']).agg({'revenue':'sum', 'order_id':'nunique'}).reset_index()\n",
    "\n",
    "\n",
    "\n",
    "fig = px.line(cat_date, x='year_month', y='revenue', color = 'category',\n",
    "                         color_discrete_map={'хоз товары, мелкая техника':'red',\n",
    "                                 'бытовая химия и ванна':'blue',\n",
    "                                 'цветы и садоводство':'green'                                \n",
    "                                 })\n",
    "fig.update_layout(\n",
    "    title=\"Динамика выручки категорий товаров по месяцам в разрезе сегмента ПОТЕНЦИАЛЬНЫЕ ЛИДЕРЫ\",\n",
    "    xaxis_title=\"Дата\",\n",
    "    yaxis_title=\"Выручка\")\n",
    "fig.show()"
   ]
  },
  {
   "cell_type": "markdown",
   "id": "c7cf2ce3",
   "metadata": {},
   "source": [
    "- Садоводы из потенциальных лидеров, также закупаются в апреле-мае\n",
    "- Хозтовары очень популярн в праздники с декабря по январь.\n",
    "- Спрос на товары для дома имеет два пика в марте и сентябре\n",
    "- Товары из категории бытовая химия и ванна популярны в феврале и декабре."
   ]
  },
  {
   "cell_type": "code",
   "execution_count": null,
   "id": "b746e9f6",
   "metadata": {},
   "outputs": [],
   "source": [
    "cat_date = df.query('segment == \"аутсайдеры\"').groupby(['year','year_month', 'category']).agg({'revenue':'sum', 'order_id':'nunique'}).reset_index()\n",
    "\n",
    "\n",
    "\n",
    "fig = px.line(cat_date, x='year_month', y='revenue', color = 'category',\n",
    "                         color_discrete_map={'хоз товары, мелкая техника':'red',\n",
    "                                 'бытовая химия и ванна':'blue',\n",
    "                                 'цветы и садоводство':'green'                                \n",
    "                                 })\n",
    "fig.update_layout(\n",
    "    title=\"Динамика выручки категорий товаров по месяцам в разрезе сегмента АУТСАЙДЕРЫ\",\n",
    "    xaxis_title=\"Дата\",\n",
    "    yaxis_title=\"Выручка\")\n",
    "fig.show()"
   ]
  },
  {
   "cell_type": "markdown",
   "id": "071353c3",
   "metadata": {},
   "source": [
    "- аутсайдеры больше всего любили товары для дома. В декабре острый пик. После этого они и не покупали ничего практически\n",
    "- Также они любят покупать цветы на НГ праздники"
   ]
  },
  {
   "cell_type": "code",
   "execution_count": null,
   "id": "6ad3937d",
   "metadata": {},
   "outputs": [],
   "source": [
    "cat_date = df.query('segment == \"уснувшие\"').groupby(['year','year_month', 'category']).agg({'revenue':'sum', 'order_id':'nunique'}).reset_index()\n",
    "\n",
    "\n",
    "\n",
    "fig = px.line(cat_date, x='year_month', y='revenue', color = 'category',\n",
    "                         color_discrete_map={'хоз товары, мелкая техника':'red',\n",
    "                                 'бытовая химия и ванна':'blue',\n",
    "                                 'цветы и садоводство':'green'                                \n",
    "                                 })\n",
    "fig.update_layout(\n",
    "    title=\"Динамика выручки категорий товаров по месяцам в разрезе сегмента УСНУВШИЕ\",\n",
    "    xaxis_title=\"Дата\",\n",
    "    yaxis_title=\"Выручка\")\n",
    "fig.show()"
   ]
  },
  {
   "cell_type": "markdown",
   "id": "7a71aa53",
   "metadata": {},
   "source": [
    "- Уснувшие покупали в больших количества хоз товары в октябре-декабре.\n",
    "- Также они любили товары для дома и галантерею, возможно покупали в качестве подарков на НГ."
   ]
  },
  {
   "cell_type": "markdown",
   "id": "68191611",
   "metadata": {},
   "source": [
    "### Проверка гипотез"
   ]
  },
  {
   "cell_type": "markdown",
   "id": "5f65715a",
   "metadata": {},
   "source": [
    "Чтобы удостоверится в правильности разделения на сегменты, проверим есть ли значимые статистические отличия между средними показателями в разных сегментах."
   ]
  },
  {
   "cell_type": "markdown",
   "id": "d18aa482",
   "metadata": {},
   "source": [
    "Проверим ,больше ли средний чек у покупателей из сегмента `лидеры`, чем у покупателей из сегмента `потенциальные лидеры`.\n",
    "- **Нулевая гипотеза H0 - среднее выборочное значение средний чеков равно, H1 - среднее выборочное значение среднего чека у лидеров больше.** \n",
    "- Воспользуемся методом о равенстве двух генеральных совокупностей для правостороней гипотезы `scipy.stats.ttest_ind()`, для этого зададим параметр `greater`. \n",
    "- Уровень статистической значимости возьмём за 0.5. \n",
    "- Сравним средние t-тестом, не указывая параметр equal_var: пусть он примет значение `True`.\n"
   ]
  },
  {
   "cell_type": "markdown",
   "id": "3cb66e89",
   "metadata": {},
   "source": [
    "Сгруппируем данные по заказу клиента и посчитаем средний чек для выборок"
   ]
  },
  {
   "cell_type": "code",
   "execution_count": null,
   "id": "44646a63",
   "metadata": {},
   "outputs": [],
   "source": [
    "df.columns"
   ]
  },
  {
   "cell_type": "code",
   "execution_count": null,
   "id": "e2470d93",
   "metadata": {},
   "outputs": [],
   "source": [
    "hyp1 =  df.query('segment in [\"лидеры\",\"потенциальные лидеры\"]').groupby(['customer_id', 'order_id']).agg({'revenue':'mean', 'segment':'first'}).reset_index()\n",
    "hyp1.rename(columns={'revenue': 'avg_check'}, inplace=True)\n",
    "hyp1"
   ]
  },
  {
   "cell_type": "code",
   "execution_count": null,
   "id": "162126bf",
   "metadata": {},
   "outputs": [],
   "source": [
    "seg_leaders = hyp1.query('segment == \"лидеры\"')['avg_check']\n",
    "seg_potential= hyp1.query('segment == \"потенциальные лидеры\"')['avg_check']\n",
    "alpha = .05\n",
    "results = st.ttest_ind(seg_leaders, seg_potential, alternative='greater')\n",
    "print('p-значение:', results.pvalue)\n",
    "if results.pvalue<alpha:\n",
    "    print('Отвергаем нулевую гипотезу: среднее чек у лидеров больше')\n",
    "else:\n",
    "    print('Не получилось отвергнуть нулевую гипотезу: средний чек не отличается у лидеров и потенциальных лидеров')\n",
    "print(\"средний чек у лидеров равен {}\".format(seg_customer.loc[seg_customer['сегмент покупателя']=='лидеры', 'average_check'].to_string(index=False)))\n",
    "print(\"средний чек у потенциальных лидеров равен {}\".format(seg_customer.loc[seg_customer['сегмент покупателя']=='потенциальные лидеры', 'average_check'].to_string(index=False)))\n"
   ]
  },
  {
   "cell_type": "markdown",
   "id": "1e89e8eb",
   "metadata": {},
   "source": [
    "Проверим ,больше ли ARPU с покупателя из сегмента `уснувшие`, чем у покупателей из сегмента `аутсайдеры`. Уснувшие должны были сгенерировать большую выручку с клиента\n",
    "- **Нулевая гипотеза H0 - среднее выборочное значение средний выручки с покупателя равно, H1 - среднее выборочное значение средней выручки с покупатели у уснувших больше.** \n",
    "- Воспользуемся методом о равенстве двух генеральных совокупностей для правостороней гипотезы `scipy.stats.ttest_ind()`, для этого зададим параметр `greater`. \n",
    "- Уровень статистической значимости возьмём за 0.5. \n",
    "- Сравним средние t-тестом, не указывая параметр equal_var: пусть он примет значение `True`.\n"
   ]
  },
  {
   "cell_type": "markdown",
   "id": "9e9b8267",
   "metadata": {},
   "source": [
    "Cгруппируем данные по клиенту и найдем ARPU"
   ]
  },
  {
   "cell_type": "code",
   "execution_count": null,
   "id": "7ccdf3f3",
   "metadata": {},
   "outputs": [],
   "source": [
    "hyp2 =  df.query('segment in [\"уснувшие\",\"аутсайдеры\"]').groupby(['customer_id']).agg({'revenue':'mean', 'segment':'first'}).reset_index()\n",
    "hyp2.rename(columns={'revenue': 'ARPU'}, inplace=True)\n",
    "hyp2"
   ]
  },
  {
   "cell_type": "code",
   "execution_count": null,
   "id": "b327eb5b",
   "metadata": {},
   "outputs": [],
   "source": [
    "seg_leaders = hyp2.query('segment == \"уснувшие\"')['ARPU']\n",
    "seg_potential= hyp2.query('segment == \"аутсайдеры\"')['ARPU']\n",
    "alpha = .05\n",
    "results = st.ttest_ind(seg_leaders, seg_potential, alternative='greater')\n",
    "print('p-значение:', results.pvalue)\n",
    "if results.pvalue<alpha:\n",
    "    print('Отвергаем нулевую гипотезу: ARPU у уснувших лидеров больше')\n",
    "else:\n",
    "    print('Не получилось отвергнуть нулевую гипотезу: ARPU не отличается у уснувших лидеров и аутсайдеров')\n",
    "print(\"ARPU у уснувших равняется {}\".format(seg_customer.loc[seg_customer['сегмент покупателя']=='уснувшие', 'arpu'].to_string(index=False)))\n",
    "print(\"ARPU у аутсайдеров равняется {}\".format(seg_customer.loc[seg_customer['сегмент покупателя']=='аутсайдеры', 'arpu'].to_string(index=False)))\n"
   ]
  },
  {
   "cell_type": "markdown",
   "id": "62bbc686",
   "metadata": {},
   "source": [
    "Выводы по разделы:\n",
    "- мы проверили 2 гипетзы  при помощи T-testa\n",
    "    - мы отвергли нулевую гипотезу, что среднее выборочное значение средний чеков `лидеров` и `потенциальных лидеров` равно. Мы восполись методом о равенстве двух генеральных совокупностей для правостороней гипотезы, который подтвердил, что лидеры покупают товары дороже\n",
    "    - также T-test не отверг гипотезу что средняя выручка с клиента из сегмента `уснувшие` больше, чем у `аутсайдеров`.\n",
    "- Теперь после того как мы установили, что между сегментами есть статистически значимые отличия показателей, есть больше уверенности, что наше сегментирование прошло успешно и получится дать рекомендации по повышению возвращаемости клиентов, предложения по увеличению покупаемости категорий товаров разными клиентами."
   ]
  },
  {
   "cell_type": "markdown",
   "id": "cb9972f4",
   "metadata": {},
   "source": [
    "### Предложения и рекомендации, выводы"
   ]
  },
  {
   "cell_type": "markdown",
   "id": "84d028a7",
   "metadata": {},
   "source": [
    "Мы подошли к концу своего исследоваия.\n",
    "\n",
    "Перед началом исследования у нас была цель - **предоставить комплексный анализ и рекомендации, которые позволят увеличить продажи и лояльность клиентов путем сегментированного маркетинга**\n",
    "\n",
    "Мы начали с предобработки данных:  удалили дубликаты, преобразовали типы данных, исключили аномальные значения, установили период данных - с октября 2018 по февраль 2020 года. Всего у нас получилось 2043 покупателей и 3492 заказов.\n",
    "\n",
    "В ходе исследования мы посмотрели на динамику выручки и установили, что **выручка снижается**. \n",
    "На это есть две главные  причины\n",
    "- снижается средний чек, за год он упал вдвое. Магазин начал привлекать дешевых клиентов\n",
    "- магазин не может удержать покупателей, в 99% случаев они делает не больше 2 покупок.\n",
    "\n",
    "\n",
    "Для того, чтобы внести кокретные рекомендации по исправлению ситуации мы, использую RFM-анализ, сегментировали пользоваталей на:\n",
    "- \"спящие\". Они покупали в начале периода, но дорого и сделали отличную выручку с клиента. Их доля 9%.\n",
    "- \"лидеры\". Наши самые главные клиенты. Сделали больше половины выручки. Покупали в конце периода. Их 23%.\n",
    "- \"потенцеиальные лидеры\". Клиенты, которым не хватает до лидеров размера среднего чека. Их 25%\n",
    "- \"аутсайдеры\". Клиенты покупали давно, много, но очень дешево. Их больше всего 42%\n",
    "\n",
    "Затем мы разделили продаваемые товары на категории:\n",
    "  - цветы и садоводство\n",
    "  - хозтовары, мелкая техника\n",
    "  - товары для дома и галантерея\n",
    "  - бытовая химия и ванна\n",
    "\n",
    "На следующем шаге мы с помощью T-testa подтвердили, что между группами есть статистически значимые отличия между средним чеком и ARPU.\n",
    "\n",
    "Также мы рассмотрели динамику выручки разных категорий товаров по месяцам по разным сегментам покупателей и можем дать следующие рекомендации:\n",
    "\n",
    "- В апреле сделать рассылку лидерам с товарами для дома. \n",
    "- Также в апреле предлагать им дорогие товары для ванны и бытовую химию\n",
    "- В мае лидерам рекламировать дорогие товары для садоводства с целью максимизировать выручку.\n",
    "- В июне лидерам рекламировать дорогие хоз товары. В это время активизируется спрос на такие товары.\n",
    "\n",
    "- Также в апреле потенциальным лидерам сделать подборку дешевых товаров для садоводства. С целью удержать их в магазине.\n",
    "- В декабре рекламировать потенциальным лидерам товары для дома и галантерею. Эта категория покупает эти товары в подарок.\n",
    "- В феврале для потенциальных лидеров сделать рассылку с товарами из категории \"бытовая химия и ванна\".\n",
    "\n",
    "- Аутсайдерам в декабре предлагать товары для дома. У них был большой интерес к ним на НГ. Можно попытаться его вернуть.\n",
    "\n",
    "- В октябре напомнить уснувшим о нашем ассортименте хозтоваров. С целью их вернуть к покупкам.\n",
    "- А также в декабре рекламировать уснувшим товары для дома.\n"
   ]
  }
 ],
 "metadata": {
  "ExecuteTimeLog": [
   {
    "duration": 1347,
    "start_time": "2024-09-19T06:41:03.063Z"
   },
   {
    "duration": 145,
    "start_time": "2024-09-19T06:41:04.412Z"
   },
   {
    "duration": 15,
    "start_time": "2024-09-19T06:41:04.559Z"
   },
   {
    "duration": 29,
    "start_time": "2024-09-19T06:41:04.576Z"
   },
   {
    "duration": 633,
    "start_time": "2024-09-19T06:41:04.606Z"
   },
   {
    "duration": 16,
    "start_time": "2024-09-19T06:41:05.240Z"
   },
   {
    "duration": 13,
    "start_time": "2024-09-19T06:41:05.258Z"
   },
   {
    "duration": 17,
    "start_time": "2024-09-19T06:41:05.273Z"
   },
   {
    "duration": 9,
    "start_time": "2024-09-19T06:41:05.292Z"
   },
   {
    "duration": 59,
    "start_time": "2024-09-19T06:41:05.303Z"
   },
   {
    "duration": 51,
    "start_time": "2024-09-19T06:41:05.364Z"
   },
   {
    "duration": 23,
    "start_time": "2024-09-19T06:41:05.416Z"
   },
   {
    "duration": 18,
    "start_time": "2024-09-19T06:41:05.440Z"
   },
   {
    "duration": 373,
    "start_time": "2024-09-19T06:41:05.460Z"
   },
   {
    "duration": 3,
    "start_time": "2024-09-19T06:41:05.834Z"
   },
   {
    "duration": 162,
    "start_time": "2024-09-19T06:41:05.838Z"
   },
   {
    "duration": 10,
    "start_time": "2024-09-19T06:41:06.002Z"
   },
   {
    "duration": 28,
    "start_time": "2024-09-19T06:41:06.013Z"
   },
   {
    "duration": 22,
    "start_time": "2024-09-19T06:41:06.043Z"
   },
   {
    "duration": 24,
    "start_time": "2024-09-19T06:41:06.067Z"
   },
   {
    "duration": 53,
    "start_time": "2024-09-19T06:41:06.092Z"
   },
   {
    "duration": 245,
    "start_time": "2024-09-19T06:41:06.147Z"
   },
   {
    "duration": 12,
    "start_time": "2024-09-19T06:41:06.394Z"
   },
   {
    "duration": 76,
    "start_time": "2024-09-19T06:41:06.408Z"
   },
   {
    "duration": 21,
    "start_time": "2024-09-19T06:41:06.486Z"
   },
   {
    "duration": 15,
    "start_time": "2024-09-19T06:41:06.509Z"
   },
   {
    "duration": 18,
    "start_time": "2024-09-19T06:41:06.525Z"
   },
   {
    "duration": 148,
    "start_time": "2024-09-19T06:41:06.547Z"
   },
   {
    "duration": 26,
    "start_time": "2024-09-19T06:41:06.697Z"
   },
   {
    "duration": 13,
    "start_time": "2024-09-19T06:41:06.725Z"
   },
   {
    "duration": 40,
    "start_time": "2024-09-19T06:41:06.740Z"
   },
   {
    "duration": 35,
    "start_time": "2024-09-19T06:41:06.781Z"
   },
   {
    "duration": 11,
    "start_time": "2024-09-19T06:41:06.818Z"
   },
   {
    "duration": 18,
    "start_time": "2024-09-19T06:41:06.831Z"
   },
   {
    "duration": 27,
    "start_time": "2024-09-19T06:41:06.851Z"
   },
   {
    "duration": 778,
    "start_time": "2024-09-19T06:41:06.879Z"
   },
   {
    "duration": 16,
    "start_time": "2024-09-19T06:41:07.659Z"
   },
   {
    "duration": 181,
    "start_time": "2024-09-19T06:41:07.677Z"
   },
   {
    "duration": 16,
    "start_time": "2024-09-19T06:41:07.860Z"
   },
   {
    "duration": 88,
    "start_time": "2024-09-19T06:41:07.877Z"
   },
   {
    "duration": 9,
    "start_time": "2024-09-19T06:41:07.967Z"
   },
   {
    "duration": 37,
    "start_time": "2024-09-19T06:41:07.977Z"
   },
   {
    "duration": 32,
    "start_time": "2024-09-19T06:41:08.016Z"
   },
   {
    "duration": 57,
    "start_time": "2024-09-19T06:41:08.051Z"
   },
   {
    "duration": 107,
    "start_time": "2024-09-19T06:41:08.110Z"
   },
   {
    "duration": 54,
    "start_time": "2024-09-19T06:41:08.219Z"
   },
   {
    "duration": 11,
    "start_time": "2024-09-19T06:41:08.275Z"
   },
   {
    "duration": 44,
    "start_time": "2024-09-19T06:41:08.288Z"
   },
   {
    "duration": 50,
    "start_time": "2024-09-19T06:41:08.333Z"
   },
   {
    "duration": 92,
    "start_time": "2024-09-19T06:41:08.385Z"
   },
   {
    "duration": 25,
    "start_time": "2024-09-19T06:41:08.479Z"
   },
   {
    "duration": 22,
    "start_time": "2024-09-19T06:41:08.505Z"
   },
   {
    "duration": 123,
    "start_time": "2024-09-19T06:41:08.528Z"
   },
   {
    "duration": 9,
    "start_time": "2024-09-19T06:41:08.653Z"
   },
   {
    "duration": 44,
    "start_time": "2024-09-19T06:41:08.664Z"
   },
   {
    "duration": 43,
    "start_time": "2024-09-19T06:41:08.710Z"
   },
   {
    "duration": 56,
    "start_time": "2024-09-19T06:41:08.755Z"
   },
   {
    "duration": 37,
    "start_time": "2024-09-19T06:41:08.821Z"
   },
   {
    "duration": 43,
    "start_time": "2024-09-19T06:41:08.860Z"
   },
   {
    "duration": 4,
    "start_time": "2024-09-19T06:41:08.905Z"
   },
   {
    "duration": 81,
    "start_time": "2024-09-19T06:41:08.910Z"
   },
   {
    "duration": 18,
    "start_time": "2024-09-19T06:41:08.992Z"
   },
   {
    "duration": 54,
    "start_time": "2024-09-19T06:41:09.012Z"
   },
   {
    "duration": 69,
    "start_time": "2024-09-19T06:41:09.067Z"
   },
   {
    "duration": 8,
    "start_time": "2024-09-19T06:41:09.138Z"
   },
   {
    "duration": 29,
    "start_time": "2024-09-19T06:41:09.148Z"
   },
   {
    "duration": 159,
    "start_time": "2024-09-19T06:41:09.179Z"
   },
   {
    "duration": 9,
    "start_time": "2024-09-19T06:41:09.340Z"
   },
   {
    "duration": 9,
    "start_time": "2024-09-19T06:41:09.351Z"
   },
   {
    "duration": 23,
    "start_time": "2024-09-19T06:41:09.362Z"
   },
   {
    "duration": 11,
    "start_time": "2024-09-19T06:41:09.387Z"
   },
   {
    "duration": 8,
    "start_time": "2024-09-19T06:41:09.420Z"
   },
   {
    "duration": 16,
    "start_time": "2024-09-19T06:41:09.430Z"
   },
   {
    "duration": 199,
    "start_time": "2024-09-19T06:41:09.447Z"
   },
   {
    "duration": 9,
    "start_time": "2024-09-19T06:41:09.648Z"
   },
   {
    "duration": 23,
    "start_time": "2024-09-19T06:41:09.659Z"
   },
   {
    "duration": 112,
    "start_time": "2024-09-19T06:41:09.684Z"
   },
   {
    "duration": 53,
    "start_time": "2024-09-19T06:41:09.798Z"
   },
   {
    "duration": 38,
    "start_time": "2024-09-19T06:41:09.853Z"
   },
   {
    "duration": 34,
    "start_time": "2024-09-19T06:41:09.893Z"
   },
   {
    "duration": 3,
    "start_time": "2024-09-19T06:41:09.929Z"
   },
   {
    "duration": 90,
    "start_time": "2024-09-19T06:41:09.940Z"
   },
   {
    "duration": 14,
    "start_time": "2024-09-19T06:41:10.032Z"
   },
   {
    "duration": 226,
    "start_time": "2024-09-19T06:41:10.048Z"
   },
   {
    "duration": 8,
    "start_time": "2024-09-19T06:41:10.276Z"
   },
   {
    "duration": 8,
    "start_time": "2024-09-19T06:41:10.285Z"
   },
   {
    "duration": 24,
    "start_time": "2024-09-19T06:41:10.294Z"
   },
   {
    "duration": 10,
    "start_time": "2024-09-19T06:41:10.320Z"
   },
   {
    "duration": 8,
    "start_time": "2024-09-19T06:41:10.331Z"
   },
   {
    "duration": 118,
    "start_time": "2024-09-19T06:41:10.340Z"
   },
   {
    "duration": 10,
    "start_time": "2024-09-19T06:41:10.460Z"
   },
   {
    "duration": 38,
    "start_time": "2024-09-19T06:41:10.472Z"
   },
   {
    "duration": 38,
    "start_time": "2024-09-19T06:41:10.511Z"
   },
   {
    "duration": 49,
    "start_time": "2024-09-19T06:41:10.551Z"
   },
   {
    "duration": 27,
    "start_time": "2024-09-19T06:41:10.602Z"
   },
   {
    "duration": 65,
    "start_time": "2024-09-19T06:41:10.630Z"
   },
   {
    "duration": 6,
    "start_time": "2024-09-19T06:41:10.697Z"
   },
   {
    "duration": 21,
    "start_time": "2024-09-19T06:41:10.705Z"
   },
   {
    "duration": 33,
    "start_time": "2024-09-19T06:41:10.727Z"
   },
   {
    "duration": 4,
    "start_time": "2024-09-19T06:41:10.761Z"
   },
   {
    "duration": 8,
    "start_time": "2024-09-19T06:41:10.767Z"
   },
   {
    "duration": 24,
    "start_time": "2024-09-19T06:41:10.776Z"
   },
   {
    "duration": 19,
    "start_time": "2024-09-19T06:41:10.802Z"
   },
   {
    "duration": 5,
    "start_time": "2024-09-19T06:41:10.823Z"
   },
   {
    "duration": 11,
    "start_time": "2024-09-19T06:41:10.829Z"
   },
   {
    "duration": 37,
    "start_time": "2024-09-19T06:41:10.841Z"
   },
   {
    "duration": 55,
    "start_time": "2024-09-19T06:41:10.879Z"
   },
   {
    "duration": 5,
    "start_time": "2024-09-19T06:41:10.936Z"
   },
   {
    "duration": 84,
    "start_time": "2024-09-19T06:41:10.943Z"
   },
   {
    "duration": 54,
    "start_time": "2024-09-19T06:41:11.029Z"
   },
   {
    "duration": 9,
    "start_time": "2024-09-19T06:41:11.084Z"
   },
   {
    "duration": 27,
    "start_time": "2024-09-19T06:41:11.095Z"
   },
   {
    "duration": 45,
    "start_time": "2024-09-19T06:41:11.124Z"
   },
   {
    "duration": 754,
    "start_time": "2024-09-19T06:41:11.171Z"
   },
   {
    "duration": 21,
    "start_time": "2024-09-19T06:41:11.927Z"
   },
   {
    "duration": 4,
    "start_time": "2024-09-19T06:41:11.950Z"
   },
   {
    "duration": 10,
    "start_time": "2024-09-19T06:41:11.955Z"
   },
   {
    "duration": 56,
    "start_time": "2024-09-19T06:41:11.967Z"
   },
   {
    "duration": 6,
    "start_time": "2024-09-19T06:41:12.025Z"
   },
   {
    "duration": 10,
    "start_time": "2024-09-19T06:41:12.033Z"
   },
   {
    "duration": 37,
    "start_time": "2024-09-19T06:41:12.045Z"
   },
   {
    "duration": 6,
    "start_time": "2024-09-19T06:41:12.084Z"
   },
   {
    "duration": 33,
    "start_time": "2024-09-19T06:41:12.092Z"
   },
   {
    "duration": 8,
    "start_time": "2024-09-19T06:41:12.127Z"
   },
   {
    "duration": 17,
    "start_time": "2024-09-19T06:41:12.137Z"
   },
   {
    "duration": 9,
    "start_time": "2024-09-19T06:41:12.156Z"
   },
   {
    "duration": 6,
    "start_time": "2024-09-19T06:41:12.166Z"
   },
   {
    "duration": 6,
    "start_time": "2024-09-19T06:41:12.174Z"
   },
   {
    "duration": 14,
    "start_time": "2024-09-19T06:41:12.182Z"
   },
   {
    "duration": 29,
    "start_time": "2024-09-19T06:41:12.198Z"
   },
   {
    "duration": 15,
    "start_time": "2024-09-19T06:41:12.229Z"
   },
   {
    "duration": 12,
    "start_time": "2024-09-19T06:41:12.246Z"
   },
   {
    "duration": 18,
    "start_time": "2024-09-19T06:41:12.260Z"
   },
   {
    "duration": 16,
    "start_time": "2024-09-19T06:41:12.280Z"
   },
   {
    "duration": 15,
    "start_time": "2024-09-19T06:41:12.298Z"
   },
   {
    "duration": 22,
    "start_time": "2024-09-19T06:41:12.315Z"
   },
   {
    "duration": 6,
    "start_time": "2024-09-19T06:41:12.339Z"
   },
   {
    "duration": 8,
    "start_time": "2024-09-19T06:41:12.346Z"
   },
   {
    "duration": 5,
    "start_time": "2024-09-19T06:41:12.356Z"
   },
   {
    "duration": 12,
    "start_time": "2024-09-19T06:41:12.363Z"
   },
   {
    "duration": 9,
    "start_time": "2024-09-19T06:41:12.377Z"
   },
   {
    "duration": 90,
    "start_time": "2024-09-19T06:41:12.388Z"
   },
   {
    "duration": 21,
    "start_time": "2024-09-19T06:41:12.479Z"
   },
   {
    "duration": 21,
    "start_time": "2024-09-19T06:41:12.502Z"
   },
   {
    "duration": 7,
    "start_time": "2024-09-19T06:41:12.524Z"
   },
   {
    "duration": 24,
    "start_time": "2024-09-19T06:41:12.532Z"
   },
   {
    "duration": 19,
    "start_time": "2024-09-19T06:41:12.557Z"
   },
   {
    "duration": 22,
    "start_time": "2024-09-19T06:41:12.578Z"
   },
   {
    "duration": 38,
    "start_time": "2024-09-19T06:41:12.602Z"
   },
   {
    "duration": 51,
    "start_time": "2024-09-19T06:41:12.642Z"
   },
   {
    "duration": 6,
    "start_time": "2024-09-19T06:41:12.694Z"
   },
   {
    "duration": 46,
    "start_time": "2024-09-19T06:41:12.701Z"
   },
   {
    "duration": 37,
    "start_time": "2024-09-19T06:41:12.748Z"
   },
   {
    "duration": 43,
    "start_time": "2024-09-19T06:41:12.787Z"
   },
   {
    "duration": 73,
    "start_time": "2024-09-19T06:41:12.832Z"
   },
   {
    "duration": 4,
    "start_time": "2024-09-19T06:41:12.920Z"
   },
   {
    "duration": 13,
    "start_time": "2024-09-19T06:41:12.926Z"
   },
   {
    "duration": 94,
    "start_time": "2024-09-19T06:41:12.940Z"
   },
   {
    "duration": 4,
    "start_time": "2024-09-19T06:41:13.036Z"
   },
   {
    "duration": 29,
    "start_time": "2024-09-19T06:41:13.041Z"
   },
   {
    "duration": 10,
    "start_time": "2024-09-19T06:41:13.072Z"
   },
   {
    "duration": 48,
    "start_time": "2024-09-19T06:41:13.084Z"
   },
   {
    "duration": 11,
    "start_time": "2024-09-19T06:41:13.134Z"
   },
   {
    "duration": 12,
    "start_time": "2024-09-19T08:20:19.209Z"
   },
   {
    "duration": 1256,
    "start_time": "2024-09-21T23:01:17.769Z"
   },
   {
    "duration": 99,
    "start_time": "2024-09-21T23:01:19.027Z"
   },
   {
    "duration": 16,
    "start_time": "2024-09-21T23:01:19.128Z"
   },
   {
    "duration": 15,
    "start_time": "2024-09-21T23:01:19.146Z"
   },
   {
    "duration": 1713,
    "start_time": "2024-09-21T23:01:19.163Z"
   },
   {
    "duration": 17,
    "start_time": "2024-09-21T23:01:20.879Z"
   },
   {
    "duration": 18,
    "start_time": "2024-09-21T23:01:20.898Z"
   },
   {
    "duration": 24,
    "start_time": "2024-09-21T23:01:20.917Z"
   },
   {
    "duration": 17,
    "start_time": "2024-09-21T23:01:20.943Z"
   },
   {
    "duration": 16,
    "start_time": "2024-09-21T23:01:20.964Z"
   },
   {
    "duration": 26,
    "start_time": "2024-09-21T23:01:20.982Z"
   },
   {
    "duration": 69,
    "start_time": "2024-09-21T23:01:21.010Z"
   },
   {
    "duration": 19,
    "start_time": "2024-09-21T23:01:21.082Z"
   },
   {
    "duration": 191,
    "start_time": "2024-09-21T23:01:21.103Z"
   },
   {
    "duration": 2,
    "start_time": "2024-09-21T23:01:21.296Z"
   },
   {
    "duration": 129,
    "start_time": "2024-09-21T23:01:21.300Z"
   },
   {
    "duration": 10,
    "start_time": "2024-09-21T23:01:21.430Z"
   },
   {
    "duration": 59,
    "start_time": "2024-09-21T23:01:21.442Z"
   },
   {
    "duration": 4,
    "start_time": "2024-09-21T23:01:21.503Z"
   },
   {
    "duration": 18,
    "start_time": "2024-09-21T23:01:21.509Z"
   },
   {
    "duration": 26,
    "start_time": "2024-09-21T23:01:21.529Z"
   },
   {
    "duration": 237,
    "start_time": "2024-09-21T23:01:21.556Z"
   },
   {
    "duration": 10,
    "start_time": "2024-09-21T23:01:21.795Z"
   },
   {
    "duration": 28,
    "start_time": "2024-09-21T23:01:21.807Z"
   },
   {
    "duration": 16,
    "start_time": "2024-09-21T23:01:21.837Z"
   },
   {
    "duration": 12,
    "start_time": "2024-09-21T23:01:21.854Z"
   },
   {
    "duration": 13,
    "start_time": "2024-09-21T23:01:21.867Z"
   },
   {
    "duration": 145,
    "start_time": "2024-09-21T23:01:21.885Z"
   },
   {
    "duration": 22,
    "start_time": "2024-09-21T23:01:22.031Z"
   },
   {
    "duration": 17,
    "start_time": "2024-09-21T23:01:22.054Z"
   },
   {
    "duration": 27,
    "start_time": "2024-09-21T23:01:22.073Z"
   },
   {
    "duration": 12,
    "start_time": "2024-09-21T23:01:22.102Z"
   },
   {
    "duration": 37,
    "start_time": "2024-09-21T23:01:22.116Z"
   },
   {
    "duration": 14,
    "start_time": "2024-09-21T23:01:22.155Z"
   },
   {
    "duration": 903,
    "start_time": "2024-09-21T23:01:22.171Z"
   },
   {
    "duration": 15,
    "start_time": "2024-09-21T23:01:23.075Z"
   },
   {
    "duration": 101,
    "start_time": "2024-09-21T23:01:23.091Z"
   },
   {
    "duration": 67,
    "start_time": "2024-09-21T23:01:23.194Z"
   },
   {
    "duration": 125,
    "start_time": "2024-09-21T23:01:23.262Z"
   },
   {
    "duration": 12,
    "start_time": "2024-09-21T23:01:23.388Z"
   },
   {
    "duration": 6,
    "start_time": "2024-09-21T23:01:23.402Z"
   },
   {
    "duration": 43,
    "start_time": "2024-09-21T23:01:23.410Z"
   },
   {
    "duration": 48,
    "start_time": "2024-09-21T23:01:23.455Z"
   },
   {
    "duration": 10,
    "start_time": "2024-09-21T23:01:23.505Z"
   },
   {
    "duration": 9,
    "start_time": "2024-09-21T23:01:23.517Z"
   },
   {
    "duration": 29,
    "start_time": "2024-09-21T23:01:23.527Z"
   },
   {
    "duration": 13,
    "start_time": "2024-09-21T23:01:23.558Z"
   },
   {
    "duration": 8,
    "start_time": "2024-09-21T23:01:23.572Z"
   },
   {
    "duration": 9,
    "start_time": "2024-09-21T23:01:23.581Z"
   },
   {
    "duration": 120,
    "start_time": "2024-09-21T23:01:23.591Z"
   },
   {
    "duration": 8,
    "start_time": "2024-09-21T23:01:23.713Z"
   },
   {
    "duration": 32,
    "start_time": "2024-09-21T23:01:23.723Z"
   },
   {
    "duration": 38,
    "start_time": "2024-09-21T23:01:23.757Z"
   },
   {
    "duration": 72,
    "start_time": "2024-09-21T23:01:23.796Z"
   },
   {
    "duration": 49,
    "start_time": "2024-09-21T23:01:23.870Z"
   },
   {
    "duration": 43,
    "start_time": "2024-09-21T23:01:23.921Z"
   },
   {
    "duration": 4,
    "start_time": "2024-09-21T23:01:23.966Z"
   },
   {
    "duration": 48,
    "start_time": "2024-09-21T23:01:23.971Z"
   },
   {
    "duration": 40,
    "start_time": "2024-09-21T23:01:24.020Z"
   },
   {
    "duration": 59,
    "start_time": "2024-09-21T23:01:24.062Z"
   },
   {
    "duration": 84,
    "start_time": "2024-09-21T23:01:24.122Z"
   },
   {
    "duration": 15,
    "start_time": "2024-09-21T23:01:24.207Z"
   },
   {
    "duration": 40,
    "start_time": "2024-09-21T23:01:24.223Z"
   },
   {
    "duration": 13,
    "start_time": "2024-09-21T23:01:24.264Z"
   },
   {
    "duration": 4,
    "start_time": "2024-09-21T23:01:24.278Z"
   },
   {
    "duration": 120,
    "start_time": "2024-09-21T23:01:24.284Z"
   },
   {
    "duration": 9,
    "start_time": "2024-09-21T23:01:24.405Z"
   },
   {
    "duration": 16,
    "start_time": "2024-09-21T23:01:24.416Z"
   },
   {
    "duration": 50,
    "start_time": "2024-09-21T23:01:24.434Z"
   },
   {
    "duration": 74,
    "start_time": "2024-09-21T23:01:24.486Z"
   },
   {
    "duration": 58,
    "start_time": "2024-09-21T23:01:24.562Z"
   },
   {
    "duration": 15,
    "start_time": "2024-09-21T23:01:24.622Z"
   },
   {
    "duration": 3,
    "start_time": "2024-09-21T23:01:24.639Z"
   },
   {
    "duration": 53,
    "start_time": "2024-09-21T23:01:24.643Z"
   },
   {
    "duration": 13,
    "start_time": "2024-09-21T23:01:24.698Z"
   },
   {
    "duration": 222,
    "start_time": "2024-09-21T23:01:24.713Z"
   },
   {
    "duration": 7,
    "start_time": "2024-09-21T23:01:24.937Z"
   },
   {
    "duration": 4,
    "start_time": "2024-09-21T23:01:24.953Z"
   },
   {
    "duration": 6,
    "start_time": "2024-09-21T23:01:24.959Z"
   },
   {
    "duration": 6,
    "start_time": "2024-09-21T23:01:24.966Z"
   },
   {
    "duration": 9,
    "start_time": "2024-09-21T23:01:24.973Z"
   },
   {
    "duration": 109,
    "start_time": "2024-09-21T23:01:25.101Z"
   },
   {
    "duration": 10,
    "start_time": "2024-09-21T23:01:25.212Z"
   },
   {
    "duration": 40,
    "start_time": "2024-09-21T23:01:25.223Z"
   },
   {
    "duration": 44,
    "start_time": "2024-09-21T23:01:25.264Z"
   },
   {
    "duration": 14,
    "start_time": "2024-09-21T23:01:25.310Z"
   },
   {
    "duration": 94,
    "start_time": "2024-09-21T23:01:25.326Z"
   },
   {
    "duration": 68,
    "start_time": "2024-09-21T23:01:25.422Z"
   },
   {
    "duration": 41,
    "start_time": "2024-09-21T23:01:25.492Z"
   },
   {
    "duration": 20,
    "start_time": "2024-09-21T23:01:25.534Z"
   },
   {
    "duration": 35,
    "start_time": "2024-09-21T23:01:25.556Z"
   },
   {
    "duration": 9,
    "start_time": "2024-09-21T23:01:25.593Z"
   },
   {
    "duration": 13,
    "start_time": "2024-09-21T23:01:25.603Z"
   },
   {
    "duration": 40,
    "start_time": "2024-09-21T23:01:25.617Z"
   },
   {
    "duration": 3,
    "start_time": "2024-09-21T23:01:25.659Z"
   },
   {
    "duration": 9,
    "start_time": "2024-09-21T23:01:25.663Z"
   },
   {
    "duration": 25,
    "start_time": "2024-09-21T23:01:25.673Z"
   },
   {
    "duration": 9,
    "start_time": "2024-09-21T23:01:25.699Z"
   },
   {
    "duration": 16,
    "start_time": "2024-09-21T23:01:25.709Z"
   },
   {
    "duration": 64,
    "start_time": "2024-09-21T23:01:25.727Z"
   },
   {
    "duration": 37,
    "start_time": "2024-09-21T23:01:25.792Z"
   },
   {
    "duration": 13,
    "start_time": "2024-09-21T23:01:25.852Z"
   },
   {
    "duration": 4,
    "start_time": "2024-09-21T23:01:25.867Z"
   },
   {
    "duration": 61,
    "start_time": "2024-09-21T23:01:25.873Z"
   },
   {
    "duration": 73,
    "start_time": "2024-09-21T23:01:25.936Z"
   },
   {
    "duration": 8,
    "start_time": "2024-09-21T23:01:26.011Z"
   },
   {
    "duration": 32,
    "start_time": "2024-09-21T23:01:26.021Z"
   },
   {
    "duration": 20,
    "start_time": "2024-09-21T23:01:26.055Z"
   },
   {
    "duration": 753,
    "start_time": "2024-09-21T23:01:26.077Z"
   },
   {
    "duration": 28,
    "start_time": "2024-09-21T23:01:26.832Z"
   },
   {
    "duration": 4,
    "start_time": "2024-09-21T23:01:26.862Z"
   },
   {
    "duration": 18,
    "start_time": "2024-09-21T23:01:26.867Z"
   },
   {
    "duration": 40,
    "start_time": "2024-09-21T23:01:26.886Z"
   },
   {
    "duration": 5,
    "start_time": "2024-09-21T23:01:26.928Z"
   },
   {
    "duration": 24,
    "start_time": "2024-09-21T23:01:26.936Z"
   },
   {
    "duration": 38,
    "start_time": "2024-09-21T23:01:26.962Z"
   },
   {
    "duration": 7,
    "start_time": "2024-09-21T23:01:27.003Z"
   },
   {
    "duration": 41,
    "start_time": "2024-09-21T23:01:27.012Z"
   },
   {
    "duration": 6,
    "start_time": "2024-09-21T23:01:27.055Z"
   },
   {
    "duration": 22,
    "start_time": "2024-09-21T23:01:27.063Z"
   },
   {
    "duration": 16,
    "start_time": "2024-09-21T23:01:27.087Z"
   },
   {
    "duration": 7,
    "start_time": "2024-09-21T23:01:27.105Z"
   },
   {
    "duration": 8,
    "start_time": "2024-09-21T23:01:27.114Z"
   },
   {
    "duration": 15,
    "start_time": "2024-09-21T23:01:27.152Z"
   },
   {
    "duration": 9,
    "start_time": "2024-09-21T23:01:27.169Z"
   },
   {
    "duration": 7,
    "start_time": "2024-09-21T23:01:27.180Z"
   },
   {
    "duration": 22,
    "start_time": "2024-09-21T23:01:27.188Z"
   },
   {
    "duration": 23,
    "start_time": "2024-09-21T23:01:27.212Z"
   },
   {
    "duration": 26,
    "start_time": "2024-09-21T23:01:27.236Z"
   },
   {
    "duration": 21,
    "start_time": "2024-09-21T23:01:27.264Z"
   },
   {
    "duration": 16,
    "start_time": "2024-09-21T23:01:27.287Z"
   },
   {
    "duration": 12,
    "start_time": "2024-09-21T23:01:27.304Z"
   },
   {
    "duration": 4,
    "start_time": "2024-09-21T23:01:27.318Z"
   },
   {
    "duration": 29,
    "start_time": "2024-09-21T23:01:27.324Z"
   },
   {
    "duration": 9,
    "start_time": "2024-09-21T23:01:27.355Z"
   },
   {
    "duration": 10,
    "start_time": "2024-09-21T23:01:27.366Z"
   },
   {
    "duration": 10,
    "start_time": "2024-09-21T23:01:27.378Z"
   },
   {
    "duration": 32,
    "start_time": "2024-09-21T23:01:27.389Z"
   },
   {
    "duration": 94,
    "start_time": "2024-09-21T23:01:27.422Z"
   },
   {
    "duration": 6,
    "start_time": "2024-09-21T23:01:27.518Z"
   },
   {
    "duration": 12,
    "start_time": "2024-09-21T23:01:27.526Z"
   },
   {
    "duration": 16,
    "start_time": "2024-09-21T23:01:27.540Z"
   },
   {
    "duration": 17,
    "start_time": "2024-09-21T23:01:27.558Z"
   },
   {
    "duration": 86,
    "start_time": "2024-09-21T23:01:27.576Z"
   },
   {
    "duration": 21,
    "start_time": "2024-09-21T23:01:27.664Z"
   },
   {
    "duration": 103,
    "start_time": "2024-09-21T23:01:27.686Z"
   },
   {
    "duration": 5,
    "start_time": "2024-09-21T23:01:27.790Z"
   },
   {
    "duration": 4,
    "start_time": "2024-09-21T23:01:27.797Z"
   },
   {
    "duration": 11,
    "start_time": "2024-09-21T23:01:27.803Z"
   },
   {
    "duration": 88,
    "start_time": "2024-09-21T23:01:27.815Z"
   },
   {
    "duration": 82,
    "start_time": "2024-09-21T23:01:27.904Z"
   },
   {
    "duration": 81,
    "start_time": "2024-09-21T23:01:27.988Z"
   },
   {
    "duration": 65,
    "start_time": "2024-09-21T23:01:28.071Z"
   },
   {
    "duration": 64,
    "start_time": "2024-09-21T23:01:28.153Z"
   },
   {
    "duration": 5,
    "start_time": "2024-09-21T23:01:28.218Z"
   },
   {
    "duration": 45,
    "start_time": "2024-09-21T23:01:28.225Z"
   },
   {
    "duration": 14,
    "start_time": "2024-09-21T23:01:28.272Z"
   },
   {
    "duration": 23,
    "start_time": "2024-09-21T23:01:28.288Z"
   },
   {
    "duration": 48,
    "start_time": "2024-09-21T23:01:28.312Z"
   }
  ],
  "kernelspec": {
   "display_name": "Python 3 (ipykernel)",
   "language": "python",
   "name": "python3"
  },
  "language_info": {
   "codemirror_mode": {
    "name": "ipython",
    "version": 3
   },
   "file_extension": ".py",
   "mimetype": "text/x-python",
   "name": "python",
   "nbconvert_exporter": "python",
   "pygments_lexer": "ipython3",
   "version": "3.9.18"
  },
  "toc": {
   "base_numbering": 1,
   "nav_menu": {},
   "number_sections": true,
   "sideBar": true,
   "skip_h1_title": true,
   "title_cell": "Table of Contents",
   "title_sidebar": "Contents",
   "toc_cell": true,
   "toc_position": {},
   "toc_section_display": true,
   "toc_window_display": false
  }
 },
 "nbformat": 4,
 "nbformat_minor": 5
}
